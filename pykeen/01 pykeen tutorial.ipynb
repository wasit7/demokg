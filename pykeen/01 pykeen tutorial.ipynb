{
 "cells": [
  {
   "cell_type": "markdown",
   "id": "d5f89d00",
   "metadata": {},
   "source": [
    "# PyKEEN Tutorial\n",
    "\n",
    "This tutorial will guide you through the process of using PyKEEN for knowledge graph embedding. We will cover the following topics:\n",
    "\n",
    "1. Data Preparation\n",
    "2. Creating SPO triples\n",
    "3. Setting up Models\n",
    "4. Evaluations\n",
    "\n",
    "Before we start, make sure you have installed the PyKEEN library. If not, you can install it by running `!pip install pykeen` in a code cell."
   ]
  },
  {
   "cell_type": "markdown",
   "id": "a13325e3",
   "metadata": {},
   "source": [
    "## 1. Data Preparation\n",
    "\n",
    "In this section, we will load and prepare our data. The data should be in a TSV (Tab-Separated Values) format. We will use pandas to load the data and prepare it for PyKEEN."
   ]
  },
  {
   "cell_type": "code",
   "execution_count": 1,
   "id": "100a4452",
   "metadata": {},
   "outputs": [
    {
     "data": {
      "text/html": [
       "<div>\n",
       "<style scoped>\n",
       "    .dataframe tbody tr th:only-of-type {\n",
       "        vertical-align: middle;\n",
       "    }\n",
       "\n",
       "    .dataframe tbody tr th {\n",
       "        vertical-align: top;\n",
       "    }\n",
       "\n",
       "    .dataframe thead th {\n",
       "        text-align: right;\n",
       "    }\n",
       "</style>\n",
       "<table border=\"1\" class=\"dataframe\">\n",
       "  <thead>\n",
       "    <tr style=\"text-align: right;\">\n",
       "      <th></th>\n",
       "      <th>subject</th>\n",
       "      <th>predicate</th>\n",
       "      <th>object</th>\n",
       "    </tr>\n",
       "  </thead>\n",
       "  <tbody>\n",
       "    <tr>\n",
       "      <th>0</th>\n",
       "      <td>Alice</td>\n",
       "      <td>like</td>\n",
       "      <td>movie</td>\n",
       "    </tr>\n",
       "    <tr>\n",
       "      <th>1</th>\n",
       "      <td>Bob</td>\n",
       "      <td>like</td>\n",
       "      <td>movie</td>\n",
       "    </tr>\n",
       "    <tr>\n",
       "      <th>2</th>\n",
       "      <td>Charlie</td>\n",
       "      <td>like</td>\n",
       "      <td>movie</td>\n",
       "    </tr>\n",
       "    <tr>\n",
       "      <th>3</th>\n",
       "      <td>David</td>\n",
       "      <td>like</td>\n",
       "      <td>music</td>\n",
       "    </tr>\n",
       "    <tr>\n",
       "      <th>4</th>\n",
       "      <td>Eve</td>\n",
       "      <td>like</td>\n",
       "      <td>music</td>\n",
       "    </tr>\n",
       "    <tr>\n",
       "      <th>5</th>\n",
       "      <td>Alice</td>\n",
       "      <td>has</td>\n",
       "      <td>cat</td>\n",
       "    </tr>\n",
       "    <tr>\n",
       "      <th>6</th>\n",
       "      <td>Bob</td>\n",
       "      <td>has</td>\n",
       "      <td>cat</td>\n",
       "    </tr>\n",
       "    <tr>\n",
       "      <th>7</th>\n",
       "      <td>David</td>\n",
       "      <td>has</td>\n",
       "      <td>dog</td>\n",
       "    </tr>\n",
       "    <tr>\n",
       "      <th>8</th>\n",
       "      <td>Eve</td>\n",
       "      <td>has</td>\n",
       "      <td>dog</td>\n",
       "    </tr>\n",
       "    <tr>\n",
       "      <th>9</th>\n",
       "      <td>Frank</td>\n",
       "      <td>has</td>\n",
       "      <td>dog</td>\n",
       "    </tr>\n",
       "    <tr>\n",
       "      <th>10</th>\n",
       "      <td>David</td>\n",
       "      <td>has</td>\n",
       "      <td>cat</td>\n",
       "    </tr>\n",
       "  </tbody>\n",
       "</table>\n",
       "</div>"
      ],
      "text/plain": [
       "    subject predicate object\n",
       "0     Alice      like  movie\n",
       "1       Bob      like  movie\n",
       "2   Charlie      like  movie\n",
       "3     David      like  music\n",
       "4       Eve      like  music\n",
       "5     Alice       has    cat\n",
       "6       Bob       has    cat\n",
       "7     David       has    dog\n",
       "8       Eve       has    dog\n",
       "9     Frank       has    dog\n",
       "10    David       has    cat"
      ]
     },
     "execution_count": 1,
     "metadata": {},
     "output_type": "execute_result"
    }
   ],
   "source": [
    "import pandas as pd\n",
    "\n",
    "# Define the subjects, predicates, and objects\n",
    "subjects =   ['Alice', 'Bob', 'Charlie', 'David', 'Eve', 'Alice', 'Bob', 'David', 'Eve', 'Frank', 'David']\n",
    "predicates = ['like', 'like', 'like', 'like', 'like', 'has', 'has', 'has' , 'has','has', 'has']\n",
    "objects =    ['movie', 'movie', 'movie', 'music', 'music', 'cat', 'cat', 'dog', 'dog', 'dog', 'cat']\n",
    "\n",
    "# Create a dataframe\n",
    "df = pd.DataFrame({'subject': subjects, 'predicate': predicates, 'object': objects})\n",
    "\n",
    "# Save the dataframe to a TSV file\n",
    "df.to_csv('dataset10.csv', sep=',', index=False, header=False)\n",
    "df.to_csv('dataset10.tsv', sep='\\t', index=False, header=False)\n",
    "\n",
    "df"
   ]
  },
  {
   "cell_type": "markdown",
   "id": "a29c7587",
   "metadata": {},
   "source": [
    "## 2. Creating SPO triples\n",
    "\n",
    "Once we have our data loaded, we need to create SPO (Subject-Predicate-Object) triples. These triples represent the relationships between entities in our knowledge graph. In PyKEEN, we can use the `TriplesFactory` class to create these triples."
   ]
  },
  {
   "cell_type": "code",
   "execution_count": 2,
   "id": "169443e1",
   "metadata": {},
   "outputs": [
    {
     "name": "stderr",
     "output_type": "stream",
     "text": [
      "/home/wasit/miniconda3/envs/pykeen-tutorials/lib/python3.8/site-packages/tqdm/auto.py:21: TqdmWarning: IProgress not found. Please update jupyter and ipywidgets. See https://ipywidgets.readthedocs.io/en/stable/user_install.html\n",
      "  from .autonotebook import tqdm as notebook_tqdm\n",
      "Reconstructing all label-based triples. This is expensive and rarely needed.\n"
     ]
    },
    {
     "data": {
      "text/plain": [
       "array([['Alice', 'has', 'cat'],\n",
       "       ['Alice', 'like', 'movie'],\n",
       "       ['Bob', 'has', 'cat'],\n",
       "       ['Bob', 'like', 'movie'],\n",
       "       ['Charlie', 'like', 'movie'],\n",
       "       ['David', 'has', 'cat'],\n",
       "       ['David', 'has', 'dog'],\n",
       "       ['David', 'like', 'music'],\n",
       "       ['Eve', 'has', 'dog'],\n",
       "       ['Eve', 'like', 'music'],\n",
       "       ['Frank', 'has', 'dog']], dtype='<U7')"
      ]
     },
     "execution_count": 2,
     "metadata": {},
     "output_type": "execute_result"
    }
   ],
   "source": [
    "from pykeen.triples import TriplesFactory\n",
    "\n",
    "# Assuming your dataframe has columns 'subject', 'predicate', 'object'\n",
    "triples_factory = TriplesFactory.from_labeled_triples(\n",
    "    triples=df[['subject', 'predicate', 'object']].values,\n",
    ")\n",
    "\n",
    "# Display the first few triples\n",
    "triples_factory.triples"
   ]
  },
  {
   "cell_type": "code",
   "execution_count": 3,
   "id": "a5d36025",
   "metadata": {},
   "outputs": [
    {
     "name": "stderr",
     "output_type": "stream",
     "text": [
      "Reconstructing all label-based triples. This is expensive and rarely needed.\n"
     ]
    },
    {
     "name": "stdout",
     "output_type": "stream",
     "text": [
      " 0:Alice   0:has      6:cat    \n",
      " 0:Alice   1:like     8:movie  \n",
      " 1:Bob     0:has      6:cat    \n",
      " 1:Bob     1:like     8:movie  \n",
      " 2:Charlie 1:like     8:movie  \n",
      " 3:David   0:has      6:cat    \n",
      " 3:David   0:has      7:dog    \n",
      " 3:David   1:like     9:music  \n",
      " 4:Eve     0:has      7:dog    \n",
      " 4:Eve     1:like     9:music  \n",
      " 5:Frank   0:has      7:dog    \n"
     ]
    }
   ],
   "source": [
    "# training, validation, testing = triples_factory.split(ratios=(.6, .2, .2))\n",
    "training = triples_factory\n",
    "validation = triples_factory\n",
    "testing = triples_factory\n",
    "\n",
    "d=training\n",
    "id_to_entity={v: k for k, v in d.entity_to_id.items()}\n",
    "id_to_relation={v: k for k, v in d.relation_to_id.items()}\n",
    "\n",
    "for i in d.map_triples(d.triples):\n",
    "    s,p,o =int(i[0]), int(i[1]), int(i[2])\n",
    "    h,r,t = id_to_entity[s], id_to_relation[p], id_to_entity[o]\n",
    "    print(f\"{s:2d}:{h:7}{p:2d}:{r:7} {o:2d}:{t:7}\")"
   ]
  },
  {
   "cell_type": "markdown",
   "id": "e70db559",
   "metadata": {},
   "source": [
    "## 3. Setting up Models\n",
    "\n",
    "Now that we have our triples, we can set up our knowledge graph embedding model. PyKEEN provides several models for this purpose. In this tutorial, we will use the TransE model as an example. We will also split our data into training and testing sets."
   ]
  },
  {
   "cell_type": "code",
   "execution_count": 4,
   "id": "0ba5c071",
   "metadata": {},
   "outputs": [
    {
     "name": "stderr",
     "output_type": "stream",
     "text": [
      "No random seed is specified. Setting to 1645440287.\n",
      "No cuda devices were available. The model runs on CPU\n",
      "Training epochs on cpu: 100%|██████████████████████████████████████████████████████████████████████████████████████████████████████████████| 50/50 [00:03<00:00, 13.50epoch/s, loss=0.562, prev_loss=0.508]\n",
      "INFO:pykeen.evaluation.evaluator:Currently automatic memory optimization only supports GPUs, but you're using a CPU. Therefore, the batch_size will be set to the default value.\n",
      "INFO:pykeen.evaluation.evaluator:No evaluation batch_size provided. Setting batch_size to '32'.\n",
      "Evaluating on cpu: 100%|█████████████████████████████████████████████████████████████████████████████████████████████████████████████████████████████████████████████| 11.0/11.0 [00:00<00:00, 303triple/s]\n",
      "INFO:pykeen.evaluation.evaluator:Evaluation took 0.04s seconds\n"
     ]
    },
    {
     "data": {
      "text/plain": [
       "<Axes: title={'center': 'Losses Plot'}, xlabel='Epoch', ylabel='softplus Loss'>"
      ]
     },
     "execution_count": 4,
     "metadata": {},
     "output_type": "execute_result"
    },
    {
     "data": {
      "image/png": "[encoded data removed]",
      "text/plain": [
       "<Figure size 640x480 with 1 Axes>"
      ]
     },
     "metadata": {},
     "output_type": "display_data"
    }
   ],
   "source": [
    "from pykeen.pipeline import pipeline\n",
    "\n",
    "\n",
    "\n",
    "result = pipeline(\n",
    "    model='TransE',\n",
    "    loss=\"softplus\",\n",
    "    training=training,\n",
    "    testing=testing,\n",
    "    validation=validation,\n",
    "    model_kwargs=dict(embedding_dim=3, random_seed=42),  # Increase the embedding dimension\n",
    "    optimizer_kwargs=dict(lr=0.1),  # Adjust the learning rate\n",
    "    training_kwargs=dict(num_epochs=50, use_tqdm_batch=False),  # Increase the number of epochs\n",
    ")\n",
    "\n",
    "# The trained model is stored in the pipeline result\n",
    "model = result.model\n",
    "\n",
    "#plot loss\n",
    "result.plot_losses()"
   ]
  },
  {
   "cell_type": "markdown",
   "id": "60f35cdf",
   "metadata": {},
   "source": [
    "## 4. Evaluations\n",
    "\n",
    "After training our model, we can evaluate its performance. PyKEEN provides several evaluation metrics, such as Hits@10, Mean Rank, and Mean Reciprocal Rank. These metrics can be calculated using the `Evaluator` class."
   ]
  },
  {
   "cell_type": "code",
   "execution_count": 5,
   "id": "ae0309a7",
   "metadata": {},
   "outputs": [
    {
     "name": "stderr",
     "output_type": "stream",
     "text": [
      "INFO:pykeen.evaluation.evaluator:Currently automatic memory optimization only supports GPUs, but you're using a CPU. Therefore, the batch_size will be set to the default value.\n",
      "INFO:pykeen.evaluation.evaluator:No evaluation batch_size provided. Setting batch_size to '32'.\n",
      "Evaluating on cpu: 100%|█████████████████████████████████████████████████████████████████████████████████████████████████████████████████████████████████████████████| 11.0/11.0 [00:00<00:00, 324triple/s]\n",
      "INFO:pykeen.evaluation.evaluator:Evaluation took 0.04s seconds\n"
     ]
    },
    {
     "name": "stdout",
     "output_type": "stream",
     "text": [
      "Hits@1: 0.7727272727272727\n",
      "Hits@3: 0.9545454545454546\n",
      "Hits@5: 1.0\n",
      "Hits@10: 1.0\n",
      "Mean Reciprocal Rank: 0.8598485589027405\n"
     ]
    }
   ],
   "source": [
    "from pykeen.evaluation import RankBasedEvaluator\n",
    "# The result object also contains the evaluation metrics result.metric_results.to_df()\n",
    "\n",
    "# Create an evaluator\n",
    "evaluator = RankBasedEvaluator()\n",
    "\n",
    "# Evaluate the model\n",
    "metrics = evaluator.evaluate(result.model, testing.mapped_triples, additional_filter_triples=[training.mapped_triples, validation.mapped_triples])\n",
    "\n",
    "# Print the metrics\n",
    "print(f\"Hits@1: {metrics.get_metric('hits@1')}\")\n",
    "print(f\"Hits@3: {metrics.get_metric('hits@3')}\")\n",
    "print(f\"Hits@5: {metrics.get_metric('hits@5')}\")\n",
    "print(f\"Hits@10: {metrics.get_metric('hits@10')}\")\n",
    "print(f\"Mean Reciprocal Rank: {metrics.get_metric('mean_reciprocal_rank')}\")"
   ]
  },
  {
   "cell_type": "markdown",
   "id": "6020fbd6",
   "metadata": {},
   "source": [
    "## 5. Embedding Visualization\n",
    "\n",
    "Visualizing the embeddings can provide some insights into the relationships between entities in our knowledge graph. We can use Principal Component Analysis (PCA) to reduce the dimensionality of our embeddings and then plot them."
   ]
  },
  {
   "cell_type": "code",
   "execution_count": 6,
   "id": "1e2f10c5",
   "metadata": {},
   "outputs": [
    {
     "data": {
      "text/plain": [
       "(-1.0, 1.0)"
      ]
     },
     "execution_count": 6,
     "metadata": {},
     "output_type": "execute_result"
    },
    {
     "data": {
      "image/png": "[encoded data removed]",
      "text/plain": [
       "<Figure size 600x600 with 1 Axes>"
      ]
     },
     "metadata": {},
     "output_type": "display_data"
    }
   ],
   "source": [
    "import numpy as np\n",
    "import matplotlib.pyplot as plt\n",
    "from sklearn.decomposition import PCA\n",
    "\n",
    "plt.figure(figsize=(6, 6))\n",
    "pca = PCA(n_components=2)\n",
    "entity_embeddings = model.entity_representations[0](indices=None).detach().numpy()\n",
    "m = pca.fit(entity_embeddings)\n",
    "\n",
    "eu = m.transform(entity_embeddings)\n",
    "# plt.plot(eu[:, 0], eu[:, 1],'.b')\n",
    "for i, entity in enumerate(triples_factory.entity_id_to_label):\n",
    "    plt.annotate(\n",
    "        text=id_to_entity[entity],\n",
    "        xy=(eu[i, 0], eu[i, 1]),\n",
    "        color=\"tab:blue\",\n",
    "        ha=\"center\", va=\"center\"\n",
    "    )\n",
    "\n",
    "    \n",
    "relation_embeddings = model.relation_representations[0](indices=None).detach().numpy()\n",
    "ru = pca.transform(relation_embeddings)\n",
    "for i, relation in enumerate(triples_factory.relation_id_to_label):\n",
    "    plt.annotate(\n",
    "        text=id_to_relation[relation],\n",
    "        xy=(0,0), xytext=(ru[i, 0], ru[i, 1]),\n",
    "        arrowprops=dict(\n",
    "            arrowstyle=\"<-\",\n",
    "            color=\"tab:red\",\n",
    "            shrinkA=5,\n",
    "            shrinkB=5,\n",
    "            patchA=None,\n",
    "            patchB=None,\n",
    "            connectionstyle=\"arc3,rad=0.\"\n",
    "        )\n",
    "    )\n",
    "\n",
    "plt.xlim([-2, 2])\n",
    "plt.ylim([-1, 1])\n"
   ]
  },
  {
   "cell_type": "code",
   "execution_count": null,
   "id": "c37674c5",
   "metadata": {},
   "outputs": [],
   "source": []
  },
  {
   "cell_type": "code",
   "execution_count": null,
   "id": "cecf9626",
   "metadata": {},
   "outputs": [],
   "source": []
  }
 ],
 "metadata": {
  "kernelspec": {
   "display_name": "Python 3 (ipykernel)",
   "language": "python",
   "name": "python3"
  },
  "language_info": {
   "codemirror_mode": {
    "name": "ipython",
    "version": 3
   },
   "file_extension": ".py",
   "mimetype": "text/x-python",
   "name": "python",
   "nbconvert_exporter": "python",
   "pygments_lexer": "ipython3",
   "version": "3.8.16"
  }
 },
 "nbformat": 4,
 "nbformat_minor": 5
}
