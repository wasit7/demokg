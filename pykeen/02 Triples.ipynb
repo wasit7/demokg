{
 "cells": [
  {
   "cell_type": "code",
   "execution_count": 6,
   "id": "69275312",
   "metadata": {},
   "outputs": [
    {
     "data": {
      "text/html": [
       "<div>\n",
       "<style scoped>\n",
       "    .dataframe tbody tr th:only-of-type {\n",
       "        vertical-align: middle;\n",
       "    }\n",
       "\n",
       "    .dataframe tbody tr th {\n",
       "        vertical-align: top;\n",
       "    }\n",
       "\n",
       "    .dataframe thead th {\n",
       "        text-align: right;\n",
       "    }\n",
       "</style>\n",
       "<table border=\"1\" class=\"dataframe\">\n",
       "  <thead>\n",
       "    <tr style=\"text-align: right;\">\n",
       "      <th></th>\n",
       "      <th>subject</th>\n",
       "      <th>predicate</th>\n",
       "      <th>object</th>\n",
       "    </tr>\n",
       "  </thead>\n",
       "  <tbody>\n",
       "    <tr>\n",
       "      <th>0</th>\n",
       "      <td>Bob</td>\n",
       "      <td>like</td>\n",
       "      <td>movie</td>\n",
       "    </tr>\n",
       "    <tr>\n",
       "      <th>1</th>\n",
       "      <td>Charlie</td>\n",
       "      <td>like</td>\n",
       "      <td>movie</td>\n",
       "    </tr>\n",
       "    <tr>\n",
       "      <th>2</th>\n",
       "      <td>David</td>\n",
       "      <td>like</td>\n",
       "      <td>music</td>\n",
       "    </tr>\n",
       "    <tr>\n",
       "      <th>3</th>\n",
       "      <td>Eve</td>\n",
       "      <td>like</td>\n",
       "      <td>music</td>\n",
       "    </tr>\n",
       "    <tr>\n",
       "      <th>4</th>\n",
       "      <td>Alice</td>\n",
       "      <td>has</td>\n",
       "      <td>cat</td>\n",
       "    </tr>\n",
       "    <tr>\n",
       "      <th>5</th>\n",
       "      <td>Bob</td>\n",
       "      <td>has</td>\n",
       "      <td>cat</td>\n",
       "    </tr>\n",
       "    <tr>\n",
       "      <th>6</th>\n",
       "      <td>David</td>\n",
       "      <td>has</td>\n",
       "      <td>dog</td>\n",
       "    </tr>\n",
       "    <tr>\n",
       "      <th>7</th>\n",
       "      <td>Eve</td>\n",
       "      <td>has</td>\n",
       "      <td>dog</td>\n",
       "    </tr>\n",
       "    <tr>\n",
       "      <th>8</th>\n",
       "      <td>Frank</td>\n",
       "      <td>has</td>\n",
       "      <td>dog</td>\n",
       "    </tr>\n",
       "    <tr>\n",
       "      <th>9</th>\n",
       "      <td>David</td>\n",
       "      <td>has</td>\n",
       "      <td>cat</td>\n",
       "    </tr>\n",
       "  </tbody>\n",
       "</table>\n",
       "</div>"
      ],
      "text/plain": [
       "   subject predicate object\n",
       "0      Bob      like  movie\n",
       "1  Charlie      like  movie\n",
       "2    David      like  music\n",
       "3      Eve      like  music\n",
       "4    Alice       has    cat\n",
       "5      Bob       has    cat\n",
       "6    David       has    dog\n",
       "7      Eve       has    dog\n",
       "8    Frank       has    dog\n",
       "9    David       has    cat"
      ]
     },
     "execution_count": 6,
     "metadata": {},
     "output_type": "execute_result"
    }
   ],
   "source": [
    "import pandas as pd\n",
    "\n",
    "df=pd.read_csv('dataset10.tsv', sep='\\t',header=0)\n",
    "df.columns= ['subject', 'predicate', 'object']\n",
    "df"
   ]
  },
  {
   "cell_type": "code",
   "execution_count": 7,
   "id": "c3fc1ebc",
   "metadata": {},
   "outputs": [
    {
     "name": "stderr",
     "output_type": "stream",
     "text": [
      "Reconstructing all label-based triples. This is expensive and rarely needed.\n"
     ]
    },
    {
     "data": {
      "text/plain": [
       "array([['Alice', 'has', 'cat'],\n",
       "       ['Bob', 'has', 'cat'],\n",
       "       ['Bob', 'like', 'movie'],\n",
       "       ['Charlie', 'like', 'movie'],\n",
       "       ['David', 'has', 'cat'],\n",
       "       ['David', 'has', 'dog'],\n",
       "       ['David', 'like', 'music'],\n",
       "       ['Eve', 'has', 'dog'],\n",
       "       ['Eve', 'like', 'music'],\n",
       "       ['Frank', 'has', 'dog']], dtype='<U7')"
      ]
     },
     "execution_count": 7,
     "metadata": {},
     "output_type": "execute_result"
    }
   ],
   "source": [
    "from pykeen.triples import TriplesFactory\n",
    "\n",
    "# Assuming your dataframe has columns 'subject', 'predicate', 'object'\n",
    "triples_factory = TriplesFactory.from_labeled_triples(\n",
    "    triples=df[['subject', 'predicate', 'object']].values,\n",
    ")\n",
    "\n",
    "# Display the first few triples\n",
    "triples_factory.triples"
   ]
  },
  {
   "cell_type": "code",
   "execution_count": 8,
   "id": "86429641",
   "metadata": {},
   "outputs": [],
   "source": [
    "# training, validation, testing = triples_factory.split(ratios=(.6, .2, .2))\n",
    "training = triples_factory\n",
    "validation = triples_factory\n",
    "testing = triples_factory\n",
    "\n",
    "d=training"
   ]
  },
  {
   "cell_type": "code",
   "execution_count": 9,
   "id": "3097af24",
   "metadata": {},
   "outputs": [
    {
     "data": {
      "text/plain": [
       "{'Alice': 0,\n",
       " 'Bob': 1,\n",
       " 'Charlie': 2,\n",
       " 'David': 3,\n",
       " 'Eve': 4,\n",
       " 'Frank': 5,\n",
       " 'cat': 6,\n",
       " 'dog': 7,\n",
       " 'movie': 8,\n",
       " 'music': 9}"
      ]
     },
     "execution_count": 9,
     "metadata": {},
     "output_type": "execute_result"
    }
   ],
   "source": [
    "d.entity_to_id"
   ]
  },
  {
   "cell_type": "code",
   "execution_count": 10,
   "id": "d5583f7c",
   "metadata": {},
   "outputs": [
    {
     "data": {
      "text/plain": [
       "{'has': 0, 'like': 1}"
      ]
     },
     "execution_count": 10,
     "metadata": {},
     "output_type": "execute_result"
    }
   ],
   "source": [
    "d.relation_to_id"
   ]
  },
  {
   "cell_type": "code",
   "execution_count": 11,
   "id": "ee2e2d4c",
   "metadata": {},
   "outputs": [
    {
     "name": "stderr",
     "output_type": "stream",
     "text": [
      "Reconstructing all label-based triples. This is expensive and rarely needed.\n"
     ]
    },
    {
     "data": {
      "text/plain": [
       "tensor([[0, 0, 6],\n",
       "        [1, 0, 6],\n",
       "        [1, 1, 8],\n",
       "        [2, 1, 8],\n",
       "        [3, 0, 6],\n",
       "        [3, 0, 7],\n",
       "        [3, 1, 9],\n",
       "        [4, 0, 7],\n",
       "        [4, 1, 9],\n",
       "        [5, 0, 7]])"
      ]
     },
     "execution_count": 11,
     "metadata": {},
     "output_type": "execute_result"
    }
   ],
   "source": [
    "d.map_triples(d.triples)"
   ]
  },
  {
   "cell_type": "code",
   "execution_count": 12,
   "id": "0bd051c9",
   "metadata": {},
   "outputs": [
    {
     "name": "stderr",
     "output_type": "stream",
     "text": [
      "Reconstructing all label-based triples. This is expensive and rarely needed.\n"
     ]
    },
    {
     "data": {
      "text/plain": [
       "array([['Alice', 'has', 'cat'],\n",
       "       ['Bob', 'has', 'cat'],\n",
       "       ['Bob', 'like', 'movie'],\n",
       "       ['Charlie', 'like', 'movie'],\n",
       "       ['David', 'has', 'cat'],\n",
       "       ['David', 'has', 'dog'],\n",
       "       ['David', 'like', 'music'],\n",
       "       ['Eve', 'has', 'dog'],\n",
       "       ['Eve', 'like', 'music'],\n",
       "       ['Frank', 'has', 'dog']], dtype='<U7')"
      ]
     },
     "execution_count": 12,
     "metadata": {},
     "output_type": "execute_result"
    }
   ],
   "source": [
    "d.triples"
   ]
  },
  {
   "cell_type": "code",
   "execution_count": 13,
   "id": "822a9c7f",
   "metadata": {},
   "outputs": [
    {
     "name": "stderr",
     "output_type": "stream",
     "text": [
      "Reconstructing all label-based triples. This is expensive and rarely needed.\n"
     ]
    },
    {
     "name": "stdout",
     "output_type": "stream",
     "text": [
      " 0:Alice   0:has      6:cat    \n",
      " 1:Bob     0:has      6:cat    \n",
      " 1:Bob     1:like     8:movie  \n",
      " 2:Charlie 1:like     8:movie  \n",
      " 3:David   0:has      6:cat    \n",
      " 3:David   0:has      7:dog    \n",
      " 3:David   1:like     9:music  \n",
      " 4:Eve     0:has      7:dog    \n",
      " 4:Eve     1:like     9:music  \n",
      " 5:Frank   0:has      7:dog    \n"
     ]
    }
   ],
   "source": [
    "id_to_entity={v: k for k, v in d.entity_to_id.items()}\n",
    "id_to_relation={v: k for k, v in d.relation_to_id.items()}\n",
    "\n",
    "for i in d.map_triples(d.triples):\n",
    "    s,p,o =int(i[0]), int(i[1]), int(i[2])\n",
    "    h,r,t = id_to_entity[s], id_to_relation[p], id_to_entity[o]\n",
    "    print(f\"{s:2d}:{h:7}{p:2d}:{r:7} {o:2d}:{t:7}\")"
   ]
  }
 ],
 "metadata": {
  "kernelspec": {
   "display_name": "Python 3 (ipykernel)",
   "language": "python",
   "name": "python3"
  },
  "language_info": {
   "codemirror_mode": {
    "name": "ipython",
    "version": 3
   },
   "file_extension": ".py",
   "mimetype": "text/x-python",
   "name": "python",
   "nbconvert_exporter": "python",
   "pygments_lexer": "ipython3",
   "version": "3.8.16"
  }
 },
 "nbformat": 4,
 "nbformat_minor": 5
}
