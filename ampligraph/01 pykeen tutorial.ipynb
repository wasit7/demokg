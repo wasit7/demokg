{
 "cells": [
  {
   "cell_type": "markdown",
   "id": "d5f89d00",
   "metadata": {},
   "source": [
    "# PyKEEN Tutorial\n",
    "\n",
    "This tutorial will guide you through the process of using PyKEEN for knowledge graph embedding. We will cover the following topics:\n",
    "\n",
    "1. Data Preparation\n",
    "2. Creating SPO triples\n",
    "3. Setting up Models\n",
    "4. Evaluations\n",
    "\n",
    "Before we start, make sure you have installed the PyKEEN library. If not, you can install it by running `!pip install pykeen` in a code cell."
   ]
  },
  {
   "cell_type": "markdown",
   "id": "a13325e3",
   "metadata": {},
   "source": [
    "## 1. Data Preparation\n",
    "\n",
    "In this section, we will load and prepare our data. The data should be in a TSV (Tab-Separated Values) format. We will use pandas to load the data and prepare it for PyKEEN."
   ]
  },
  {
   "cell_type": "code",
   "execution_count": 1,
   "id": "100a4452",
   "metadata": {},
   "outputs": [
    {
     "data": {
      "text/html": [
       "<div>\n",
       "<style scoped>\n",
       "    .dataframe tbody tr th:only-of-type {\n",
       "        vertical-align: middle;\n",
       "    }\n",
       "\n",
       "    .dataframe tbody tr th {\n",
       "        vertical-align: top;\n",
       "    }\n",
       "\n",
       "    .dataframe thead th {\n",
       "        text-align: right;\n",
       "    }\n",
       "</style>\n",
       "<table border=\"1\" class=\"dataframe\">\n",
       "  <thead>\n",
       "    <tr style=\"text-align: right;\">\n",
       "      <th></th>\n",
       "      <th>subject</th>\n",
       "      <th>predicate</th>\n",
       "      <th>object</th>\n",
       "    </tr>\n",
       "  </thead>\n",
       "  <tbody>\n",
       "    <tr>\n",
       "      <th>0</th>\n",
       "      <td>Alice</td>\n",
       "      <td>like</td>\n",
       "      <td>movie</td>\n",
       "    </tr>\n",
       "    <tr>\n",
       "      <th>1</th>\n",
       "      <td>Bob</td>\n",
       "      <td>like</td>\n",
       "      <td>movie</td>\n",
       "    </tr>\n",
       "    <tr>\n",
       "      <th>2</th>\n",
       "      <td>Charlie</td>\n",
       "      <td>like</td>\n",
       "      <td>movie</td>\n",
       "    </tr>\n",
       "    <tr>\n",
       "      <th>3</th>\n",
       "      <td>David</td>\n",
       "      <td>like</td>\n",
       "      <td>music</td>\n",
       "    </tr>\n",
       "    <tr>\n",
       "      <th>4</th>\n",
       "      <td>Eve</td>\n",
       "      <td>like</td>\n",
       "      <td>music</td>\n",
       "    </tr>\n",
       "    <tr>\n",
       "      <th>5</th>\n",
       "      <td>Alice</td>\n",
       "      <td>has</td>\n",
       "      <td>cat</td>\n",
       "    </tr>\n",
       "    <tr>\n",
       "      <th>6</th>\n",
       "      <td>Bob</td>\n",
       "      <td>has</td>\n",
       "      <td>cat</td>\n",
       "    </tr>\n",
       "    <tr>\n",
       "      <th>7</th>\n",
       "      <td>David</td>\n",
       "      <td>has</td>\n",
       "      <td>dog</td>\n",
       "    </tr>\n",
       "    <tr>\n",
       "      <th>8</th>\n",
       "      <td>Eve</td>\n",
       "      <td>has</td>\n",
       "      <td>dog</td>\n",
       "    </tr>\n",
       "    <tr>\n",
       "      <th>9</th>\n",
       "      <td>Frank</td>\n",
       "      <td>has</td>\n",
       "      <td>dog</td>\n",
       "    </tr>\n",
       "    <tr>\n",
       "      <th>10</th>\n",
       "      <td>David</td>\n",
       "      <td>has</td>\n",
       "      <td>cat</td>\n",
       "    </tr>\n",
       "  </tbody>\n",
       "</table>\n",
       "</div>"
      ],
      "text/plain": [
       "    subject predicate object\n",
       "0     Alice      like  movie\n",
       "1       Bob      like  movie\n",
       "2   Charlie      like  movie\n",
       "3     David      like  music\n",
       "4       Eve      like  music\n",
       "5     Alice       has    cat\n",
       "6       Bob       has    cat\n",
       "7     David       has    dog\n",
       "8       Eve       has    dog\n",
       "9     Frank       has    dog\n",
       "10    David       has    cat"
      ]
     },
     "execution_count": 1,
     "metadata": {},
     "output_type": "execute_result"
    }
   ],
   "source": [
    "import pandas as pd\n",
    "\n",
    "# Define the subjects, predicates, and objects\n",
    "subjects =   ['Alice', 'Bob', 'Charlie', 'David', 'Eve', 'Alice', 'Bob', 'David', 'Eve', 'Frank', 'David']\n",
    "predicates = ['like', 'like', 'like', 'like', 'like', 'has', 'has', 'has' , 'has','has', 'has']\n",
    "objects =    ['movie', 'movie', 'movie', 'music', 'music', 'cat', 'cat', 'dog', 'dog', 'dog', 'cat']\n",
    "\n",
    "# Create a dataframe\n",
    "df = pd.DataFrame({'subject': subjects, 'predicate': predicates, 'object': objects})\n",
    "\n",
    "# Save the dataframe to a TSV file\n",
    "df.to_csv('dataset10.csv', sep=',', index=False, header=False)\n",
    "df.to_csv('dataset10.tsv', sep='\\t', index=False, header=False)\n",
    "\n",
    "df"
   ]
  },
  {
   "cell_type": "markdown",
   "id": "a29c7587",
   "metadata": {},
   "source": [
    "## 2. Creating SPO triples\n",
    "\n",
    "Once we have our data loaded, we need to create SPO (Subject-Predicate-Object) triples. These triples represent the relationships between entities in our knowledge graph. In PyKEEN, we can use the `TriplesFactory` class to create these triples."
   ]
  },
  {
   "cell_type": "code",
   "execution_count": 2,
   "id": "99307191",
   "metadata": {},
   "outputs": [
    {
     "data": {
      "text/html": [
       "<table>\n",
       "<thead>\n",
       "<tr><th>Key            </th><th>Value                   </th></tr>\n",
       "</thead>\n",
       "<tbody>\n",
       "<tr><td>OS             </td><td>posix                   </td></tr>\n",
       "<tr><td>Platform       </td><td>Linux                   </td></tr>\n",
       "<tr><td>Release        </td><td>5.15.0-73-generic       </td></tr>\n",
       "<tr><td>Time           </td><td>Sat Jun 10 21:49:43 2023</td></tr>\n",
       "<tr><td>Python         </td><td>3.8.16                  </td></tr>\n",
       "<tr><td>PyKEEN         </td><td>1.10.2-dev              </td></tr>\n",
       "<tr><td>PyKEEN Hash    </td><td>UNHASHED                </td></tr>\n",
       "<tr><td>PyKEEN Branch  </td><td>                        </td></tr>\n",
       "<tr><td>PyTorch        </td><td>2.0.1+cu117             </td></tr>\n",
       "<tr><td>CUDA Available?</td><td>false                   </td></tr>\n",
       "<tr><td>CUDA Version   </td><td>11.7                    </td></tr>\n",
       "<tr><td>cuDNN Version  </td><td>8500                    </td></tr>\n",
       "</tbody>\n",
       "</table>"
      ],
      "text/plain": [
       "<IPython.core.display.HTML object>"
      ]
     },
     "execution_count": 2,
     "metadata": {},
     "output_type": "execute_result"
    }
   ],
   "source": [
    "import pykeen\n",
    "pykeen.env()"
   ]
  },
  {
   "cell_type": "code",
   "execution_count": 3,
   "id": "169443e1",
   "metadata": {},
   "outputs": [
    {
     "name": "stderr",
     "output_type": "stream",
     "text": [
      "/home/wasit/miniconda3/envs/demokg/lib/python3.8/site-packages/tqdm/auto.py:21: TqdmWarning: IProgress not found. Please update jupyter and ipywidgets. See https://ipywidgets.readthedocs.io/en/stable/user_install.html\n",
      "  from .autonotebook import tqdm as notebook_tqdm\n",
      "Reconstructing all label-based triples. This is expensive and rarely needed.\n"
     ]
    },
    {
     "data": {
      "text/plain": [
       "array([['Alice', 'has', 'cat'],\n",
       "       ['Alice', 'like', 'movie'],\n",
       "       ['Bob', 'has', 'cat'],\n",
       "       ['Bob', 'like', 'movie'],\n",
       "       ['Charlie', 'like', 'movie'],\n",
       "       ['David', 'has', 'cat'],\n",
       "       ['David', 'has', 'dog'],\n",
       "       ['David', 'like', 'music'],\n",
       "       ['Eve', 'has', 'dog'],\n",
       "       ['Eve', 'like', 'music'],\n",
       "       ['Frank', 'has', 'dog']], dtype='<U7')"
      ]
     },
     "execution_count": 3,
     "metadata": {},
     "output_type": "execute_result"
    }
   ],
   "source": [
    "from pykeen.triples import TriplesFactory\n",
    "\n",
    "# Assuming your dataframe has columns 'subject', 'predicate', 'object'\n",
    "triples_factory = TriplesFactory.from_labeled_triples(\n",
    "    triples=df[['subject', 'predicate', 'object']].values,\n",
    ")\n",
    "\n",
    "# Display the first few triples\n",
    "triples_factory.triples"
   ]
  },
  {
   "cell_type": "code",
   "execution_count": 4,
   "id": "a5d36025",
   "metadata": {},
   "outputs": [],
   "source": [
    "# training, validation, testing = triples_factory.split(ratios=(.6, .2, .2))\n",
    "training = triples_factory\n",
    "validation = triples_factory\n",
    "testing = triples_factory\n",
    "\n",
    "# d=training\n",
    "# id_to_entity={v: k for k, v in d.entity_to_id.items()}\n",
    "# id_to_relation={v: k for k, v in d.relation_to_id.items()}\n",
    "\n",
    "# for i in d.map_triples(d.triples):\n",
    "#     s,p,o =int(i[0]), int(i[1]), int(i[2])\n",
    "#     h,r,t = id_to_entity[s], id_to_relation[p], id_to_entity[o]\n",
    "#     print(f\"{s:2d}:{h:7}{p:2d}:{r:7} {o:2d}:{t:7}\")"
   ]
  },
  {
   "cell_type": "markdown",
   "id": "e70db559",
   "metadata": {},
   "source": [
    "## 3. Setting up Models\n",
    "\n",
    "Now that we have our triples, we can set up our knowledge graph embedding model. PyKEEN provides several models for this purpose. In this tutorial, we will use the TransE model as an example. We will also split our data into training and testing sets."
   ]
  },
  {
   "cell_type": "code",
   "execution_count": 5,
   "id": "0ba5c071",
   "metadata": {},
   "outputs": [
    {
     "name": "stderr",
     "output_type": "stream",
     "text": [
      "No random seed is specified. Setting to 3065222434.\n",
      "No cuda devices were available. The model runs on CPU\n",
      "Training epochs on cpu: 100%|██████████████████████████████| 30/30 [00:02<00:00, 12.57epoch/s, loss=0.0602, prev_loss=0.238]\n",
      "INFO:pykeen.evaluation.evaluator:Currently automatic memory optimization only supports GPUs, but you're using a CPU. Therefore, the batch_size will be set to the default value.\n",
      "INFO:pykeen.evaluation.evaluator:No evaluation batch_size provided. Setting batch_size to '32'.\n",
      "Evaluating on cpu: 100%|██████████████████████████████████████████████████████████████| 11.0/11.0 [00:00<00:00, 323triple/s]\n",
      "INFO:pykeen.evaluation.evaluator:Evaluation took 0.04s seconds\n"
     ]
    },
    {
     "data": {
      "text/plain": [
       "<Axes: title={'center': 'Losses Plot'}, xlabel='Epoch', ylabel='marginranking Loss'>"
      ]
     },
     "execution_count": 5,
     "metadata": {},
     "output_type": "execute_result"
    },
    {
     "data": {
      "image/png": "[encoded data removed]",
      "text/plain": [
       "<Figure size 640x480 with 1 Axes>"
      ]
     },
     "metadata": {},
     "output_type": "display_data"
    }
   ],
   "source": [
    "from pykeen.pipeline import pipeline\n",
    "\n",
    "num_epochs=30\n",
    "embedding_dim=10\n",
    "\n",
    "result = pipeline(\n",
    "    model='TransE',\n",
    "#     loss=\"softplus\",\n",
    "    training=training,\n",
    "    testing=testing,\n",
    "    validation=validation,\n",
    "    model_kwargs=dict(embedding_dim=embedding_dim, random_seed=42),  # Increase the embedding dimension\n",
    "    optimizer_kwargs=dict(lr=0.1),  # Adjust the learning rate\n",
    "    training_kwargs=dict(num_epochs=num_epochs, use_tqdm_batch=False),  # Increase the number of epochs\n",
    "    negative_sampler='bernoulli',\n",
    "    training_loop='sLCWA',\n",
    "#     negative_sampler='basic',\n",
    ")\n",
    "\n",
    "# The trained model is stored in the pipeline result\n",
    "model = result.model\n",
    "\n",
    "#plot loss\n",
    "result.plot_losses()"
   ]
  },
  {
   "cell_type": "markdown",
   "id": "60f35cdf",
   "metadata": {},
   "source": [
    "## 4. Evaluations\n",
    "\n",
    "After training our model, we can evaluate its performance. PyKEEN provides several evaluation metrics, such as Hits@10, Mean Rank, and Mean Reciprocal Rank. These metrics can be calculated using the `Evaluator` class."
   ]
  },
  {
   "cell_type": "code",
   "execution_count": 6,
   "id": "ae0309a7",
   "metadata": {},
   "outputs": [
    {
     "name": "stderr",
     "output_type": "stream",
     "text": [
      "INFO:pykeen.evaluation.evaluator:Currently automatic memory optimization only supports GPUs, but you're using a CPU. Therefore, the batch_size will be set to the default value.\n",
      "INFO:pykeen.evaluation.evaluator:No evaluation batch_size provided. Setting batch_size to '32'.\n",
      "Evaluating on cpu: 100%|██████████████████████████████████████████████████████████████| 11.0/11.0 [00:00<00:00, 189triple/s]\n",
      "INFO:pykeen.evaluation.evaluator:Evaluation took 0.06s seconds\n"
     ]
    },
    {
     "name": "stdout",
     "output_type": "stream",
     "text": [
      "MRR: 0.81\n",
      "Hits@1: 0.64\n",
      "Hits@3: 0.95\n",
      "Hits@5: 1.00\n",
      "Hits@10: 1.00\n"
     ]
    }
   ],
   "source": [
    "from pykeen.evaluation import RankBasedEvaluator\n",
    "# The result object also contains the evaluation metrics result.metric_results.to_df()\n",
    "\n",
    "# Create an evaluator\n",
    "evaluator = RankBasedEvaluator()\n",
    "\n",
    "# Evaluate the model\n",
    "metrics = evaluator.evaluate(result.model, testing.mapped_triples, additional_filter_triples=[training.mapped_triples, validation.mapped_triples])\n",
    "\n",
    "# Print the metrics\n",
    "#Mean Reciprocal Rank\n",
    "print(f\"MRR: {metrics.get_metric('mean_reciprocal_rank'):0.2f}\")\n",
    "print(f\"Hits@1: {metrics.get_metric('hits@1'):0.2f}\")\n",
    "print(f\"Hits@3: {metrics.get_metric('hits@3'):0.2f}\")\n",
    "print(f\"Hits@5: {metrics.get_metric('hits@5'):0.2f}\")\n",
    "print(f\"Hits@10: {metrics.get_metric('hits@10'):0.2f}\")\n"
   ]
  },
  {
   "cell_type": "code",
   "execution_count": 7,
   "id": "c37674c5",
   "metadata": {},
   "outputs": [
    {
     "name": "stderr",
     "output_type": "stream",
     "text": [
      "WARNING:pykeen.predict:predict is an expensive operation, involving 200 score evaluations.\n",
      "WARNING:torch_max_mem.api:Using maximize_memory_utilization on non-CUDA tensors. This may lead to undocumented crashes due to CPU OOM killer.\n"
     ]
    },
    {
     "data": {
      "text/html": [
       "<div>\n",
       "<style scoped>\n",
       "    .dataframe tbody tr th:only-of-type {\n",
       "        vertical-align: middle;\n",
       "    }\n",
       "\n",
       "    .dataframe tbody tr th {\n",
       "        vertical-align: top;\n",
       "    }\n",
       "\n",
       "    .dataframe thead th {\n",
       "        text-align: right;\n",
       "    }\n",
       "</style>\n",
       "<table border=\"1\" class=\"dataframe\">\n",
       "  <thead>\n",
       "    <tr style=\"text-align: right;\">\n",
       "      <th></th>\n",
       "      <th>head_id</th>\n",
       "      <th>head_label</th>\n",
       "      <th>relation_id</th>\n",
       "      <th>relation_label</th>\n",
       "      <th>tail_id</th>\n",
       "      <th>tail_label</th>\n",
       "      <th>score</th>\n",
       "    </tr>\n",
       "  </thead>\n",
       "  <tbody>\n",
       "    <tr>\n",
       "      <th>1</th>\n",
       "      <td>0</td>\n",
       "      <td>Alice</td>\n",
       "      <td>0</td>\n",
       "      <td>has</td>\n",
       "      <td>5</td>\n",
       "      <td>dog</td>\n",
       "      <td>-6.274148</td>\n",
       "    </tr>\n",
       "    <tr>\n",
       "      <th>0</th>\n",
       "      <td>0</td>\n",
       "      <td>Alice</td>\n",
       "      <td>0</td>\n",
       "      <td>has</td>\n",
       "      <td>4</td>\n",
       "      <td>cat</td>\n",
       "      <td>-6.670362</td>\n",
       "    </tr>\n",
       "    <tr>\n",
       "      <th>5</th>\n",
       "      <td>3</td>\n",
       "      <td>Frank</td>\n",
       "      <td>1</td>\n",
       "      <td>like</td>\n",
       "      <td>6</td>\n",
       "      <td>music</td>\n",
       "      <td>-7.391073</td>\n",
       "    </tr>\n",
       "    <tr>\n",
       "      <th>3</th>\n",
       "      <td>1</td>\n",
       "      <td>Bob</td>\n",
       "      <td>0</td>\n",
       "      <td>has</td>\n",
       "      <td>5</td>\n",
       "      <td>dog</td>\n",
       "      <td>-7.529594</td>\n",
       "    </tr>\n",
       "    <tr>\n",
       "      <th>2</th>\n",
       "      <td>1</td>\n",
       "      <td>Bob</td>\n",
       "      <td>0</td>\n",
       "      <td>has</td>\n",
       "      <td>4</td>\n",
       "      <td>cat</td>\n",
       "      <td>-7.894056</td>\n",
       "    </tr>\n",
       "    <tr>\n",
       "      <th>4</th>\n",
       "      <td>2</td>\n",
       "      <td>Charlie</td>\n",
       "      <td>0</td>\n",
       "      <td>has</td>\n",
       "      <td>4</td>\n",
       "      <td>cat</td>\n",
       "      <td>-8.398788</td>\n",
       "    </tr>\n",
       "  </tbody>\n",
       "</table>\n",
       "</div>"
      ],
      "text/plain": [
       "   head_id head_label  relation_id relation_label  tail_id tail_label  \\\n",
       "1        0      Alice            0            has        5        dog   \n",
       "0        0      Alice            0            has        4        cat   \n",
       "5        3      Frank            1           like        6      music   \n",
       "3        1        Bob            0            has        5        dog   \n",
       "2        1        Bob            0            has        4        cat   \n",
       "4        2    Charlie            0            has        4        cat   \n",
       "\n",
       "      score  \n",
       "1 -6.274148  \n",
       "0 -6.670362  \n",
       "5 -7.391073  \n",
       "3 -7.529594  \n",
       "2 -7.894056  \n",
       "4 -8.398788  "
      ]
     },
     "execution_count": 7,
     "metadata": {},
     "output_type": "execute_result"
    }
   ],
   "source": [
    "import numpy as np\n",
    "from pykeen.predict import predict_all\n",
    "pack = predict_all(model=result.model, k=20)\n",
    "from pykeen.predict import predict_triples\n",
    "\n",
    "X_unseen = np.array([\n",
    "        ['Alice', 'has', 'cat'],\n",
    "        ['Bob', 'has', 'cat'],\n",
    "        ['Alice', 'has', 'dog'],\n",
    "        ['Bob', 'has', 'dog'],\n",
    "        ['Charlie', 'has', 'cat'],\n",
    "        ['Frank', 'like', 'music'],\n",
    "    ])\n",
    "\n",
    "X_unseen_factory = TriplesFactory.from_labeled_triples(\n",
    "    triples=X_unseen,\n",
    ")\n",
    "\n",
    "pack = predict_triples(model=result.model, triples=X_unseen_factory)\n",
    "df = pack.process(factory=X_unseen_factory).df\n",
    "\n",
    "df.nlargest(n=10, columns=\"score\")\n",
    "# pred = pack.process(factory=result.training)\n",
    "# pred_annotated = pred.add_membership_columns(training=result.training)\n",
    "# pred_annotated.df"
   ]
  },
  {
   "cell_type": "markdown",
   "id": "6020fbd6",
   "metadata": {},
   "source": [
    "## 5. Embedding Visualization\n",
    "\n",
    "Visualizing the embeddings can provide some insights into the relationships between entities in our knowledge graph. We can use Principal Component Analysis (PCA) to reduce the dimensionality of our embeddings and then plot them."
   ]
  },
  {
   "cell_type": "code",
   "execution_count": 8,
   "id": "1e2f10c5",
   "metadata": {},
   "outputs": [
    {
     "data": {
      "text/plain": [
       "(-2.0, 2.0)"
      ]
     },
     "execution_count": 8,
     "metadata": {},
     "output_type": "execute_result"
    },
    {
     "data": {
      "image/png": "[encoded data removed]",
      "text/plain": [
       "<Figure size 600x600 with 1 Axes>"
      ]
     },
     "metadata": {},
     "output_type": "display_data"
    }
   ],
   "source": [
    "import numpy as np\n",
    "import matplotlib.pyplot as plt\n",
    "from sklearn.decomposition import PCA\n",
    "\n",
    "entitie_list=list(triples_factory.entity_to_id.keys())\n",
    "relation_list =list(triples_factory.relation_to_id.keys())\n",
    "\n",
    "entity_embeddings = model.entity_representations[0](indices=None).detach().numpy()\n",
    "relation_embeddings = model.relation_representations[0](indices=None).detach().numpy()\n",
    "\n",
    "\n",
    "pca = PCA(n_components=2)\n",
    "m = pca.fit(entity_embeddings)\n",
    "\n",
    "\n",
    "plt.figure(figsize=(6, 6))\n",
    "eu = m.transform(entity_embeddings)\n",
    "plt.plot(eu[:, 0], eu[:, 1],'.g')\n",
    "for i, entity in enumerate(entitie_list):\n",
    "    plt.annotate(\n",
    "        text=entity,\n",
    "        xy=(eu[i, 0], eu[i, 1]),\n",
    "        color=\"tab:blue\",\n",
    "        ha=\"center\", va=\"center\"\n",
    "    )\n",
    "\n",
    "    \n",
    "ru = pca.transform(relation_embeddings)\n",
    "for i, relation in enumerate(relation_list):\n",
    "    plt.annotate(\n",
    "        text=relation,\n",
    "        xy=(0,0), xytext=(ru[i, 0], ru[i, 1]),\n",
    "        arrowprops=dict(\n",
    "            arrowstyle=\"<-\",\n",
    "            color=\"tab:red\",\n",
    "            shrinkA=5,\n",
    "            shrinkB=5,\n",
    "            patchA=None,\n",
    "            patchB=None,\n",
    "            connectionstyle=\"arc3,rad=0.\"\n",
    "        )\n",
    "    )\n",
    "\n",
    "plt.xlim([-2, 2])\n",
    "plt.ylim([-2, 2])\n"
   ]
  },
  {
   "cell_type": "code",
   "execution_count": 9,
   "id": "9aa7ad9e",
   "metadata": {},
   "outputs": [
    {
     "data": {
      "text/plain": [
       "TriplesFactory(num_entities=10, num_relations=2, create_inverse_triples=False, num_triples=11)"
      ]
     },
     "execution_count": 9,
     "metadata": {},
     "output_type": "execute_result"
    }
   ],
   "source": [
    "result.training"
   ]
  },
  {
   "cell_type": "code",
   "execution_count": null,
   "id": "cecf9626",
   "metadata": {},
   "outputs": [],
   "source": []
  },
  {
   "cell_type": "code",
   "execution_count": null,
   "id": "13302441",
   "metadata": {},
   "outputs": [],
   "source": []
  },
  {
   "cell_type": "code",
   "execution_count": null,
   "id": "6fa0cebc",
   "metadata": {},
   "outputs": [],
   "source": []
  },
  {
   "cell_type": "code",
   "execution_count": null,
   "id": "a144c0e0",
   "metadata": {},
   "outputs": [],
   "source": []
  }
 ],
 "metadata": {
  "kernelspec": {
   "display_name": "Python 3 (ipykernel)",
   "language": "python",
   "name": "python3"
  },
  "language_info": {
   "codemirror_mode": {
    "name": "ipython",
    "version": 3
   },
   "file_extension": ".py",
   "mimetype": "text/x-python",
   "name": "python",
   "nbconvert_exporter": "python",
   "pygments_lexer": "ipython3",
   "version": "3.8.16"
  }
 },
 "nbformat": 4,
 "nbformat_minor": 5
}
