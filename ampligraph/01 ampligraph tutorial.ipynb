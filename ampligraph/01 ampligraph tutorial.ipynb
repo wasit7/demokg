{
 "cells": [
  {
   "cell_type": "markdown",
   "id": "d5f89d00",
   "metadata": {},
   "source": [
    "# AmpliGraph Tutorial\n",
    "\n",
    "This tutorial will guide you through the process of using AmpliGraph for knowledge graph embedding. We will cover the following topics:\n",
    "\n",
    "1. Data Preparation\n",
    "2. Creating SPO triples\n",
    "3. Setting up Models\n",
    "4. Evaluations\n",
    "\n",
    "Before we start, make sure you have installed the AmpliGraph library. If not, you can install it by running `!pip install ampligraph` in a code cell."
   ]
  },
  {
   "cell_type": "code",
   "execution_count": 1,
   "id": "c24d5323",
   "metadata": {},
   "outputs": [],
   "source": [
    "import sys\n",
    "sys.path.append('../..')\n",
    "import os\n",
    "os.environ['CUDA_VISIBLE_DEVICES'] = '0'\n",
    "os.environ['TF_ENABLE_ONEDNN_OPTS'] = '0'\n",
    "os.environ['TF_CPP_MIN_LOG_LEVEL'] = '3'\n",
    "import tensorflow as tf\n",
    "tf.get_logger().setLevel('ERROR')"
   ]
  },
  {
   "cell_type": "code",
   "execution_count": 2,
   "id": "54c6174a",
   "metadata": {},
   "outputs": [],
   "source": [
    "# Import necessary libraries\n",
    "import numpy as np\n",
    "import pandas as pd\n",
    "from ampligraph.utils import save_model, restore_model"
   ]
  },
  {
   "cell_type": "markdown",
   "id": "a13325e3",
   "metadata": {},
   "source": [
    "## 1. Data Preparation\n",
    "\n",
    "In this section, we will load and prepare our data. The data should be in a TSV (Tab-Separated Values) format. "
   ]
  },
  {
   "cell_type": "code",
   "execution_count": 3,
   "id": "100a4452",
   "metadata": {},
   "outputs": [
    {
     "data": {
      "text/html": [
       "<div>\n",
       "<style scoped>\n",
       "    .dataframe tbody tr th:only-of-type {\n",
       "        vertical-align: middle;\n",
       "    }\n",
       "\n",
       "    .dataframe tbody tr th {\n",
       "        vertical-align: top;\n",
       "    }\n",
       "\n",
       "    .dataframe thead th {\n",
       "        text-align: right;\n",
       "    }\n",
       "</style>\n",
       "<table border=\"1\" class=\"dataframe\">\n",
       "  <thead>\n",
       "    <tr style=\"text-align: right;\">\n",
       "      <th></th>\n",
       "      <th>subject</th>\n",
       "      <th>predicate</th>\n",
       "      <th>object</th>\n",
       "    </tr>\n",
       "  </thead>\n",
       "  <tbody>\n",
       "    <tr>\n",
       "      <th>0</th>\n",
       "      <td>Alice</td>\n",
       "      <td>like</td>\n",
       "      <td>movie</td>\n",
       "    </tr>\n",
       "    <tr>\n",
       "      <th>1</th>\n",
       "      <td>Bob</td>\n",
       "      <td>like</td>\n",
       "      <td>movie</td>\n",
       "    </tr>\n",
       "    <tr>\n",
       "      <th>2</th>\n",
       "      <td>Charlie</td>\n",
       "      <td>like</td>\n",
       "      <td>movie</td>\n",
       "    </tr>\n",
       "    <tr>\n",
       "      <th>3</th>\n",
       "      <td>David</td>\n",
       "      <td>like</td>\n",
       "      <td>music</td>\n",
       "    </tr>\n",
       "    <tr>\n",
       "      <th>4</th>\n",
       "      <td>Eve</td>\n",
       "      <td>like</td>\n",
       "      <td>music</td>\n",
       "    </tr>\n",
       "    <tr>\n",
       "      <th>5</th>\n",
       "      <td>Alice</td>\n",
       "      <td>has</td>\n",
       "      <td>cat</td>\n",
       "    </tr>\n",
       "    <tr>\n",
       "      <th>6</th>\n",
       "      <td>Bob</td>\n",
       "      <td>has</td>\n",
       "      <td>cat</td>\n",
       "    </tr>\n",
       "    <tr>\n",
       "      <th>7</th>\n",
       "      <td>David</td>\n",
       "      <td>has</td>\n",
       "      <td>dog</td>\n",
       "    </tr>\n",
       "    <tr>\n",
       "      <th>8</th>\n",
       "      <td>Eve</td>\n",
       "      <td>has</td>\n",
       "      <td>dog</td>\n",
       "    </tr>\n",
       "    <tr>\n",
       "      <th>9</th>\n",
       "      <td>Frank</td>\n",
       "      <td>has</td>\n",
       "      <td>dog</td>\n",
       "    </tr>\n",
       "    <tr>\n",
       "      <th>10</th>\n",
       "      <td>David</td>\n",
       "      <td>has</td>\n",
       "      <td>cat</td>\n",
       "    </tr>\n",
       "  </tbody>\n",
       "</table>\n",
       "</div>"
      ],
      "text/plain": [
       "    subject predicate object\n",
       "0     Alice      like  movie\n",
       "1       Bob      like  movie\n",
       "2   Charlie      like  movie\n",
       "3     David      like  music\n",
       "4       Eve      like  music\n",
       "5     Alice       has    cat\n",
       "6       Bob       has    cat\n",
       "7     David       has    dog\n",
       "8       Eve       has    dog\n",
       "9     Frank       has    dog\n",
       "10    David       has    cat"
      ]
     },
     "execution_count": 3,
     "metadata": {},
     "output_type": "execute_result"
    }
   ],
   "source": [
    "import pandas as pd\n",
    "\n",
    "# Define the subjects, predicates, and objects\n",
    "subjects =   ['Alice', 'Bob', 'Charlie', 'David', 'Eve', 'Alice', 'Bob', 'David', 'Eve', 'Frank', 'David']\n",
    "predicates = ['like', 'like', 'like', 'like', 'like', 'has', 'has', 'has' , 'has','has', 'has']\n",
    "objects =    ['movie', 'movie', 'movie', 'music', 'music', 'cat', 'cat', 'dog', 'dog', 'dog', 'cat']\n",
    "\n",
    "# Create a dataframe\n",
    "df = pd.DataFrame({'subject': subjects, 'predicate': predicates, 'object': objects})\n",
    "\n",
    "# Save the dataframe to a TSV file\n",
    "df.to_csv('dataset10.csv', sep=',', index=False, header=False)\n",
    "df.to_csv('dataset10.tsv', sep='\\t', index=False, header=False)\n",
    "\n",
    "df"
   ]
  },
  {
   "cell_type": "markdown",
   "id": "a29c7587",
   "metadata": {},
   "source": [
    "## 2. Creating SPO triples\n",
    "\n",
    "Once we have our data loaded, we need to create SPO (Subject-Predicate-Object) triples. These triples represent the relationships between entities in our knowledge graph."
   ]
  },
  {
   "cell_type": "code",
   "execution_count": 4,
   "id": "169443e1",
   "metadata": {},
   "outputs": [
    {
     "data": {
      "text/plain": [
       "array([['Alice', 'like', 'movie'],\n",
       "       ['Bob', 'like', 'movie'],\n",
       "       ['Charlie', 'like', 'movie'],\n",
       "       ['David', 'like', 'music'],\n",
       "       ['Eve', 'like', 'music'],\n",
       "       ['Alice', 'has', 'cat'],\n",
       "       ['Bob', 'has', 'cat'],\n",
       "       ['David', 'has', 'dog'],\n",
       "       ['Eve', 'has', 'dog'],\n",
       "       ['Frank', 'has', 'dog'],\n",
       "       ['David', 'has', 'cat']], dtype=object)"
      ]
     },
     "execution_count": 4,
     "metadata": {},
     "output_type": "execute_result"
    }
   ],
   "source": [
    "# 2. Creating SPO triples\n",
    "# Load the triples from the CSV file\n",
    "from ampligraph.datasets import load_from_csv\n",
    "triples = load_from_csv('.', 'dataset10.tsv', sep='\\t')\n",
    "training, validation, testing  = [triples, triples, triples]\n",
    "triples"
   ]
  },
  {
   "cell_type": "code",
   "execution_count": 5,
   "id": "a5d36025",
   "metadata": {},
   "outputs": [
    {
     "name": "stderr",
     "output_type": "stream",
     "text": [
      "/home/wasit/miniconda3/envs/demokg/lib/python3.8/site-packages/tqdm/auto.py:21: TqdmWarning: IProgress not found. Please update jupyter and ipywidgets. See https://ipywidgets.readthedocs.io/en/stable/user_install.html\n",
      "  from .autonotebook import tqdm as notebook_tqdm\n"
     ]
    }
   ],
   "source": [
    "# training, validation, testing = triples_factory.split(ratios=(.6, .2, .2))\n",
    "# training = triples_factory\n",
    "# validation = triples_factory\n",
    "# testing = triples_factory\n",
    "\n",
    "from pykeen.triples import TriplesFactory\n",
    "# Assuming your dataframe has columns 'subject', 'predicate', 'object'\n",
    "triples_factory = TriplesFactory.from_labeled_triples(\n",
    "    triples=df[['subject', 'predicate', 'object']].values,\n",
    ")\n",
    "\n",
    "# d=triples_factory\n",
    "\n",
    "# id_to_entity={v: k for k, v in d.entity_to_id.items()}\n",
    "# id_to_relation={v: k for k, v in d.relation_to_id.items()}\n",
    "\n",
    "# for i in d.map_triples(d.triples):\n",
    "#     s,p,o =int(i[0]), int(i[1]), int(i[2])\n",
    "#     h,r,t = id_to_entity[s], id_to_relation[p], id_to_entity[o]\n",
    "#     print(f\"{s:2d}:{h:7}{p:2d}:{r:7} {o:2d}:{t:7}\")"
   ]
  },
  {
   "cell_type": "markdown",
   "id": "e70db559",
   "metadata": {},
   "source": [
    "## 3. Setting up Models\n",
    "\n",
    "Now that we have our triples, we can set up our knowledge graph embedding model."
   ]
  },
  {
   "cell_type": "code",
   "execution_count": 6,
   "id": "0ba5c071",
   "metadata": {},
   "outputs": [
    {
     "data": {
      "text/plain": [
       "<tensorflow.python.keras.callbacks.History at 0x7f4cf454a100>"
      ]
     },
     "execution_count": 6,
     "metadata": {},
     "output_type": "execute_result"
    }
   ],
   "source": [
    "# 3. Setting up Models\n",
    "# Define the model\n",
    "# Import the KGE model\n",
    "from ampligraph.latent_features import ScoringBasedEmbeddingModel\n",
    "\n",
    "num_epochs=30\n",
    "embedding_dim=10\n",
    "\n",
    "# you can continue training from where you left after restoring the model\n",
    "tensorboard_callback = tf.keras.callbacks.TensorBoard(log_dir='./transe_train_logs')\n",
    "\n",
    "# create the model with transe scoring function\n",
    "model = ScoringBasedEmbeddingModel(\n",
    "                                    eta=5,\n",
    "                                    k=embedding_dim,\n",
    "                                    scoring_type='TransE',\n",
    "                                    seed=42\n",
    "                                )\n",
    "\n",
    "\n",
    "# model = TransE(batches_count=100, seed=0, epochs=50, k=3, eta=5,\n",
    "#                 optimizer='adam', optimizer_params={'lr':0.001},\n",
    "#                 loss='multiclass_nll', regularizer='LP', regularizer_params={'p':3, 'lambda':1e-5},\n",
    "#                 verbose=True)\n",
    "\n",
    "# Split the data into training and test sets\n",
    "# X_train, X_test = train_test_split_no_unseen(np.array(triples), test_size=2)\n",
    "\n",
    "# Fit the model\n",
    "# model.fit(X_train)\n",
    "\n",
    "# Let's create an adam optimizer with customized learning rate =0.005\n",
    "adam = tf.keras.optimizers.Adam(learning_rate=0.1)\n",
    "# Let's compile the model with self_advarsarial loss of default parameters\n",
    "model.compile(optimizer=adam, loss='self_adversarial')\n",
    "\n",
    "# fit the model to data.\n",
    "model.fit(training,\n",
    "             batch_size=100,\n",
    "             epochs=num_epochs,\n",
    "             callbacks=[tensorboard_callback],\n",
    "             verbose=False)\n",
    "\n",
    "# the training can be visualised using the following command:\n",
    "# tensorboard --logdir='./transe_train_logs' --port=8891 \n",
    "# open the browser and go to the following URL: http://127.0.0.1:8891/"
   ]
  },
  {
   "cell_type": "markdown",
   "id": "60f35cdf",
   "metadata": {},
   "source": [
    "## 4. Evaluations\n",
    "\n",
    "After training our model, we can evaluate its performance. PyKEEN provides several evaluation metrics, such as Hits@10, Mean Rank, and Mean Reciprocal Rank. These metrics can be calculated using the `Evaluator` class."
   ]
  },
  {
   "cell_type": "code",
   "execution_count": 7,
   "id": "ae0309a7",
   "metadata": {},
   "outputs": [
    {
     "name": "stdout",
     "output_type": "stream",
     "text": [
      "2/2 [==============================] - 2s 947ms/step\n",
      "MRR: 0.95\n",
      "Hits@1: 0.91\n",
      "Hits@3: 1.00\n",
      "Hits@5: 1.00\n",
      "Hits@10: 1.00\n"
     ]
    }
   ],
   "source": [
    "from ampligraph.evaluation import mr_score, mrr_score, hits_at_n_score\n",
    "\n",
    "X_train=training\n",
    "X_test=testing\n",
    "\n",
    "positives_filter = {'test' : np.concatenate([X_train, X_test])}\n",
    "\n",
    "ranks = model.evaluate(X_test, \n",
    "                       use_filter=positives_filter,   # Corruption strategy filter defined above \n",
    "                       corrupt_side='s,o', # corrupt subj and obj separately while evaluating\n",
    "                       verbose=True)\n",
    "\n",
    "print(\"MRR: %.2f\" % (mrr_score(ranks)))\n",
    "print(\"Hits@1: %.2f\" % (hits_at_n_score(ranks, n=1)))\n",
    "print(\"Hits@3: %.2f\" % (hits_at_n_score(ranks, n=3)))\n",
    "print(\"Hits@5: %.2f\" % (hits_at_n_score(ranks, n=5)))\n",
    "print(\"Hits@10: %.2f\" % (hits_at_n_score(ranks, n=10)))"
   ]
  },
  {
   "cell_type": "code",
   "execution_count": 8,
   "id": "febaf208",
   "metadata": {},
   "outputs": [
    {
     "name": "stdout",
     "output_type": "stream",
     "text": [
      "2/2 [==============================] - 1s 321ms/step\n"
     ]
    },
    {
     "data": {
      "text/html": [
       "<div>\n",
       "<style scoped>\n",
       "    .dataframe tbody tr th:only-of-type {\n",
       "        vertical-align: middle;\n",
       "    }\n",
       "\n",
       "    .dataframe tbody tr th {\n",
       "        vertical-align: top;\n",
       "    }\n",
       "\n",
       "    .dataframe thead th {\n",
       "        text-align: right;\n",
       "    }\n",
       "</style>\n",
       "<table border=\"1\" class=\"dataframe\">\n",
       "  <thead>\n",
       "    <tr style=\"text-align: right;\">\n",
       "      <th></th>\n",
       "      <th>statement</th>\n",
       "      <th>rank</th>\n",
       "      <th>score</th>\n",
       "      <th>prob</th>\n",
       "    </tr>\n",
       "  </thead>\n",
       "  <tbody>\n",
       "    <tr>\n",
       "      <th>0</th>\n",
       "      <td>Alice has cat</td>\n",
       "      <td>[1]</td>\n",
       "      <td>-2.062146</td>\n",
       "      <td>0.112831</td>\n",
       "    </tr>\n",
       "    <tr>\n",
       "      <th>4</th>\n",
       "      <td>Charlie has cat</td>\n",
       "      <td>[3]</td>\n",
       "      <td>-2.558723</td>\n",
       "      <td>0.071843</td>\n",
       "    </tr>\n",
       "    <tr>\n",
       "      <th>1</th>\n",
       "      <td>Bob has cat</td>\n",
       "      <td>[2]</td>\n",
       "      <td>-2.991575</td>\n",
       "      <td>0.047808</td>\n",
       "    </tr>\n",
       "    <tr>\n",
       "      <th>5</th>\n",
       "      <td>Frank like music</td>\n",
       "      <td>[3]</td>\n",
       "      <td>-3.307924</td>\n",
       "      <td>0.035300</td>\n",
       "    </tr>\n",
       "    <tr>\n",
       "      <th>2</th>\n",
       "      <td>Alice has dog</td>\n",
       "      <td>[11]</td>\n",
       "      <td>-4.790785</td>\n",
       "      <td>0.008238</td>\n",
       "    </tr>\n",
       "    <tr>\n",
       "      <th>3</th>\n",
       "      <td>Bob has dog</td>\n",
       "      <td>[10]</td>\n",
       "      <td>-4.908063</td>\n",
       "      <td>0.007333</td>\n",
       "    </tr>\n",
       "  </tbody>\n",
       "</table>\n",
       "</div>"
      ],
      "text/plain": [
       "          statement  rank     score      prob\n",
       "0     Alice has cat   [1] -2.062146  0.112831\n",
       "4   Charlie has cat   [3] -2.558723  0.071843\n",
       "1       Bob has cat   [2] -2.991575  0.047808\n",
       "5  Frank like music   [3] -3.307924  0.035300\n",
       "2     Alice has dog  [11] -4.790785  0.008238\n",
       "3       Bob has dog  [10] -4.908063  0.007333"
      ]
     },
     "execution_count": 8,
     "metadata": {},
     "output_type": "execute_result"
    }
   ],
   "source": [
    "\n",
    "X_unseen = np.array([\n",
    "        ['Alice', 'has', 'cat'],\n",
    "        ['Bob', 'has', 'cat'],\n",
    "        ['Alice', 'has', 'dog'],\n",
    "        ['Bob', 'has', 'dog'],\n",
    "        ['Charlie', 'has', 'cat'],\n",
    "        ['Frank', 'like', 'music'],\n",
    "    ])\n",
    "\n",
    "# positives_filter['test'] = np.vstack((positives_filter['test'], X_unseen))\n",
    "\n",
    "ranks_unseen = model.evaluate(X_unseen,\n",
    "                              use_filter=positives_filter,   # Corruption strategy filter defined above \n",
    "                              corrupt_side = 's+o',\n",
    "                              verbose=True)\n",
    "scores = model.predict(X_unseen)\n",
    "\n",
    "\n",
    "from scipy.special import expit\n",
    "probs = expit(scores)\n",
    "pd.DataFrame(list(zip([' '.join(x) for x in X_unseen], \n",
    "                      ranks_unseen, \n",
    "                      np.squeeze(scores),\n",
    "                      np.squeeze(probs))), \n",
    "             columns=['statement', 'rank', 'score', 'prob']).sort_values(\"score\", ascending=False)"
   ]
  },
  {
   "cell_type": "code",
   "execution_count": 9,
   "id": "ac725867",
   "metadata": {},
   "outputs": [
    {
     "data": {
      "text/plain": [
       "(array([['Frank', 'like', 'music'],\n",
       "        ['Frank', 'like', 'Frank'],\n",
       "        ['Frank', 'like', 'dog'],\n",
       "        ['Frank', 'like', 'David'],\n",
       "        ['Frank', 'like', 'Eve']], dtype='<U7'),\n",
       " array([-3.3079243, -3.9729586, -4.3081737, -4.9103575, -5.2127833],\n",
       "       dtype=float32))"
      ]
     },
     "execution_count": 9,
     "metadata": {},
     "output_type": "execute_result"
    }
   ],
   "source": [
    "from ampligraph.discovery import query_topn\n",
    "query_topn(model, top_n=5,\n",
    "           head='Frank', relation='like', tail=None,\n",
    "           ents_to_consider=None, rels_to_consider=None)"
   ]
  },
  {
   "cell_type": "code",
   "execution_count": 10,
   "id": "4190a406",
   "metadata": {},
   "outputs": [
    {
     "data": {
      "text/plain": [
       "(array([['Charlie', 'has', 'cat'],\n",
       "        ['Charlie', 'has', 'Charlie'],\n",
       "        ['Charlie', 'has', 'dog'],\n",
       "        ['Charlie', 'has', 'David'],\n",
       "        ['Charlie', 'has', 'Bob']], dtype='<U7'),\n",
       " array([-2.558723 , -4.3827887, -4.428668 , -4.558032 , -4.5703845],\n",
       "       dtype=float32))"
      ]
     },
     "execution_count": 10,
     "metadata": {},
     "output_type": "execute_result"
    }
   ],
   "source": [
    "from ampligraph.discovery import query_topn\n",
    "query_topn(model, top_n=5,\n",
    "           head='Charlie', relation='has', tail=None,\n",
    "           ents_to_consider=None, rels_to_consider=None)"
   ]
  },
  {
   "cell_type": "markdown",
   "id": "6020fbd6",
   "metadata": {},
   "source": [
    "## 5. Embedding Visualization\n",
    "\n",
    "Visualizing the embeddings can provide some insights into the relationships between entities in our knowledge graph. We can use Principal Component Analysis (PCA) to reduce the dimensionality of our embeddings and then plot them."
   ]
  },
  {
   "cell_type": "code",
   "execution_count": 11,
   "id": "daa4debf",
   "metadata": {},
   "outputs": [
    {
     "data": {
      "image/png": "[encoded data removed]",
      "text/plain": [
       "<Figure size 600x600 with 1 Axes>"
      ]
     },
     "metadata": {},
     "output_type": "display_data"
    }
   ],
   "source": [
    "# Get the entity and relation embeddings\n",
    "import matplotlib.pyplot as plt\n",
    "from sklearn.decomposition import PCA\n",
    "plt.style.use('ggplot')\n",
    "\n",
    "entitie_list=list(triples_factory.entity_to_id.keys())\n",
    "relation_list =list(triples_factory.relation_to_id.keys())\n",
    "\n",
    "entity_embeddings = model.get_embeddings(\n",
    "       entitie_list,\n",
    "        embedding_type='e'\n",
    "    )\n",
    "relation_embeddings = model.get_embeddings(\n",
    "        relation_list, \n",
    "        embedding_type='r'\n",
    "    )\n",
    "\n",
    "# Perform PCA on the embeddings\n",
    "pca = PCA(n_components=2)\n",
    "m = pca.fit(entity_embeddings)\n",
    "\n",
    "# Plot the embeddings\n",
    "eu = m.transform(entity_embeddings)\n",
    "plt.figure(figsize=(6, 6))\n",
    "\n",
    "plt.scatter(eu[:, 0], eu[:, 1], color='gray',marker='.')\n",
    "for i, entity in enumerate(entitie_list):\n",
    "#     plt.annotate(entity, (eu[i, 0], eu[i, 1]))\n",
    "    plt.annotate(\n",
    "        text=entity,\n",
    "        xy=(eu[i, 0], eu[i, 1]),\n",
    "        color=\"tab:blue\",\n",
    "        ha=\"center\", va=\"center\"\n",
    "    )\n",
    "\n",
    "ru = m.transform(relation_embeddings)    \n",
    "# plt.scatter(ru[:, 0], ru[:, 1], color='red')\n",
    "for i, relation in enumerate(relation_list):\n",
    "#     plt.annotate(relation, (ru[i, 0], ru[i, 1]))\n",
    "    plt.annotate(\n",
    "        text=relation,\n",
    "        xy=(0,0), xytext=(ru[i, 0], ru[i, 1]),\n",
    "        arrowprops=dict(\n",
    "            arrowstyle=\"<-\",\n",
    "            color=\"tab:red\",\n",
    "            shrinkA=5,\n",
    "            shrinkB=5,\n",
    "            patchA=None,\n",
    "            patchB=None,\n",
    "            connectionstyle=\"arc3,rad=0.\"\n",
    "        )\n",
    "    )\n",
    "\n",
    "    \n",
    "plt.xlim([-2, 2])\n",
    "plt.ylim([-2, 2])\n",
    "\n",
    "plt.show()"
   ]
  },
  {
   "cell_type": "code",
   "execution_count": null,
   "id": "29c7a4db",
   "metadata": {},
   "outputs": [],
   "source": []
  },
  {
   "cell_type": "code",
   "execution_count": null,
   "id": "d1cd1030",
   "metadata": {},
   "outputs": [],
   "source": []
  }
 ],
 "metadata": {
  "kernelspec": {
   "display_name": "Python 3 (ipykernel)",
   "language": "python",
   "name": "python3"
  },
  "language_info": {
   "codemirror_mode": {
    "name": "ipython",
    "version": 3
   },
   "file_extension": ".py",
   "mimetype": "text/x-python",
   "name": "python",
   "nbconvert_exporter": "python",
   "pygments_lexer": "ipython3",
   "version": "3.8.16"
  }
 },
 "nbformat": 4,
 "nbformat_minor": 5
}
