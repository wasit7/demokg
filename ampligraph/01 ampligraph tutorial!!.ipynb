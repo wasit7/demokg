{
 "cells": [
  {
   "cell_type": "markdown",
   "id": "d5f89d00",
   "metadata": {},
   "source": [
    "# PyKEEN Tutorial\n",
    "\n",
    "This tutorial will guide you through the process of using PyKEEN for knowledge graph embedding. We will cover the following topics:\n",
    "\n",
    "1. Data Preparation\n",
    "2. Creating SPO triples\n",
    "3. Setting up Models\n",
    "4. Evaluations\n",
    "\n",
    "Before we start, make sure you have installed the PyKEEN library. If not, you can install it by running `!pip install pykeen` in a code cell."
   ]
  },
  {
   "cell_type": "code",
   "execution_count": 1,
   "id": "ad1d4e85",
   "metadata": {},
   "outputs": [],
   "source": [
    "import sys\n",
    "sys.path.append('../..')\n",
    "import os\n",
    "os.environ['CUDA_VISIBLE_DEVICES'] = '0'\n",
    "os.environ['TF_ENABLE_ONEDNN_OPTS'] = '0'\n",
    "os.environ['TF_CPP_MIN_LOG_LEVEL'] = '3'\n",
    "import tensorflow as tf\n",
    "tf.get_logger().setLevel('ERROR')"
   ]
  },
  {
   "cell_type": "code",
   "execution_count": 2,
   "id": "530bc364",
   "metadata": {},
   "outputs": [],
   "source": [
    "# Import necessary libraries\n",
    "import numpy as np\n",
    "import pandas as pd\n",
    "import matplotlib.pyplot as plt\n",
    "from sklearn.decomposition import PCA\n",
    "\n",
    "# from ampligraph.evaluation import train_test_split_no_unseen, evaluate_performance, mr_score, mrr_score, hits_at_n_score\n",
    "# from ampligraph.latent_features import TransE\n",
    "from ampligraph.utils import save_model, restore_model"
   ]
  },
  {
   "cell_type": "markdown",
   "id": "a13325e3",
   "metadata": {},
   "source": [
    "## 1. Data Preparation\n",
    "\n",
    "In this section, we will load and prepare our data. The data should be in a TSV (Tab-Separated Values) format. We will use pandas to load the data and prepare it for PyKEEN."
   ]
  },
  {
   "cell_type": "code",
   "execution_count": 3,
   "id": "100a4452",
   "metadata": {},
   "outputs": [
    {
     "data": {
      "text/html": [
       "<div>\n",
       "<style scoped>\n",
       "    .dataframe tbody tr th:only-of-type {\n",
       "        vertical-align: middle;\n",
       "    }\n",
       "\n",
       "    .dataframe tbody tr th {\n",
       "        vertical-align: top;\n",
       "    }\n",
       "\n",
       "    .dataframe thead th {\n",
       "        text-align: right;\n",
       "    }\n",
       "</style>\n",
       "<table border=\"1\" class=\"dataframe\">\n",
       "  <thead>\n",
       "    <tr style=\"text-align: right;\">\n",
       "      <th></th>\n",
       "      <th>subject</th>\n",
       "      <th>predicate</th>\n",
       "      <th>object</th>\n",
       "    </tr>\n",
       "  </thead>\n",
       "  <tbody>\n",
       "    <tr>\n",
       "      <th>0</th>\n",
       "      <td>Alice</td>\n",
       "      <td>like</td>\n",
       "      <td>movie</td>\n",
       "    </tr>\n",
       "    <tr>\n",
       "      <th>1</th>\n",
       "      <td>Bob</td>\n",
       "      <td>like</td>\n",
       "      <td>movie</td>\n",
       "    </tr>\n",
       "    <tr>\n",
       "      <th>2</th>\n",
       "      <td>Charlie</td>\n",
       "      <td>like</td>\n",
       "      <td>movie</td>\n",
       "    </tr>\n",
       "    <tr>\n",
       "      <th>3</th>\n",
       "      <td>David</td>\n",
       "      <td>like</td>\n",
       "      <td>music</td>\n",
       "    </tr>\n",
       "    <tr>\n",
       "      <th>4</th>\n",
       "      <td>Eve</td>\n",
       "      <td>like</td>\n",
       "      <td>music</td>\n",
       "    </tr>\n",
       "    <tr>\n",
       "      <th>5</th>\n",
       "      <td>Alice</td>\n",
       "      <td>has</td>\n",
       "      <td>cat</td>\n",
       "    </tr>\n",
       "    <tr>\n",
       "      <th>6</th>\n",
       "      <td>Bob</td>\n",
       "      <td>has</td>\n",
       "      <td>cat</td>\n",
       "    </tr>\n",
       "    <tr>\n",
       "      <th>7</th>\n",
       "      <td>David</td>\n",
       "      <td>has</td>\n",
       "      <td>dog</td>\n",
       "    </tr>\n",
       "    <tr>\n",
       "      <th>8</th>\n",
       "      <td>Eve</td>\n",
       "      <td>has</td>\n",
       "      <td>dog</td>\n",
       "    </tr>\n",
       "    <tr>\n",
       "      <th>9</th>\n",
       "      <td>Frank</td>\n",
       "      <td>has</td>\n",
       "      <td>dog</td>\n",
       "    </tr>\n",
       "    <tr>\n",
       "      <th>10</th>\n",
       "      <td>David</td>\n",
       "      <td>has</td>\n",
       "      <td>cat</td>\n",
       "    </tr>\n",
       "  </tbody>\n",
       "</table>\n",
       "</div>"
      ],
      "text/plain": [
       "    subject predicate object\n",
       "0     Alice      like  movie\n",
       "1       Bob      like  movie\n",
       "2   Charlie      like  movie\n",
       "3     David      like  music\n",
       "4       Eve      like  music\n",
       "5     Alice       has    cat\n",
       "6       Bob       has    cat\n",
       "7     David       has    dog\n",
       "8       Eve       has    dog\n",
       "9     Frank       has    dog\n",
       "10    David       has    cat"
      ]
     },
     "execution_count": 3,
     "metadata": {},
     "output_type": "execute_result"
    }
   ],
   "source": [
    "import pandas as pd\n",
    "\n",
    "# Define the subjects, predicates, and objects\n",
    "subjects =   ['Alice', 'Bob', 'Charlie', 'David', 'Eve', 'Alice', 'Bob', 'David', 'Eve', 'Frank', 'David']\n",
    "predicates = ['like', 'like', 'like', 'like', 'like', 'has', 'has', 'has' , 'has','has', 'has']\n",
    "objects =    ['movie', 'movie', 'movie', 'music', 'music', 'cat', 'cat', 'dog', 'dog', 'dog', 'cat']\n",
    "\n",
    "# Create a dataframe\n",
    "df = pd.DataFrame({'subject': subjects, 'predicate': predicates, 'object': objects})\n",
    "\n",
    "# Save the dataframe to a TSV file\n",
    "df.to_csv('dataset10.csv', sep=',', index=False, header=False)\n",
    "df.to_csv('dataset10.tsv', sep='\\t', index=False, header=False)\n",
    "\n",
    "df"
   ]
  },
  {
   "cell_type": "markdown",
   "id": "a29c7587",
   "metadata": {},
   "source": [
    "## 2. Creating SPO triples\n",
    "\n",
    "Once we have our data loaded, we need to create SPO (Subject-Predicate-Object) triples. These triples represent the relationships between entities in our knowledge graph. In PyKEEN, we can use the `TriplesFactory` class to create these triples."
   ]
  },
  {
   "cell_type": "code",
   "execution_count": 4,
   "id": "169443e1",
   "metadata": {},
   "outputs": [
    {
     "data": {
      "text/plain": [
       "array([['Alice', 'like', 'movie'],\n",
       "       ['Bob', 'like', 'movie'],\n",
       "       ['Charlie', 'like', 'movie'],\n",
       "       ['David', 'like', 'music'],\n",
       "       ['Eve', 'like', 'music'],\n",
       "       ['Alice', 'has', 'cat'],\n",
       "       ['Bob', 'has', 'cat'],\n",
       "       ['David', 'has', 'dog'],\n",
       "       ['Eve', 'has', 'dog'],\n",
       "       ['Frank', 'has', 'dog'],\n",
       "       ['David', 'has', 'cat']], dtype=object)"
      ]
     },
     "execution_count": 4,
     "metadata": {},
     "output_type": "execute_result"
    }
   ],
   "source": [
    "# 2. Creating SPO triples\n",
    "# Load the triples from the CSV file\n",
    "from ampligraph.datasets import load_from_csv\n",
    "triples = load_from_csv('.', 'dataset10.tsv', sep='\\t')\n",
    "training, validation, testing  = [triples, triples, triples]\n",
    "triples"
   ]
  },
  {
   "cell_type": "code",
   "execution_count": 5,
   "id": "a5d36025",
   "metadata": {},
   "outputs": [
    {
     "name": "stdout",
     "output_type": "stream",
     "text": [
      "WARNING - Reconstructing all label-based triples. This is expensive and rarely needed.\n",
      " 0:Alice   0:has      6:cat    \n",
      " 0:Alice   1:like     8:movie  \n",
      " 1:Bob     0:has      6:cat    \n",
      " 1:Bob     1:like     8:movie  \n",
      " 2:Charlie 1:like     8:movie  \n",
      " 3:David   0:has      6:cat    \n",
      " 3:David   0:has      7:dog    \n",
      " 3:David   1:like     9:music  \n",
      " 4:Eve     0:has      7:dog    \n",
      " 4:Eve     1:like     9:music  \n",
      " 5:Frank   0:has      7:dog    \n"
     ]
    },
    {
     "name": "stderr",
     "output_type": "stream",
     "text": [
      "/home/wasit/miniconda3/envs/demokg/lib/python3.8/site-packages/tqdm/auto.py:21: TqdmWarning: IProgress not found. Please update jupyter and ipywidgets. See https://ipywidgets.readthedocs.io/en/stable/user_install.html\n",
      "  from .autonotebook import tqdm as notebook_tqdm\n"
     ]
    }
   ],
   "source": [
    "# training, validation, testing = triples_factory.split(ratios=(.6, .2, .2))\n",
    "# training = triples_factory\n",
    "# validation = triples_factory\n",
    "# testing = triples_factory\n",
    "\n",
    "from pykeen.triples import TriplesFactory\n",
    "# Assuming your dataframe has columns 'subject', 'predicate', 'object'\n",
    "triples_factory = TriplesFactory.from_labeled_triples(\n",
    "    triples=df[['subject', 'predicate', 'object']].values,\n",
    ")\n",
    "\n",
    "d=triples_factory\n",
    "\n",
    "id_to_entity={v: k for k, v in d.entity_to_id.items()}\n",
    "id_to_relation={v: k for k, v in d.relation_to_id.items()}\n",
    "\n",
    "for i in d.map_triples(d.triples):\n",
    "    s,p,o =int(i[0]), int(i[1]), int(i[2])\n",
    "    h,r,t = id_to_entity[s], id_to_relation[p], id_to_entity[o]\n",
    "    print(f\"{s:2d}:{h:7}{p:2d}:{r:7} {o:2d}:{t:7}\")"
   ]
  },
  {
   "cell_type": "markdown",
   "id": "e70db559",
   "metadata": {},
   "source": [
    "## 3. Setting up Models\n",
    "\n",
    "Now that we have our triples, we can set up our knowledge graph embedding model. PyKEEN provides several models for this purpose. In this tutorial, we will use the TransE model as an example. We will also split our data into training and testing sets."
   ]
  },
  {
   "cell_type": "code",
   "execution_count": 84,
   "id": "0ba5c071",
   "metadata": {},
   "outputs": [
    {
     "name": "stdout",
     "output_type": "stream",
     "text": [
      "Epoch 1/50\n",
      "2/2 [==============================] - 1s 308ms/step - loss: 23.0259\n",
      "Epoch 2/50\n",
      "2/2 [==============================] - 0s 10ms/step - loss: 19.0653\n",
      "Epoch 3/50\n",
      "2/2 [==============================] - 0s 11ms/step - loss: 17.3046\n",
      "Epoch 4/50\n",
      "2/2 [==============================] - 0s 10ms/step - loss: 16.8765\n",
      "Epoch 5/50\n",
      "2/2 [==============================] - 0s 12ms/step - loss: 16.3715\n",
      "Epoch 6/50\n",
      "2/2 [==============================] - 0s 11ms/step - loss: 15.8929\n",
      "Epoch 7/50\n",
      "2/2 [==============================] - 0s 12ms/step - loss: 15.4684\n",
      "Epoch 8/50\n",
      "2/2 [==============================] - 0s 13ms/step - loss: 15.1198\n",
      "Epoch 9/50\n",
      "2/2 [==============================] - 0s 14ms/step - loss: 14.6483\n",
      "Epoch 10/50\n",
      "2/2 [==============================] - 0s 12ms/step - loss: 14.4028\n",
      "Epoch 11/50\n",
      "2/2 [==============================] - 0s 11ms/step - loss: 14.0568\n",
      "Epoch 12/50\n",
      "2/2 [==============================] - 0s 12ms/step - loss: 14.0449\n",
      "Epoch 13/50\n",
      "2/2 [==============================] - 0s 12ms/step - loss: 13.7897\n",
      "Epoch 14/50\n",
      "2/2 [==============================] - 0s 10ms/step - loss: 13.5404\n",
      "Epoch 15/50\n",
      "2/2 [==============================] - 0s 11ms/step - loss: 13.2904\n",
      "Epoch 16/50\n",
      "2/2 [==============================] - 0s 12ms/step - loss: 13.2192\n",
      "Epoch 17/50\n",
      "2/2 [==============================] - 0s 11ms/step - loss: 12.9355\n",
      "Epoch 18/50\n",
      "2/2 [==============================] - 0s 12ms/step - loss: 12.8590\n",
      "Epoch 19/50\n",
      "2/2 [==============================] - 0s 11ms/step - loss: 12.6717\n",
      "Epoch 20/50\n",
      "2/2 [==============================] - 0s 10ms/step - loss: 12.5041\n",
      "Epoch 21/50\n",
      "2/2 [==============================] - 0s 12ms/step - loss: 12.4187\n",
      "Epoch 22/50\n",
      "2/2 [==============================] - 0s 11ms/step - loss: 12.3196\n",
      "Epoch 23/50\n",
      "2/2 [==============================] - 0s 10ms/step - loss: 12.2375\n",
      "Epoch 24/50\n",
      "2/2 [==============================] - 0s 13ms/step - loss: 12.2812\n",
      "Epoch 25/50\n",
      "2/2 [==============================] - 0s 11ms/step - loss: 12.2347\n",
      "Epoch 26/50\n",
      "2/2 [==============================] - 0s 11ms/step - loss: 12.1301\n",
      "Epoch 27/50\n",
      "2/2 [==============================] - 0s 12ms/step - loss: 12.1047\n",
      "Epoch 28/50\n",
      "2/2 [==============================] - 0s 16ms/step - loss: 11.9573\n",
      "Epoch 29/50\n",
      "2/2 [==============================] - 0s 11ms/step - loss: 11.8918\n",
      "Epoch 30/50\n",
      "2/2 [==============================] - 0s 12ms/step - loss: 11.8049\n",
      "Epoch 31/50\n",
      "2/2 [==============================] - 0s 10ms/step - loss: 11.7986\n",
      "Epoch 32/50\n",
      "2/2 [==============================] - 0s 11ms/step - loss: 11.7659\n",
      "Epoch 33/50\n",
      "2/2 [==============================] - 0s 12ms/step - loss: 11.6983\n",
      "Epoch 34/50\n",
      "2/2 [==============================] - 0s 10ms/step - loss: 11.6719\n",
      "Epoch 35/50\n",
      "2/2 [==============================] - 0s 12ms/step - loss: 11.6344\n",
      "Epoch 36/50\n",
      "2/2 [==============================] - 0s 12ms/step - loss: 11.5829\n",
      "Epoch 37/50\n",
      "2/2 [==============================] - 0s 10ms/step - loss: 11.6507\n",
      "Epoch 38/50\n",
      "2/2 [==============================] - 0s 11ms/step - loss: 11.6689\n",
      "Epoch 39/50\n",
      "2/2 [==============================] - 0s 11ms/step - loss: 11.6135\n",
      "Epoch 40/50\n",
      "2/2 [==============================] - 0s 13ms/step - loss: 11.5630\n",
      "Epoch 41/50\n",
      "2/2 [==============================] - 0s 13ms/step - loss: 11.5190\n",
      "Epoch 42/50\n",
      "2/2 [==============================] - 0s 11ms/step - loss: 11.5615\n",
      "Epoch 43/50\n",
      "2/2 [==============================] - 0s 11ms/step - loss: 11.5096\n",
      "Epoch 44/50\n",
      "2/2 [==============================] - 0s 12ms/step - loss: 11.5119\n",
      "Epoch 45/50\n",
      "2/2 [==============================] - 0s 13ms/step - loss: 11.5099\n",
      "Epoch 46/50\n",
      "2/2 [==============================] - 0s 11ms/step - loss: 11.4481\n",
      "Epoch 47/50\n",
      "2/2 [==============================] - 0s 11ms/step - loss: 11.3828\n",
      "Epoch 48/50\n",
      "2/2 [==============================] - 0s 10ms/step - loss: 11.3294\n",
      "Epoch 49/50\n",
      "2/2 [==============================] - 0s 11ms/step - loss: 11.3361\n",
      "Epoch 50/50\n",
      "2/2 [==============================] - 0s 11ms/step - loss: 11.2978\n"
     ]
    },
    {
     "data": {
      "text/plain": [
       "<tensorflow.python.keras.callbacks.History at 0x7fd90d8a3af0>"
      ]
     },
     "execution_count": 84,
     "metadata": {},
     "output_type": "execute_result"
    }
   ],
   "source": [
    "# 3. Setting up Models\n",
    "# Define the model\n",
    "# Import the KGE model\n",
    "from ampligraph.latent_features import ScoringBasedEmbeddingModel\n",
    "\n",
    "# you can continue training from where you left after restoring the model\n",
    "tensorboard_callback = tf.keras.callbacks.TensorBoard(log_dir='./transe_train_logs')\n",
    "\n",
    "# create the model with transe scoring function\n",
    "model = ScoringBasedEmbeddingModel(eta=2,\n",
    "                                   k=10,#embedding_dim=3\n",
    "                                   scoring_type='TransE')\n",
    "\n",
    "\n",
    "# model = TransE(batches_count=100, seed=0, epochs=50, k=3, eta=5,\n",
    "#                 optimizer='adam', optimizer_params={'lr':0.001},\n",
    "#                 loss='multiclass_nll', regularizer='LP', regularizer_params={'p':3, 'lambda':1e-5},\n",
    "#                 verbose=True)\n",
    "\n",
    "# Split the data into training and test sets\n",
    "# X_train, X_test = train_test_split_no_unseen(np.array(triples), test_size=2)\n",
    "\n",
    "# Fit the model\n",
    "# model.fit(X_train)\n",
    "\n",
    "# Let's create an adam optimizer with customized learning rate =0.005\n",
    "adam = tf.keras.optimizers.Adam(learning_rate=0.1)\n",
    "# Let's compile the model with self_advarsarial loss of default parameters\n",
    "model.compile(optimizer=adam, loss='self_adversarial')\n",
    "\n",
    "# fit the model to data.\n",
    "model.fit(training,\n",
    "             batch_size=10000,\n",
    "             epochs=50,\n",
    "             callbacks=[tensorboard_callback])\n",
    "\n",
    "# the training can be visualised using the following command:\n",
    "# tensorboard --logdir='./transe_train_logs' --port=8891 \n",
    "# open the browser and go to the following URL: http://127.0.0.1:8891/"
   ]
  },
  {
   "cell_type": "code",
   "execution_count": 85,
   "id": "f150f7df",
   "metadata": {},
   "outputs": [
    {
     "data": {
      "text/plain": [
       "(array([['Charlie', 'has', 'cat'],\n",
       "        ['Charlie', 'has', 'Alice'],\n",
       "        ['Charlie', 'has', 'Bob'],\n",
       "        ['Charlie', 'has', 'Charlie'],\n",
       "        ['Charlie', 'has', 'movie']], dtype='<U7'),\n",
       " array([-3.2580705, -4.3443294, -4.360979 , -4.859745 , -5.7567716],\n",
       "       dtype=float32))"
      ]
     },
     "execution_count": 85,
     "metadata": {},
     "output_type": "execute_result"
    }
   ],
   "source": [
    "from ampligraph.discovery import query_topn\n",
    "query_topn(model, top_n=5,\n",
    "           head='Charlie', relation='has', tail=None,\n",
    "           ents_to_consider=None, rels_to_consider=None)"
   ]
  },
  {
   "cell_type": "code",
   "execution_count": 86,
   "id": "49287088",
   "metadata": {},
   "outputs": [
    {
     "data": {
      "text/plain": [
       "(array([['Frank', 'like', 'music'],\n",
       "        ['Frank', 'like', 'Eve'],\n",
       "        ['Frank', 'like', 'David'],\n",
       "        ['Frank', 'like', 'Frank'],\n",
       "        ['Frank', 'like', 'dog']], dtype='<U7'),\n",
       " array([-3.7251377, -3.879301 , -4.39696  , -4.712756 , -5.1422744],\n",
       "       dtype=float32))"
      ]
     },
     "execution_count": 86,
     "metadata": {},
     "output_type": "execute_result"
    }
   ],
   "source": [
    "from ampligraph.discovery import query_topn\n",
    "query_topn(model, top_n=5,\n",
    "           head='Frank', relation='like', tail=None,\n",
    "           ents_to_consider=None, rels_to_consider=None)"
   ]
  },
  {
   "cell_type": "markdown",
   "id": "60f35cdf",
   "metadata": {},
   "source": [
    "## 4. Evaluations\n",
    "\n",
    "After training our model, we can evaluate its performance. PyKEEN provides several evaluation metrics, such as Hits@10, Mean Rank, and Mean Reciprocal Rank. These metrics can be calculated using the `Evaluator` class."
   ]
  },
  {
   "cell_type": "code",
   "execution_count": 87,
   "id": "944fac73",
   "metadata": {},
   "outputs": [
    {
     "name": "stdout",
     "output_type": "stream",
     "text": [
      "2/2 [==============================] - 1s 310ms/step\n"
     ]
    }
   ],
   "source": [
    "X_train=training\n",
    "X_test=testing\n",
    "\n",
    "positives_filter = {'test' : np.concatenate([X_train, X_test])}\n",
    "ranks = model.evaluate(X_test, \n",
    "                       use_filter=positives_filter,   # Corruption strategy filter defined above \n",
    "                       corrupt_side='s,o', # corrupt subj and obj separately while evaluating\n",
    "                       verbose=True)"
   ]
  },
  {
   "cell_type": "code",
   "execution_count": 88,
   "id": "ae0309a7",
   "metadata": {},
   "outputs": [
    {
     "name": "stdout",
     "output_type": "stream",
     "text": [
      "MRR: 1.00\n",
      "Hits@10: 1.00\n",
      "Hits@3: 1.00\n",
      "Hits@1: 1.00\n"
     ]
    }
   ],
   "source": [
    "from ampligraph.evaluation import mr_score, mrr_score, hits_at_n_score\n",
    "\n",
    "mrr = mrr_score(ranks)\n",
    "print(\"MRR: %.2f\" % (mrr))\n",
    "\n",
    "hits_10 = hits_at_n_score(ranks, n=10)\n",
    "print(\"Hits@10: %.2f\" % (hits_10))\n",
    "hits_3 = hits_at_n_score(ranks, n=3)\n",
    "print(\"Hits@3: %.2f\" % (hits_3))\n",
    "hits_1 = hits_at_n_score(ranks, n=1)\n",
    "print(\"Hits@1: %.2f\" % (hits_1))"
   ]
  },
  {
   "cell_type": "code",
   "execution_count": 89,
   "id": "57194393",
   "metadata": {},
   "outputs": [
    {
     "name": "stdout",
     "output_type": "stream",
     "text": [
      "2/2 [==============================] - 1s 300ms/step\n"
     ]
    },
    {
     "data": {
      "text/plain": [
       "array([-1.8628571, -2.444779 , -5.359861 , -6.0536733, -3.2580705,\n",
       "       -3.7251377], dtype=float32)"
      ]
     },
     "execution_count": 89,
     "metadata": {},
     "output_type": "execute_result"
    }
   ],
   "source": [
    "X_unseen = np.array([\n",
    "        ['Alice', 'has', 'cat'],\n",
    "        ['Bob', 'has', 'cat'],\n",
    "        ['Alice', 'has', 'dog'],\n",
    "        ['Bob', 'has', 'dog'],\n",
    "        ['Charlie', 'has', 'cat'],\n",
    "        ['Frank', 'like', 'music'],\n",
    "    ])\n",
    "\n",
    "\n",
    "positives_filter['test'] = np.vstack((positives_filter['test'], X_unseen))\n",
    "ranks_unseen = model.evaluate(X_unseen,\n",
    "                              use_filter=positives_filter,   # Corruption strategy filter defined above \n",
    "                              corrupt_side = 's+o',\n",
    "                              verbose=True)\n",
    "scores = model.predict(X_unseen)\n",
    "scores"
   ]
  },
  {
   "cell_type": "code",
   "execution_count": 90,
   "id": "9b169f9d",
   "metadata": {},
   "outputs": [
    {
     "data": {
      "text/html": [
       "<div>\n",
       "<style scoped>\n",
       "    .dataframe tbody tr th:only-of-type {\n",
       "        vertical-align: middle;\n",
       "    }\n",
       "\n",
       "    .dataframe tbody tr th {\n",
       "        vertical-align: top;\n",
       "    }\n",
       "\n",
       "    .dataframe thead th {\n",
       "        text-align: right;\n",
       "    }\n",
       "</style>\n",
       "<table border=\"1\" class=\"dataframe\">\n",
       "  <thead>\n",
       "    <tr style=\"text-align: right;\">\n",
       "      <th></th>\n",
       "      <th>statement</th>\n",
       "      <th>rank</th>\n",
       "      <th>score</th>\n",
       "      <th>prob</th>\n",
       "    </tr>\n",
       "  </thead>\n",
       "  <tbody>\n",
       "    <tr>\n",
       "      <th>0</th>\n",
       "      <td>Alice has cat</td>\n",
       "      <td>[1]</td>\n",
       "      <td>-1.862857</td>\n",
       "      <td>0.134370</td>\n",
       "    </tr>\n",
       "    <tr>\n",
       "      <th>1</th>\n",
       "      <td>Bob has cat</td>\n",
       "      <td>[1]</td>\n",
       "      <td>-2.444779</td>\n",
       "      <td>0.079821</td>\n",
       "    </tr>\n",
       "    <tr>\n",
       "      <th>4</th>\n",
       "      <td>Charlie has cat</td>\n",
       "      <td>[1]</td>\n",
       "      <td>-3.258070</td>\n",
       "      <td>0.037038</td>\n",
       "    </tr>\n",
       "    <tr>\n",
       "      <th>5</th>\n",
       "      <td>Frank like music</td>\n",
       "      <td>[1]</td>\n",
       "      <td>-3.725138</td>\n",
       "      <td>0.023542</td>\n",
       "    </tr>\n",
       "    <tr>\n",
       "      <th>2</th>\n",
       "      <td>Alice has dog</td>\n",
       "      <td>[5]</td>\n",
       "      <td>-5.359861</td>\n",
       "      <td>0.004680</td>\n",
       "    </tr>\n",
       "    <tr>\n",
       "      <th>3</th>\n",
       "      <td>Bob has dog</td>\n",
       "      <td>[7]</td>\n",
       "      <td>-6.053673</td>\n",
       "      <td>0.002344</td>\n",
       "    </tr>\n",
       "  </tbody>\n",
       "</table>\n",
       "</div>"
      ],
      "text/plain": [
       "          statement rank     score      prob\n",
       "0     Alice has cat  [1] -1.862857  0.134370\n",
       "1       Bob has cat  [1] -2.444779  0.079821\n",
       "4   Charlie has cat  [1] -3.258070  0.037038\n",
       "5  Frank like music  [1] -3.725138  0.023542\n",
       "2     Alice has dog  [5] -5.359861  0.004680\n",
       "3       Bob has dog  [7] -6.053673  0.002344"
      ]
     },
     "execution_count": 90,
     "metadata": {},
     "output_type": "execute_result"
    }
   ],
   "source": [
    "from scipy.special import expit\n",
    "probs = expit(scores)\n",
    "pd.DataFrame(list(zip([' '.join(x) for x in X_unseen], \n",
    "                      ranks_unseen, \n",
    "                      np.squeeze(scores),\n",
    "                      np.squeeze(probs))), \n",
    "             columns=['statement', 'rank', 'score', 'prob']).sort_values(\"score\", ascending=False)"
   ]
  },
  {
   "cell_type": "code",
   "execution_count": 91,
   "id": "7e7f3813",
   "metadata": {},
   "outputs": [
    {
     "data": {
      "text/plain": [
       "array([-1.8628571, -2.444779 , -5.359861 , -6.0536733, -3.2580705,\n",
       "       -3.7251377], dtype=float32)"
      ]
     },
     "execution_count": 91,
     "metadata": {},
     "output_type": "execute_result"
    }
   ],
   "source": [
    "scores = model.predict(X_unseen)\n",
    "scores"
   ]
  },
  {
   "cell_type": "code",
   "execution_count": 92,
   "id": "96d74fc2",
   "metadata": {},
   "outputs": [
    {
     "data": {
      "text/html": [
       "<div>\n",
       "<style scoped>\n",
       "    .dataframe tbody tr th:only-of-type {\n",
       "        vertical-align: middle;\n",
       "    }\n",
       "\n",
       "    .dataframe tbody tr th {\n",
       "        vertical-align: top;\n",
       "    }\n",
       "\n",
       "    .dataframe thead th {\n",
       "        text-align: right;\n",
       "    }\n",
       "</style>\n",
       "<table border=\"1\" class=\"dataframe\">\n",
       "  <thead>\n",
       "    <tr style=\"text-align: right;\">\n",
       "      <th></th>\n",
       "      <th>statement</th>\n",
       "      <th>rank</th>\n",
       "      <th>score</th>\n",
       "      <th>prob</th>\n",
       "    </tr>\n",
       "  </thead>\n",
       "  <tbody>\n",
       "    <tr>\n",
       "      <th>0</th>\n",
       "      <td>Alice has cat</td>\n",
       "      <td>[1]</td>\n",
       "      <td>-1.862857</td>\n",
       "      <td>0.134370</td>\n",
       "    </tr>\n",
       "    <tr>\n",
       "      <th>1</th>\n",
       "      <td>Bob has cat</td>\n",
       "      <td>[1]</td>\n",
       "      <td>-2.444779</td>\n",
       "      <td>0.079821</td>\n",
       "    </tr>\n",
       "    <tr>\n",
       "      <th>4</th>\n",
       "      <td>Charlie has cat</td>\n",
       "      <td>[1]</td>\n",
       "      <td>-3.258070</td>\n",
       "      <td>0.037038</td>\n",
       "    </tr>\n",
       "    <tr>\n",
       "      <th>5</th>\n",
       "      <td>Frank like music</td>\n",
       "      <td>[1]</td>\n",
       "      <td>-3.725138</td>\n",
       "      <td>0.023542</td>\n",
       "    </tr>\n",
       "    <tr>\n",
       "      <th>2</th>\n",
       "      <td>Alice has dog</td>\n",
       "      <td>[5]</td>\n",
       "      <td>-5.359861</td>\n",
       "      <td>0.004680</td>\n",
       "    </tr>\n",
       "    <tr>\n",
       "      <th>3</th>\n",
       "      <td>Bob has dog</td>\n",
       "      <td>[7]</td>\n",
       "      <td>-6.053673</td>\n",
       "      <td>0.002344</td>\n",
       "    </tr>\n",
       "  </tbody>\n",
       "</table>\n",
       "</div>"
      ],
      "text/plain": [
       "          statement rank     score      prob\n",
       "0     Alice has cat  [1] -1.862857  0.134370\n",
       "1       Bob has cat  [1] -2.444779  0.079821\n",
       "4   Charlie has cat  [1] -3.258070  0.037038\n",
       "5  Frank like music  [1] -3.725138  0.023542\n",
       "2     Alice has dog  [5] -5.359861  0.004680\n",
       "3       Bob has dog  [7] -6.053673  0.002344"
      ]
     },
     "execution_count": 92,
     "metadata": {},
     "output_type": "execute_result"
    }
   ],
   "source": [
    "from scipy.special import expit\n",
    "probs = expit(scores)\n",
    "\n",
    "pd.DataFrame(list(zip([' '.join(x) for x in X_unseen], \n",
    "                      ranks_unseen, \n",
    "                      np.squeeze(scores),\n",
    "                      np.squeeze(probs))), \n",
    "             columns=['statement', 'rank', 'score', 'prob']).sort_values(\"score\", ascending=False)"
   ]
  },
  {
   "cell_type": "code",
   "execution_count": 93,
   "id": "8458ebf5",
   "metadata": {},
   "outputs": [
    {
     "name": "stdout",
     "output_type": "stream",
     "text": [
      "2/2 [==============================] - 0s 138ms/step\n",
      "MR: 5.166666666666667\n",
      "MRR: 0.2532407407407407\n",
      "hits@1: 0.0\n",
      "hits@3: 0.3333333333333333\n",
      "hits@5: 0.6666666666666666\n",
      "hits@10: 1.0\n"
     ]
    }
   ],
   "source": [
    "# evaluate on the test set\n",
    "ranks = model.evaluate(X_unseen,     # test set\n",
    "                       batch_size=100,      # evaluation batch size\n",
    "                       corrupt_side='s'   # sides to corrupt for scoring and ranking\n",
    "                       )\n",
    "\n",
    "# import the evaluation metrics\n",
    "from ampligraph.evaluation.metrics import mrr_score, hits_at_n_score, mr_score\n",
    "\n",
    "print('MR:', mr_score(ranks))\n",
    "print('MRR:', mrr_score(ranks))\n",
    "print('hits@1:', hits_at_n_score(ranks, 1))\n",
    "print('hits@3:', hits_at_n_score(ranks, 3))\n",
    "print('hits@5:', hits_at_n_score(ranks, 5))\n",
    "print('hits@10:', hits_at_n_score(ranks, 10))"
   ]
  },
  {
   "cell_type": "code",
   "execution_count": 94,
   "id": "7968b6c8",
   "metadata": {},
   "outputs": [
    {
     "name": "stdout",
     "output_type": "stream",
     "text": [
      "2/2 [==============================] - 0s 141ms/step\n",
      "MR: 2.090909090909091\n",
      "MRR: 0.4848484848484848\n",
      "hits@1: 0.0\n",
      "hits@3: 1.0\n",
      "hits@5: 1.0\n",
      "hits@10: 1.0\n"
     ]
    }
   ],
   "source": [
    "# evaluate on the test set\n",
    "ranks = model.evaluate(testing,     # test set\n",
    "                       batch_size=100,      # evaluation batch size\n",
    "                       corrupt_side='o'   # sides to corrupt for scoring and ranking\n",
    "                       )\n",
    "\n",
    "# import the evaluation metrics\n",
    "from ampligraph.evaluation.metrics import mrr_score, hits_at_n_score, mr_score\n",
    "\n",
    "print('MR:', mr_score(ranks))\n",
    "print('MRR:', mrr_score(ranks))\n",
    "print('hits@1:', hits_at_n_score(ranks, 1))\n",
    "print('hits@3:', hits_at_n_score(ranks, 3))\n",
    "print('hits@5:', hits_at_n_score(ranks, 5))\n",
    "print('hits@10:', hits_at_n_score(ranks, 10))"
   ]
  },
  {
   "cell_type": "code",
   "execution_count": 95,
   "id": "f72d4aa7",
   "metadata": {},
   "outputs": [
    {
     "name": "stdout",
     "output_type": "stream",
     "text": [
      "2/2 [==============================] - 1s 302ms/step\n",
      "MR: -2.0\n",
      "MRR: -0.7393939393939394\n",
      "hits@1: 1.0\n",
      "hits@10: 1.0\n"
     ]
    }
   ],
   "source": [
    "# evaluate on the test set\n",
    "ranks = model.evaluate(testing, \n",
    "                       batch_size=100, \n",
    "                       corrupt_side='s,o', # corrupt both subject and object\n",
    "                       use_filter={'train':training, # Filter to be used for evaluation\n",
    "                                   'valid':validation,\n",
    "                                   'test':testing}\n",
    "                       )\n",
    "\n",
    "# import the evaluation metrics\n",
    "from ampligraph.evaluation.metrics import mrr_score, hits_at_n_score, mr_score\n",
    "\n",
    "print('MR:', mr_score(ranks))\n",
    "print('MRR:', mrr_score(ranks))\n",
    "print('hits@1:', hits_at_n_score(ranks, 1))\n",
    "print('hits@10:', hits_at_n_score(ranks, 10))"
   ]
  },
  {
   "cell_type": "markdown",
   "id": "6020fbd6",
   "metadata": {},
   "source": [
    "## 5. Embedding Visualization\n",
    "\n",
    "Visualizing the embeddings can provide some insights into the relationships between entities in our knowledge graph. We can use Principal Component Analysis (PCA) to reduce the dimensionality of our embeddings and then plot them."
   ]
  },
  {
   "cell_type": "code",
   "execution_count": 96,
   "id": "3f2a0a0b",
   "metadata": {},
   "outputs": [
    {
     "data": {
      "text/plain": [
       "dict_keys(['Alice', 'Bob', 'Charlie', 'David', 'Eve', 'Frank', 'cat', 'dog', 'movie', 'music'])"
      ]
     },
     "execution_count": 96,
     "metadata": {},
     "output_type": "execute_result"
    }
   ],
   "source": [
    "triples_factory.entity_to_id.keys()"
   ]
  },
  {
   "cell_type": "code",
   "execution_count": 97,
   "id": "a155077d",
   "metadata": {},
   "outputs": [
    {
     "data": {
      "text/plain": [
       "array([[ 0.16726555, -0.10766312, -0.5298365 , -0.2156327 ,  0.3159383 ,\n",
       "        -0.06428914,  0.52374566,  0.78237295,  0.5997449 , -0.00342622],\n",
       "       [ 0.29607034,  0.00773667, -0.75510985,  0.01566956,  0.28948554,\n",
       "        -0.22447622,  0.60157627,  0.618748  ,  0.1562657 ,  0.597288  ],\n",
       "       [ 0.19737604, -0.32988453, -0.92463756,  0.20418514,  0.49882632,\n",
       "        -0.23448032,  0.75433564,  0.50080484,  0.21668014,  0.6373841 ],\n",
       "       [-0.09856325, -0.23414528, -0.32246736, -0.34077007,  0.01595536,\n",
       "         0.42274022, -0.31549925,  0.33511394, -0.49598426,  0.1490202 ],\n",
       "       [-0.42098436, -0.18767977, -0.43187222, -0.26752305, -0.46653798,\n",
       "         0.5100112 , -0.6375919 , -0.13898835, -0.6615304 ,  0.01944932],\n",
       "       [-0.65026367, -0.81691515, -0.21778958,  0.00701808, -0.32068628,\n",
       "         0.42149007, -0.29847878,  0.20992787, -0.708523  ,  0.20362942],\n",
       "       [ 0.80832976,  0.2017307 ,  0.21106093,  0.25443006, -0.3837773 ,\n",
       "        -0.44499904,  0.02505564,  0.6669175 ,  0.16978125, -0.03057184],\n",
       "       [ 0.00209444, -0.54776156,  0.48228976,  0.42662236, -0.86075807,\n",
       "        -0.19506025, -0.64178216,  0.15291592, -0.21108216, -0.27155542],\n",
       "       [-0.9144202 ,  0.22562405, -0.36584228, -0.3249427 ,  0.78972054,\n",
       "        -0.1758624 ,  0.3957914 ,  0.22197892,  0.8674458 ,  0.09875154],\n",
       "       [-0.89372456,  0.6446125 , -0.28300008, -0.4302461 , -0.00405262,\n",
       "         1.002237  , -0.6952097 , -0.597307  , -0.12271155, -0.32104978]],\n",
       "      dtype=float32)"
      ]
     },
     "execution_count": 97,
     "metadata": {},
     "output_type": "execute_result"
    }
   ],
   "source": [
    "model.get_embeddings(triples_factory.entity_to_id.keys(),embedding_type='e')"
   ]
  },
  {
   "cell_type": "code",
   "execution_count": 98,
   "id": "8491dc86",
   "metadata": {},
   "outputs": [
    {
     "data": {
      "text/plain": [
       "dict_keys(['has', 'like'])"
      ]
     },
     "execution_count": 98,
     "metadata": {},
     "output_type": "execute_result"
    }
   ],
   "source": [
    "triples_factory.relation_to_id.keys()"
   ]
  },
  {
   "cell_type": "code",
   "execution_count": 99,
   "id": "612e6e29",
   "metadata": {},
   "outputs": [
    {
     "data": {
      "text/plain": [
       "array([[ 0.692768  ,  0.2714231 ,  0.697512  ,  0.6093235 , -0.7829521 ,\n",
       "        -0.6187437 , -0.35190454, -0.12987931,  0.36396945, -0.34126928],\n",
       "       [-0.97812164,  0.5418337 ,  0.45092097, -0.3838917 ,  0.14994892,\n",
       "         0.2428179 , -0.3209079 , -0.2101076 ,  0.7583506 , -0.675855  ]],\n",
       "      dtype=float32)"
      ]
     },
     "execution_count": 99,
     "metadata": {},
     "output_type": "execute_result"
    }
   ],
   "source": [
    "model.get_embeddings(triples_factory.relation_to_id.keys(),embedding_type='r')"
   ]
  },
  {
   "cell_type": "code",
   "execution_count": 100,
   "id": "ef2a6b96",
   "metadata": {},
   "outputs": [
    {
     "data": {
      "text/plain": [
       "['Alice',\n",
       " 'Bob',\n",
       " 'Charlie',\n",
       " 'David',\n",
       " 'Eve',\n",
       " 'Frank',\n",
       " 'cat',\n",
       " 'dog',\n",
       " 'movie',\n",
       " 'music']"
      ]
     },
     "execution_count": 100,
     "metadata": {},
     "output_type": "execute_result"
    }
   ],
   "source": [
    "list(triples_factory.entity_to_id.keys())"
   ]
  },
  {
   "cell_type": "code",
   "execution_count": 101,
   "id": "240d1bda",
   "metadata": {},
   "outputs": [
    {
     "data": {
      "image/png": "[encoded data removed]",
      "text/plain": [
       "<Figure size 600x600 with 1 Axes>"
      ]
     },
     "metadata": {},
     "output_type": "display_data"
    }
   ],
   "source": [
    "# Get the entity and relation embeddings\n",
    "entitie_list=list(triples_factory.entity_to_id.keys())\n",
    "relation_list =list(triples_factory.relation_to_id.keys())\n",
    "\n",
    "entity_embeddings = model.get_embeddings(\n",
    "       entitie_list,\n",
    "        embedding_type='e'\n",
    "    )\n",
    "relation_embeddings = model.get_embeddings(\n",
    "        relation_list, \n",
    "        embedding_type='r'\n",
    "    )\n",
    "\n",
    "# Perform PCA on the embeddings\n",
    "pca = PCA(n_components=2)\n",
    "m = pca.fit(entity_embeddings)\n",
    "\n",
    "# Plot the embeddings\n",
    "eu = m.transform(entity_embeddings)\n",
    "plt.figure(figsize=(6, 6))\n",
    "\n",
    "plt.scatter(eu[:, 0], eu[:, 1], color='gray',marker='.')\n",
    "for i, entity in enumerate(entitie_list):\n",
    "#     plt.annotate(entity, (eu[i, 0], eu[i, 1]))\n",
    "    plt.annotate(\n",
    "        text=entity,\n",
    "        xy=(eu[i, 0], eu[i, 1]),\n",
    "        color=\"tab:blue\",\n",
    "        ha=\"center\", va=\"center\"\n",
    "    )\n",
    "\n",
    "ru = m.transform(relation_embeddings)    \n",
    "# plt.scatter(ru[:, 0], ru[:, 1], color='red')\n",
    "for i, relation in enumerate(relation_list):\n",
    "#     plt.annotate(relation, (ru[i, 0], ru[i, 1]))\n",
    "    plt.annotate(\n",
    "        text=relation,\n",
    "        xy=(0,0), xytext=(ru[i, 0], ru[i, 1]),\n",
    "        arrowprops=dict(\n",
    "            arrowstyle=\"<-\",\n",
    "            color=\"tab:red\",\n",
    "            shrinkA=5,\n",
    "            shrinkB=5,\n",
    "            patchA=None,\n",
    "            patchB=None,\n",
    "            connectionstyle=\"arc3,rad=0.\"\n",
    "        )\n",
    "    )\n",
    "\n",
    "    \n",
    "# plt.xlim([-3, 3])\n",
    "# plt.ylim([-3, 3])\n",
    "\n",
    "plt.show()"
   ]
  },
  {
   "cell_type": "code",
   "execution_count": null,
   "id": "c37674c5",
   "metadata": {},
   "outputs": [],
   "source": []
  },
  {
   "cell_type": "code",
   "execution_count": null,
   "id": "cecf9626",
   "metadata": {},
   "outputs": [],
   "source": []
  }
 ],
 "metadata": {
  "kernelspec": {
   "display_name": "Python 3 (ipykernel)",
   "language": "python",
   "name": "python3"
  },
  "language_info": {
   "codemirror_mode": {
    "name": "ipython",
    "version": 3
   },
   "file_extension": ".py",
   "mimetype": "text/x-python",
   "name": "python",
   "nbconvert_exporter": "python",
   "pygments_lexer": "ipython3",
   "version": "3.8.16"
  }
 },
 "nbformat": 4,
 "nbformat_minor": 5
}
