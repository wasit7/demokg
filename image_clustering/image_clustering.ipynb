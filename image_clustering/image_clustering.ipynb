{
 "cells": [
  {
   "cell_type": "code",
   "execution_count": 16,
   "id": "1d713c9b-aaa5-4434-9922-853943adb02b",
   "metadata": {},
   "outputs": [
    {
     "name": "stdout",
     "output_type": "stream",
     "text": [
      "Requirement already satisfied: umap-learn in /home/wasit/miniconda3/envs/image_clustering/lib/python3.10/site-packages (0.5.4)\n",
      "Requirement already satisfied: keras in /home/wasit/miniconda3/envs/image_clustering/lib/python3.10/site-packages (2.14.0)\n",
      "Requirement already satisfied: bokeh in /home/wasit/miniconda3/envs/image_clustering/lib/python3.10/site-packages (3.3.0)\n",
      "Requirement already satisfied: numpy>=1.17 in /home/wasit/miniconda3/envs/image_clustering/lib/python3.10/site-packages (from umap-learn) (1.24.0)\n",
      "Requirement already satisfied: scipy>=1.3.1 in /home/wasit/miniconda3/envs/image_clustering/lib/python3.10/site-packages (from umap-learn) (1.11.3)\n",
      "Requirement already satisfied: scikit-learn>=0.22 in /home/wasit/miniconda3/envs/image_clustering/lib/python3.10/site-packages (from umap-learn) (1.3.1)\n",
      "Requirement already satisfied: numba>=0.51.2 in /home/wasit/miniconda3/envs/image_clustering/lib/python3.10/site-packages (from umap-learn) (0.58.0)\n",
      "Requirement already satisfied: pynndescent>=0.5 in /home/wasit/miniconda3/envs/image_clustering/lib/python3.10/site-packages (from umap-learn) (0.5.10)\n",
      "Requirement already satisfied: tqdm in /home/wasit/miniconda3/envs/image_clustering/lib/python3.10/site-packages (from umap-learn) (4.66.1)\n",
      "Requirement already satisfied: tbb>=2019.0 in /home/wasit/miniconda3/envs/image_clustering/lib/python3.10/site-packages (from umap-learn) (2021.10.0)\n",
      "Requirement already satisfied: Jinja2>=2.9 in /home/wasit/miniconda3/envs/image_clustering/lib/python3.10/site-packages (from bokeh) (3.1.2)\n",
      "Requirement already satisfied: contourpy>=1 in /home/wasit/miniconda3/envs/image_clustering/lib/python3.10/site-packages (from bokeh) (1.1.1)\n",
      "Requirement already satisfied: packaging>=16.8 in /home/wasit/miniconda3/envs/image_clustering/lib/python3.10/site-packages (from bokeh) (23.2)\n",
      "Requirement already satisfied: pandas>=1.2 in /home/wasit/miniconda3/envs/image_clustering/lib/python3.10/site-packages (from bokeh) (2.1.1)\n",
      "Requirement already satisfied: pillow>=7.1.0 in /home/wasit/miniconda3/envs/image_clustering/lib/python3.10/site-packages (from bokeh) (10.1.0)\n",
      "Requirement already satisfied: PyYAML>=3.10 in /home/wasit/miniconda3/envs/image_clustering/lib/python3.10/site-packages (from bokeh) (6.0.1)\n",
      "Requirement already satisfied: tornado>=5.1 in /home/wasit/miniconda3/envs/image_clustering/lib/python3.10/site-packages (from bokeh) (6.3.3)\n",
      "Requirement already satisfied: xyzservices>=2021.09.1 in /home/wasit/miniconda3/envs/image_clustering/lib/python3.10/site-packages (from bokeh) (2023.10.0)\n",
      "Requirement already satisfied: MarkupSafe>=2.0 in /home/wasit/miniconda3/envs/image_clustering/lib/python3.10/site-packages (from Jinja2>=2.9->bokeh) (2.1.3)\n",
      "Requirement already satisfied: llvmlite<0.42,>=0.41.0dev0 in /home/wasit/miniconda3/envs/image_clustering/lib/python3.10/site-packages (from numba>=0.51.2->umap-learn) (0.41.0)\n",
      "Requirement already satisfied: python-dateutil>=2.8.2 in /home/wasit/miniconda3/envs/image_clustering/lib/python3.10/site-packages (from pandas>=1.2->bokeh) (2.8.2)\n",
      "Requirement already satisfied: pytz>=2020.1 in /home/wasit/miniconda3/envs/image_clustering/lib/python3.10/site-packages (from pandas>=1.2->bokeh) (2023.3.post1)\n",
      "Requirement already satisfied: tzdata>=2022.1 in /home/wasit/miniconda3/envs/image_clustering/lib/python3.10/site-packages (from pandas>=1.2->bokeh) (2023.3)\n",
      "Requirement already satisfied: joblib>=0.11 in /home/wasit/miniconda3/envs/image_clustering/lib/python3.10/site-packages (from pynndescent>=0.5->umap-learn) (1.3.2)\n",
      "Requirement already satisfied: threadpoolctl>=2.0.0 in /home/wasit/miniconda3/envs/image_clustering/lib/python3.10/site-packages (from scikit-learn>=0.22->umap-learn) (3.2.0)\n",
      "Requirement already satisfied: six>=1.5 in /home/wasit/miniconda3/envs/image_clustering/lib/python3.10/site-packages (from python-dateutil>=2.8.2->pandas>=1.2->bokeh) (1.16.0)\n",
      "Note: you may need to restart the kernel to use updated packages.\n"
     ]
    }
   ],
   "source": [
    "pip install umap-learn keras bokeh"
   ]
  },
  {
   "cell_type": "code",
   "execution_count": 10,
   "id": "4dd19a24-b325-40ed-ac65-4e75092a6c8f",
   "metadata": {},
   "outputs": [
    {
     "name": "stdout",
     "output_type": "stream",
     "text": [
      "1/1 [==============================] - 1s 1s/step\n"
     ]
    }
   ],
   "source": [
    "# Import necessary libraries\n",
    "import numpy as np\n",
    "import os\n",
    "from keras.applications.resnet50 import ResNet50, preprocess_input\n",
    "from keras.preprocessing import image\n",
    "import umap.umap_ as umap\n",
    "from sklearn.cluster import DBSCAN\n",
    "n_neighbors = 5\n",
    "min_dist =0.1\n",
    "# Load and preprocess images\n",
    "def load_and_preprocess_image(image_path, target_size=(224, 224)):\n",
    "    img = image.load_img(image_path, target_size=target_size)\n",
    "    img_array = image.img_to_array(img)\n",
    "    img_array = np.expand_dims(img_array, axis=0)\n",
    "    return preprocess_input(img_array)\n",
    "\n",
    "image_dir = \"images\"\n",
    "image_paths = [os.path.join(image_dir, img) for img in os.listdir(image_dir) if img.endswith('.jpeg')]\n",
    "images = np.vstack([load_and_preprocess_image(img_path) for img_path in image_paths])\n",
    "\n",
    "# Extract features using ResNet50\n",
    "model = ResNet50(weights='imagenet', include_top=False, pooling='avg')\n",
    "features = model.predict(images)\n",
    "\n",
    "# Reduce dimensionality with UMAP\n",
    "n_neighbors_value = min(5, len(images) - 1)  # ensure it's less than the number of images\n",
    "reducer = umap.UMAP(n_neighbors=n_neighbors_value, n_components=2, metric='cosine', min_dist=min_dist)\n",
    "reduced_features = reducer.fit_transform(features)"
   ]
  },
  {
   "cell_type": "code",
   "execution_count": 11,
   "id": "98840985-ccf9-419f-9ead-67f41c4acfc2",
   "metadata": {},
   "outputs": [
    {
     "data": {
      "text/plain": [
       "array([[ 2.770464 , 22.770649 ],\n",
       "       [ 3.448341 , 23.614315 ],\n",
       "       [ 6.61226  , 23.881523 ],\n",
       "       [ 4.2323546, 22.913202 ],\n",
       "       [ 4.5508957, 23.509552 ],\n",
       "       [ 5.351562 , 25.417938 ],\n",
       "       [ 3.12506  , 22.412535 ],\n",
       "       [ 5.2834   , 23.954283 ],\n",
       "       [ 6.9301167, 24.124784 ],\n",
       "       [ 6.3035316, 24.540722 ],\n",
       "       [ 3.977628 , 23.579678 ],\n",
       "       [ 6.956659 , 24.604525 ],\n",
       "       [ 5.8981695, 25.651417 ],\n",
       "       [ 4.7678328, 25.11481  ],\n",
       "       [ 5.6875987, 24.915102 ],\n",
       "       [ 3.7031102, 23.195509 ],\n",
       "       [ 6.5624027, 25.152428 ],\n",
       "       [ 3.9045005, 22.494768 ]], dtype=float32)"
      ]
     },
     "execution_count": 11,
     "metadata": {},
     "output_type": "execute_result"
    }
   ],
   "source": [
    "reduced_features"
   ]
  },
  {
   "cell_type": "code",
   "execution_count": 32,
   "id": "d03c46db-4181-4555-beb9-8cde3b7ec44f",
   "metadata": {},
   "outputs": [],
   "source": [
    "# Cluster using DBSCAN\n",
    "dbscan = DBSCAN(eps=0.9, min_samples=2, metric='euclidean')\n",
    "clusters = dbscan.fit_predict(reduced_features)\n",
    "n_clusters_ = len(set(clusters)) - (1 if -1 in clusters else 0)"
   ]
  },
  {
   "cell_type": "code",
   "execution_count": 33,
   "id": "b3e8b79c-93f4-44c2-9682-3c5a0d37321a",
   "metadata": {},
   "outputs": [
    {
     "data": {
      "text/plain": [
       "2"
      ]
     },
     "execution_count": 33,
     "metadata": {},
     "output_type": "execute_result"
    }
   ],
   "source": [
    "n_clusters_"
   ]
  },
  {
   "cell_type": "code",
   "execution_count": 50,
   "id": "2c88bdab-82bf-4e21-9167-f85d1df73cf8",
   "metadata": {},
   "outputs": [
    {
     "data": {
      "text/plain": [
       "['#FBAC10', '#9E2963', '#D94D3D']"
      ]
     },
     "execution_count": 50,
     "metadata": {},
     "output_type": "execute_result"
    }
   ],
   "source": [
    "import random as rd\n",
    "from bokeh.plotting import figure, show\n",
    "from bokeh.models import HoverTool, ColumnDataSource, ColorBar\n",
    "from bokeh.transform import linear_cmap\n",
    "from bokeh.palettes import all_palettes\n",
    "from bokeh.palettes import inferno\n",
    "color_map = rd.choices(inferno(256), k=n_clusters_+1)\n",
    "color_map"
   ]
  },
  {
   "cell_type": "code",
   "execution_count": 51,
   "id": "f5fb214f-2e7d-489f-bd85-ecbc4ebef100",
   "metadata": {},
   "outputs": [
    {
     "data": {
      "text/plain": [
       "array([0, 0, 1, 0, 0, 1, 0, 0, 1, 1, 0, 1, 1, 1, 1, 0, 1, 0])"
      ]
     },
     "execution_count": 51,
     "metadata": {},
     "output_type": "execute_result"
    }
   ],
   "source": [
    "clusters"
   ]
  },
  {
   "cell_type": "code",
   "execution_count": 52,
   "id": "a1a67530-7801-4820-b8f4-a00dfd7dbce9",
   "metadata": {},
   "outputs": [],
   "source": [
    "import pandas as pd"
   ]
  },
  {
   "cell_type": "code",
   "execution_count": 53,
   "id": "26ddf806-68a7-45c2-b03e-c56a13375ae4",
   "metadata": {},
   "outputs": [
    {
     "data": {
      "text/html": [
       "<div>\n",
       "<style scoped>\n",
       "    .dataframe tbody tr th:only-of-type {\n",
       "        vertical-align: middle;\n",
       "    }\n",
       "\n",
       "    .dataframe tbody tr th {\n",
       "        vertical-align: top;\n",
       "    }\n",
       "\n",
       "    .dataframe thead th {\n",
       "        text-align: right;\n",
       "    }\n",
       "</style>\n",
       "<table border=\"1\" class=\"dataframe\">\n",
       "  <thead>\n",
       "    <tr style=\"text-align: right;\">\n",
       "      <th></th>\n",
       "      <th>x</th>\n",
       "      <th>y</th>\n",
       "      <th>path</th>\n",
       "      <th>cluster</th>\n",
       "      <th>color</th>\n",
       "    </tr>\n",
       "  </thead>\n",
       "  <tbody>\n",
       "    <tr>\n",
       "      <th>0</th>\n",
       "      <td>2.770464</td>\n",
       "      <td>22.770649</td>\n",
       "      <td>images/cat9.jpeg</td>\n",
       "      <td>0</td>\n",
       "      <td>#FBAC10</td>\n",
       "    </tr>\n",
       "    <tr>\n",
       "      <th>1</th>\n",
       "      <td>3.448341</td>\n",
       "      <td>23.614315</td>\n",
       "      <td>images/cat4.jpeg</td>\n",
       "      <td>0</td>\n",
       "      <td>#FBAC10</td>\n",
       "    </tr>\n",
       "    <tr>\n",
       "      <th>2</th>\n",
       "      <td>6.612260</td>\n",
       "      <td>23.881523</td>\n",
       "      <td>images/dog2.jpeg</td>\n",
       "      <td>1</td>\n",
       "      <td>#9E2963</td>\n",
       "    </tr>\n",
       "    <tr>\n",
       "      <th>3</th>\n",
       "      <td>4.232355</td>\n",
       "      <td>22.913202</td>\n",
       "      <td>images/cat2.jpeg</td>\n",
       "      <td>0</td>\n",
       "      <td>#FBAC10</td>\n",
       "    </tr>\n",
       "    <tr>\n",
       "      <th>4</th>\n",
       "      <td>4.550896</td>\n",
       "      <td>23.509552</td>\n",
       "      <td>images/cat5.jpeg</td>\n",
       "      <td>0</td>\n",
       "      <td>#FBAC10</td>\n",
       "    </tr>\n",
       "    <tr>\n",
       "      <th>5</th>\n",
       "      <td>5.351562</td>\n",
       "      <td>25.417938</td>\n",
       "      <td>images/dog9.jpeg</td>\n",
       "      <td>1</td>\n",
       "      <td>#9E2963</td>\n",
       "    </tr>\n",
       "    <tr>\n",
       "      <th>6</th>\n",
       "      <td>3.125060</td>\n",
       "      <td>22.412535</td>\n",
       "      <td>images/cat1.jpeg</td>\n",
       "      <td>0</td>\n",
       "      <td>#FBAC10</td>\n",
       "    </tr>\n",
       "    <tr>\n",
       "      <th>7</th>\n",
       "      <td>5.283400</td>\n",
       "      <td>23.954283</td>\n",
       "      <td>images/cat6.jpeg</td>\n",
       "      <td>0</td>\n",
       "      <td>#FBAC10</td>\n",
       "    </tr>\n",
       "    <tr>\n",
       "      <th>8</th>\n",
       "      <td>6.930117</td>\n",
       "      <td>24.124784</td>\n",
       "      <td>images/dog4.jpeg</td>\n",
       "      <td>1</td>\n",
       "      <td>#9E2963</td>\n",
       "    </tr>\n",
       "    <tr>\n",
       "      <th>9</th>\n",
       "      <td>6.303532</td>\n",
       "      <td>24.540722</td>\n",
       "      <td>images/dog3.jpeg</td>\n",
       "      <td>1</td>\n",
       "      <td>#9E2963</td>\n",
       "    </tr>\n",
       "    <tr>\n",
       "      <th>10</th>\n",
       "      <td>3.977628</td>\n",
       "      <td>23.579678</td>\n",
       "      <td>images/cat7.jpeg</td>\n",
       "      <td>0</td>\n",
       "      <td>#FBAC10</td>\n",
       "    </tr>\n",
       "    <tr>\n",
       "      <th>11</th>\n",
       "      <td>6.956659</td>\n",
       "      <td>24.604525</td>\n",
       "      <td>images/dog5.jpeg</td>\n",
       "      <td>1</td>\n",
       "      <td>#9E2963</td>\n",
       "    </tr>\n",
       "    <tr>\n",
       "      <th>12</th>\n",
       "      <td>5.898170</td>\n",
       "      <td>25.651417</td>\n",
       "      <td>images/dog1.jpeg</td>\n",
       "      <td>1</td>\n",
       "      <td>#9E2963</td>\n",
       "    </tr>\n",
       "    <tr>\n",
       "      <th>13</th>\n",
       "      <td>4.767833</td>\n",
       "      <td>25.114811</td>\n",
       "      <td>images/dog6.jpeg</td>\n",
       "      <td>1</td>\n",
       "      <td>#9E2963</td>\n",
       "    </tr>\n",
       "    <tr>\n",
       "      <th>14</th>\n",
       "      <td>5.687599</td>\n",
       "      <td>24.915102</td>\n",
       "      <td>images/dog8.jpeg</td>\n",
       "      <td>1</td>\n",
       "      <td>#9E2963</td>\n",
       "    </tr>\n",
       "    <tr>\n",
       "      <th>15</th>\n",
       "      <td>3.703110</td>\n",
       "      <td>23.195509</td>\n",
       "      <td>images/cat8.jpeg</td>\n",
       "      <td>0</td>\n",
       "      <td>#FBAC10</td>\n",
       "    </tr>\n",
       "    <tr>\n",
       "      <th>16</th>\n",
       "      <td>6.562403</td>\n",
       "      <td>25.152428</td>\n",
       "      <td>images/dog7.jpeg</td>\n",
       "      <td>1</td>\n",
       "      <td>#9E2963</td>\n",
       "    </tr>\n",
       "    <tr>\n",
       "      <th>17</th>\n",
       "      <td>3.904500</td>\n",
       "      <td>22.494768</td>\n",
       "      <td>images/cat3.jpeg</td>\n",
       "      <td>0</td>\n",
       "      <td>#FBAC10</td>\n",
       "    </tr>\n",
       "  </tbody>\n",
       "</table>\n",
       "</div>"
      ],
      "text/plain": [
       "           x          y              path  cluster    color\n",
       "0   2.770464  22.770649  images/cat9.jpeg        0  #FBAC10\n",
       "1   3.448341  23.614315  images/cat4.jpeg        0  #FBAC10\n",
       "2   6.612260  23.881523  images/dog2.jpeg        1  #9E2963\n",
       "3   4.232355  22.913202  images/cat2.jpeg        0  #FBAC10\n",
       "4   4.550896  23.509552  images/cat5.jpeg        0  #FBAC10\n",
       "5   5.351562  25.417938  images/dog9.jpeg        1  #9E2963\n",
       "6   3.125060  22.412535  images/cat1.jpeg        0  #FBAC10\n",
       "7   5.283400  23.954283  images/cat6.jpeg        0  #FBAC10\n",
       "8   6.930117  24.124784  images/dog4.jpeg        1  #9E2963\n",
       "9   6.303532  24.540722  images/dog3.jpeg        1  #9E2963\n",
       "10  3.977628  23.579678  images/cat7.jpeg        0  #FBAC10\n",
       "11  6.956659  24.604525  images/dog5.jpeg        1  #9E2963\n",
       "12  5.898170  25.651417  images/dog1.jpeg        1  #9E2963\n",
       "13  4.767833  25.114811  images/dog6.jpeg        1  #9E2963\n",
       "14  5.687599  24.915102  images/dog8.jpeg        1  #9E2963\n",
       "15  3.703110  23.195509  images/cat8.jpeg        0  #FBAC10\n",
       "16  6.562403  25.152428  images/dog7.jpeg        1  #9E2963\n",
       "17  3.904500  22.494768  images/cat3.jpeg        0  #FBAC10"
      ]
     },
     "execution_count": 53,
     "metadata": {},
     "output_type": "execute_result"
    }
   ],
   "source": [
    "df=pd.DataFrame({\n",
    "    'x': reduced_features[:, 0],\n",
    "    'y': reduced_features[:, 1],\n",
    "    'path': image_paths,\n",
    "    'cluster': clusters,\n",
    "    'color': [color_map[i] for i in clusters]\n",
    "})\n",
    "df"
   ]
  },
  {
   "cell_type": "code",
   "execution_count": 54,
   "id": "a53c4f9f-e936-4f2d-a5e9-fcdebd30aefd",
   "metadata": {},
   "outputs": [],
   "source": [
    "source = ColumnDataSource(data=df)\n",
    "hover = HoverTool(tooltips=[\n",
    "    (\"index\", \"$index\"),\n",
    "    (\"(x,y)\", \"(@x, @y)\"),\n",
    "    ('path', '@path'),\n",
    "    ('cluster', '@cluster')\n",
    "])\n",
    "\n",
    "plot = figure(width=800, height=800, tools=[hover], title=\"Movie Poster Clusters with Bokeh\")\n",
    "\n",
    "plot.circle('x', 'y', size=10, source=source, fill_color={\"field\":\"color\"})\n",
    "show(plot)"
   ]
  },
  {
   "cell_type": "code",
   "execution_count": 15,
   "id": "92fe359c-80c9-4a3d-b00d-8d4b2f402c43",
   "metadata": {},
   "outputs": [],
   "source": []
  },
  {
   "cell_type": "code",
   "execution_count": 16,
   "id": "a663c466-eba2-4e6d-8b5a-89606c427671",
   "metadata": {},
   "outputs": [
    {
     "data": {
      "text/plain": [
       "2"
      ]
     },
     "execution_count": 16,
     "metadata": {},
     "output_type": "execute_result"
    }
   ],
   "source": [
    "n_clusters_"
   ]
  },
  {
   "cell_type": "code",
   "execution_count": null,
   "id": "6b5ee313-9935-476d-948e-85146ceef30a",
   "metadata": {},
   "outputs": [],
   "source": []
  }
 ],
 "metadata": {
  "kernelspec": {
   "display_name": "Python 3 (ipykernel)",
   "language": "python",
   "name": "python3"
  },
  "language_info": {
   "codemirror_mode": {
    "name": "ipython",
    "version": 3
   },
   "file_extension": ".py",
   "mimetype": "text/x-python",
   "name": "python",
   "nbconvert_exporter": "python",
   "pygments_lexer": "ipython3",
   "version": "3.10.13"
  }
 },
 "nbformat": 4,
 "nbformat_minor": 5
}
