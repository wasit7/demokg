{
 "cells": [
  {
   "cell_type": "code",
   "execution_count": 54,
   "id": "3e33f3f3",
   "metadata": {},
   "outputs": [],
   "source": [
    "import os\n",
    "from dotenv import load_dotenv\n",
    "from langchain.llms import OpenAI\n",
    "# load .env file\n",
    "load_dotenv('../.env')\n",
    "\n",
    "# initialize the models\n",
    "openai = OpenAI(\n",
    "#     model_name=\"text-davinci-003\",\n",
    "    model_name=\"text-davinci-002\",\n",
    "#     model_name=\"gpt-3.5-turbo-16k\",\n",
    "    openai_api_key= os.getenv(\"OPENAI_API_KEY\"),\n",
    "    temperature=1.0,\n",
    "    max_tokens=512\n",
    ")"
   ]
  },
  {
   "cell_type": "markdown",
   "id": "b5baf2e1",
   "metadata": {},
   "source": [
    "## Zero-shot COT Prompting\n"
   ]
  },
  {
   "cell_type": "markdown",
   "id": "872a8471",
   "metadata": {},
   "source": [
    "- I went to the market and bought 10 apples.\n",
    "- I gave 2 apples to the neighbor and 2 to the repairman.\n",
    "- I then went and bought 5 more apples and ate 1.\n",
    "\n",
    "10-2-2+5-1 = 10"
   ]
  },
  {
   "cell_type": "code",
   "execution_count": 57,
   "id": "f43f35f8",
   "metadata": {},
   "outputs": [
    {
     "name": "stdout",
     "output_type": "stream",
     "text": [
      "\n",
      "\n",
      "I would have 7 apples left.\n"
     ]
    }
   ],
   "source": [
    "prompt=\"\"\"\n",
    "I went to the market and bought 10 apples. I gave 2 apples to the neighbor and 2 to the repairman. I then went and bought 5 more apples and ate 1. \n",
    "How many apples did I remain with?\"\"\"\n",
    "print(openai(prompt))"
   ]
  },
  {
   "cell_type": "code",
   "execution_count": 60,
   "id": "434c9739",
   "metadata": {},
   "outputs": [
    {
     "name": "stdout",
     "output_type": "stream",
     "text": [
      " \n",
      "The first sentence says that you bought 10 apples. So we start with 10. \n",
      "Then, you gave 2 apples to the neighbor and 2 apples to the repairman. This leaves you with 6 apples. \n",
      "Then, you went to buy 5 more apples. Now you have 11 apples.\n",
      "Finally, you eat 1 apple. This leaves you with 10 apples.\n"
     ]
    }
   ],
   "source": [
    "prompt=\"\"\"\n",
    "I went to the market and bought 10 apples. I gave 2 apples to the neighbor and 2 to the repairman. I then went and bought 5 more apples and ate 1. How many apples did I remain with?\n",
    "Let's think step by step.\"\"\"\n",
    "print(openai(prompt))"
   ]
  },
  {
   "cell_type": "code",
   "execution_count": null,
   "id": "8f2c26bb",
   "metadata": {},
   "outputs": [],
   "source": []
  },
  {
   "cell_type": "code",
   "execution_count": null,
   "id": "b5746e43",
   "metadata": {},
   "outputs": [],
   "source": []
  }
 ],
 "metadata": {
  "kernelspec": {
   "display_name": "Python 3 (ipykernel)",
   "language": "python",
   "name": "python3"
  },
  "language_info": {
   "codemirror_mode": {
    "name": "ipython",
    "version": 3
   },
   "file_extension": ".py",
   "mimetype": "text/x-python",
   "name": "python",
   "nbconvert_exporter": "python",
   "pygments_lexer": "ipython3",
   "version": "3.8.16"
  }
 },
 "nbformat": 4,
 "nbformat_minor": 5
}
