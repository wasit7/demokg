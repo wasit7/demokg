{
 "cells": [
  {
   "cell_type": "code",
   "execution_count": 1,
   "id": "226ec403",
   "metadata": {},
   "outputs": [
    {
     "name": "stderr",
     "output_type": "stream",
     "text": [
      "/home/wasit/miniconda3/envs/demokg/lib/python3.8/site-packages/langchain/llms/openai.py:171: UserWarning: You are trying to use a chat model. This way of initializing it is no longer supported. Instead, please use: `from langchain.chat_models import ChatOpenAI`\n",
      "  warnings.warn(\n",
      "/home/wasit/miniconda3/envs/demokg/lib/python3.8/site-packages/langchain/llms/openai.py:716: UserWarning: You are trying to use a chat model. This way of initializing it is no longer supported. Instead, please use: `from langchain.chat_models import ChatOpenAI`\n",
      "  warnings.warn(\n"
     ]
    }
   ],
   "source": [
    "import os\n",
    "from dotenv import load_dotenv\n",
    "from langchain.llms import OpenAI\n",
    "# load .env file\n",
    "load_dotenv('../.env')\n",
    "\n",
    "# initialize the models\n",
    "openai = OpenAI(\n",
    "#     model_name=\"text-davinci-003\",\n",
    "    model_name=\"gpt-3.5-turbo-16k\",\n",
    "    openai_api_key= os.getenv(\"OPENAI_API_KEY\"),\n",
    "    temperature=0.9,\n",
    "    max_tokens=4096\n",
    ")"
   ]
  },
  {
   "cell_type": "code",
   "execution_count": 2,
   "id": "bb110f2f",
   "metadata": {},
   "outputs": [
    {
     "data": {
      "text/plain": [
       "'blue during the day and black at night.'"
      ]
     },
     "execution_count": 2,
     "metadata": {},
     "output_type": "execute_result"
    }
   ],
   "source": [
    "openai(\"The sky is\")"
   ]
  },
  {
   "cell_type": "code",
   "execution_count": 3,
   "id": "1f0364fb",
   "metadata": {},
   "outputs": [
    {
     "name": "stdout",
     "output_type": "stream",
     "text": [
      "blue\n"
     ]
    }
   ],
   "source": [
    "prompt=\"\"\"\n",
    "The sky is\n",
    "\"\"\"\n",
    "\n",
    "print(openai(prompt))"
   ]
  },
  {
   "cell_type": "markdown",
   "id": "9d9ad51c",
   "metadata": {},
   "source": [
    "## Instruction"
   ]
  },
  {
   "cell_type": "code",
   "execution_count": 4,
   "id": "99857478",
   "metadata": {},
   "outputs": [
    {
     "name": "stdout",
     "output_type": "stream",
     "text": [
      "blue during the day and dark at night.\n"
     ]
    }
   ],
   "source": [
    "prompt=\"\"\"\n",
    "Complete the sentence: \n",
    "\n",
    "The sky is\n",
    "\"\"\"\n",
    "print(openai(prompt))"
   ]
  },
  {
   "cell_type": "code",
   "execution_count": 5,
   "id": "b1fa94d5",
   "metadata": {},
   "outputs": [
    {
     "name": "stdout",
     "output_type": "stream",
     "text": [
      "a vast expanse of ever-changing beauty and wonder. From dawn to dusk, it becomes a canvas for nature's most breathtaking displays. During the day, the sky is a brilliant shade of blue, dotted with puffy white clouds that seem to dance across its surface. It stretches out endlessly, seeming to meet the horizon in a seamless blend of earth and heaven. As the sun sets, the sky transforms into a magnificent array of vibrant colors - fiery hues of orange, pink, and purple that paint the heavens. Stars begin to emerge, twinkling like diamonds against the darkening backdrop. The sky is a source of inspiration and awe, reminding us of the vastness of the universe and our place within it. It holds secrets and mysteries yet to be uncovered, enticing us to look up and dream. The sky is a reflection of our emotions too - on clear days, it can fill us with happiness and hope, while stormy skies can evoke a sense of wonder and awe at the power of nature. In times of sadness or grief, looking up at the sky can bring solace, reminding us of the vastness of the world and the potential for healing and growth. The sky is a constant presence, ever-changing and yet eternally constant. It connects us to the natural world and to each other, reminding us that we are all part of something much larger than ourselves.\n"
     ]
    }
   ],
   "source": [
    "prompt=\"\"\"\n",
    "Complete the sentence with more than 100 words: \n",
    "\n",
    "The sky is\n",
    "\"\"\"\n",
    "print(openai(prompt))"
   ]
  },
  {
   "cell_type": "markdown",
   "id": "c7edcd2f",
   "metadata": {},
   "source": [
    "## giving examples (few-shot)"
   ]
  },
  {
   "cell_type": "code",
   "execution_count": 6,
   "id": "90e3a769",
   "metadata": {},
   "outputs": [
    {
     "name": "stdout",
     "output_type": "stream",
     "text": [
      "The sentiment of the statement is positive. It conveys feelings of happiness and excitement about the upcoming event.\n"
     ]
    }
   ],
   "source": [
    "prompt=\"\"\"\n",
    "Analyze the sentiment of the following statement:\n",
    "\n",
    "I am feeling happy and excited about the upcoming event.\n",
    "\"\"\"\n",
    "print(openai(prompt))"
   ]
  },
  {
   "cell_type": "code",
   "execution_count": 7,
   "id": "1844932a",
   "metadata": {},
   "outputs": [
    {
     "name": "stdout",
     "output_type": "stream",
     "text": [
      "Negative\n"
     ]
    }
   ],
   "source": [
    "prompt=\"\"\"\n",
    "This is awesome! // Positive\n",
    "This is bad! // Negative\n",
    "Wow that movie was rad! // Positive\n",
    "What a horrible show! //\n",
    "\"\"\"\n",
    "print(openai(prompt))"
   ]
  },
  {
   "cell_type": "code",
   "execution_count": 8,
   "id": "af123ed3",
   "metadata": {},
   "outputs": [
    {
     "name": "stdout",
     "output_type": "stream",
     "text": [
      "กิจกรรมจับคู่เจรจาธุรกิจออนไลน์ (Online Business Matching) จัดขึ้นโดยสำนักพัฒนาตลาดและธุรกิจไทยในต่างประเทศ 2 กรมส่งเสริมการค้าระหว่างประเทศ ให้โอกาสแก่ผู้ประกอบการหรือผู้ที่สนใจในการเปิดตลาดเจรจาการค้าออนไลน์ใน 6 ภูมิภาค ภูมิภาคอเมริกา ลาตินอเมริกา ยุโรป CIS แอฟริกา และตะวันออกกลาง\n"
     ]
    }
   ],
   "source": [
    "prompt=\"\"\"\n",
    "Generate a concise summary of a given article.\n",
    "Please provide a brief summary of the following article in Thai:\n",
    "\n",
    "ขอเชิญผู้ประกอบการหรือผู้ที่สนใจเข้าสมัครร่วมกิจกรรมจับคู่เจรจาธุรกิจออนไลน์ (Online Business Matching) เป็นโอกาสที่ไม่ควรพลาดในการเปิดตลาดเจรจาการค้า ผ่านระบบออนไลน์ ใน 6 ภูมิภาค ได้แก่ ภูมิภาคอเมริกา ลาตินอเมริกา ยุโรป CIS แอฟริกา และตะวันออกกลาง จัดโดย สำนักพัฒนาตลาดและธุรกิจไทยในต่างประเทศ 2 กรมส่งเสริมการค้าระหว่างประเทศ\n",
    "\"\"\"\n",
    "print(openai(prompt))"
   ]
  },
  {
   "cell_type": "code",
   "execution_count": 9,
   "id": "02f0695f",
   "metadata": {},
   "outputs": [
    {
     "name": "stdout",
     "output_type": "stream",
     "text": [
      "\"Join the Online Business Matching event and seize the opportunity to expand your market and trade globally in 6 regions: North America, Latin America, Europe, CIS, Africa, and the Middle East, organized by the Department of International Trade Promotion and the Department of Business Development.\"\n"
     ]
    }
   ],
   "source": [
    "prompt=\"\"\"\n",
    "Create an engaging and meaningful short-one-liner the following article:\n",
    "\n",
    "ขอเชิญผู้ประกอบการหรือผู้ที่สนใจเข้าสมัครร่วมกิจกรรมจับคู่เจรจาธุรกิจออนไลน์ (Online Business Matching) เป็นโอกาสที่ไม่ควรพลาดในการเปิดตลาดเจรจาการค้า ผ่านระบบออนไลน์ ใน 6 ภูมิภาค ได้แก่ ภูมิภาคอเมริกา ลาตินอเมริกา ยุโรป CIS แอฟริกา และตะวันออกกลาง จัดโดย สำนักพัฒนาตลาดและธุรกิจไทยในต่างประเทศ 2 กรมส่งเสริมการค้าระหว่างประเทศ\n",
    "\"\"\"\n",
    "print(openai(prompt))"
   ]
  },
  {
   "cell_type": "code",
   "execution_count": 10,
   "id": "9d0014ce",
   "metadata": {},
   "outputs": [
    {
     "name": "stdout",
     "output_type": "stream",
     "text": [
      "Please invite entrepreneurs or those interested to apply for the Online Business Matching event, which is an opportunity not to be missed for market access and online trading negotiations. The event will be held in 6 regions, namely North America, Latin America, Europe CIS, Africa, and the Middle East, organized by the Department of International Trade Promotion and the Department of Trade Negotiations.\n"
     ]
    }
   ],
   "source": [
    "prompt=\"\"\"\n",
    "Translate a given English text to English.\n",
    "Translate the following English text to English:\n",
    "\n",
    "ขอเชิญผู้ประกอบการหรือผู้ที่สนใจเข้าสมัครร่วมกิจกรรมจับคู่เจรจาธุรกิจออนไลน์ (Online Business Matching) เป็นโอกาสที่ไม่ควรพลาดในการเปิดตลาดเจรจาการค้า ผ่านระบบออนไลน์ ใน 6 ภูมิภาค ได้แก่ ภูมิภาคอเมริกา ลาตินอเมริกา ยุโรป CIS แอฟริกา และตะวันออกกลาง จัดโดย สำนักพัฒนาตลาดและธุรกิจไทยในต่างประเทศ 2 กรมส่งเสริมการค้าระหว่างประเทศ\n",
    "\"\"\"\n",
    "print(openai(prompt))"
   ]
  },
  {
   "cell_type": "markdown",
   "id": "e5360884",
   "metadata": {},
   "source": [
    "## Act as a Salesperson"
   ]
  },
  {
   "cell_type": "code",
   "execution_count": 11,
   "id": "8566933e",
   "metadata": {},
   "outputs": [
    {
     "name": "stdout",
     "output_type": "stream",
     "text": [
      "ขอโทษที่รบกวนคุณครับ/ค่ะ ฉันโทรเพื่อแนะนำกิจกรรมที่ไม่ควรพลาดสำหรับผู้ประกอบการหรือผู้ที่สนใจในการเติบโตธุรกิจของคุณ นั่นก็คือ \"กิจกรรมจับคู่เจรจาธุรกิจออนไลน์ (Online Business Matching)\" ที่จะช่วยเพิ่มมูลค่าและความสำเร็จให้กับท่านในการเปิดตลาดและเจรจาการค้าผ่านระบบออนไลน์!\n",
      "\n",
      "กิจกรรมนี้จัดขึ้นโดยสำนักพัฒนาตลาดและธุรกิจไทยในต่างประเทศ ภายใต้กระทรวงพาณิชย์ และได้เป็นที่ไว้วางใจของผู้ประกอบการจากทั่วโลกมากมาย จากประเทศใน 6 ภูมิภาคที่สำคัญ ได้แก่ อเมริกา ลาตินอเมริกา ยุโรป CIS แอฟริกา และตะวันออกกลาง\n",
      "\n",
      "ท่านจะได้รับโอกาสพบปะกับผู้ประกอบการระดับนานาชาติที่มีความสนใจในการค้าเชิงนำเข้าและส่งออก ในแบบธุรกิจผ่านเครือข่ายออนไลน์ที่ใหญ่ที่สุดในประเทศไทย โดยคุณจะสามารถเชื่อมโยงกับนักลงทุน ที่ทำให้คุณสามารถขยายธุรกิจของคุณได้อย่างรวดเร็วและมีความสำเร็จ\n",
      "\n",
      "ไม่เพียงเท่านั้น คุณยังสามารถใช้เวลาเจรจาธุรกิจกับผู้ประกอบการอื่น ๆ ที่สนใจ ผ่านการนัดหมายทางออนไลน์ที่ง่ายดาย ได้รับคำแนะนำจากผู้เชี่ยวชาญ และกำหนดวันเวลาที่เหมาะสมสำหรับการพบปะเพื่อซื้อขาย ทั้งนี้ ช่วยประหยัดเวลาและค่าใช้จ่ายในการเดินทางไปประเทศต่างๆ อีกด้วย!\n",
      "\n",
      "อย่ารอช้า! ไม่ว่าคุณจะได้รับประสบการณ์ด้านธุรกิจมากน้อยแค่ไหน กิจกรรมจับคู่เจรจาธุรกิจออนไลน์นี้จะเป็นโอกาสที่ท่านไม่ควรพลาดในการขยายและเติบโตธุรกิจของคุณอีกต่อไป!\n",
      "\n",
      "หากท่านสนใจเข้าร่วมกิจกรรมที่มีความมั่นใจว่าจะเพิ่มมูลค่าและความสำเร็จของท่าน กรุณาทำการลงทะเบียนและสอบถามรายละเอียดเพิ่มเติมได้ที่เว็บไซต์ของเรา หรือโทรติดต่อเจ้าหน้าที่ผู้เชี่ยวชาญในการจับคู่เจรจาธุรกิจออนไลน์ได้ทันที!\n",
      "\n",
      "ขอบคุณครับ/ค่ะ ที่ให้ความสนใจและเวลาของท่าน\n"
     ]
    }
   ],
   "source": [
    "prompt=\"\"\"\n",
    "I want you to act as a salesperson. Try to market the following event to me, but make what you're trying to market look more valuable than it is and convince me to buy it. Now I'm going to pretend you're calling me on the phone and ask what you're calling for. Hello, what did you call for?\n",
    "\n",
    "ขอเชิญผู้ประกอบการหรือผู้ที่สนใจเข้าสมัครร่วมกิจกรรมจับคู่เจรจาธุรกิจออนไลน์ (Online Business Matching) เป็นโอกาสที่ไม่ควรพลาดในการเปิดตลาดเจรจาการค้า ผ่านระบบออนไลน์ ใน 6 ภูมิภาค ได้แก่ ภูมิภาคอเมริกา ลาตินอเมริกา ยุโรป CIS แอฟริกา และตะวันออกกลาง จัดโดย สำนักพัฒนาตลาดและธุรกิจไทยในต่างประเทศ 2 กรมส่งเสริมการค้าระหว่างประเทศ\n",
    "\"\"\"\n",
    "print(openai(prompt))"
   ]
  },
  {
   "cell_type": "markdown",
   "id": "8e0cb483",
   "metadata": {},
   "source": [
    "## Elements of a Prompt\n",
    "\n",
    "As we cover more and more examples and applications with prompt engineering, you will notice that certain elements make up a prompt.\n",
    "\n",
    "A prompt contains any of the following elements:\n",
    "\n",
    "* **Instruction** - a specific task or instruction you want the model to perform\n",
    "\n",
    "* **Context** - external information or additional context that can steer the model to better responses\n",
    "\n",
    "* **Input Data** - the input or question that we are interested to find a response for\n",
    "\n",
    "* **Output Indicator** - the type or format of the output."
   ]
  },
  {
   "cell_type": "markdown",
   "id": "d3772010",
   "metadata": {},
   "source": [
    "## Act as a Chief Executive Officer\n",
    "\n"
   ]
  },
  {
   "cell_type": "code",
   "execution_count": 12,
   "id": "b0c6258a",
   "metadata": {},
   "outputs": [
    {
     "name": "stdout",
     "output_type": "stream",
     "text": [
      "Sure, I can help you organize the given event. Here is a plan for the Online Business Matching event:\n",
      "\n",
      "1. Pre-event Planning:\n",
      "- Determine the target audience for the event and create a marketing strategy to attract participants from the 6 regions: Americas, Latin America, Europe, CIS, Africa, and the Middle East.\n",
      "- Set a budget for the event, allocating funds for venue rental (if applicable), transportation facilities, catering services, marketing expenses, and any other necessary expenses.\n",
      "- Identify the specific goals and objectives of the event, such as promoting international trade, fostering business partnerships, and facilitating networking opportunities.\n",
      "\n",
      "2. Venue and Resources:\n",
      "- Since this event is online, there is no physical venue required. However, ensure that you have a reliable and secure online platform or software for hosting the event. Test the platform beforehand to ensure smooth operation during the event.\n",
      "- Allocate resources for technical support to assist participants with any technical difficulties they may encounter during the event.\n",
      "- Ensure sufficient internet bandwidth to accommodate the expected number of participants from different regions.\n",
      "\n",
      "3. Event Schedule:\n",
      "- Develop a detailed schedule for the event, including the specific timings for sessions, breaks, and networking opportunities. Take into account the different time zones of the participating regions to optimize attendance.\n",
      "- Plan interactive sessions such as webinars, panel discussions, presentations, and Q&A sessions to provide valuable content to participants.\n",
      "\n",
      "4. Participant Registration and Communication:\n",
      "- Create an online registration system for participants to sign up for the event. Collect relevant information such as name, company, region, and business interests to facilitate personalized matchmaking.\n",
      "- Communicate regularly with registered participants through email newsletters, social media updates, and personalized messages to keep them engaged and informed about the event details.\n",
      "\n",
      "5. Matchmaking and Business Networking:\n",
      "- Develop a matchmaking algorithm or manual process to pair participants based on their business interests and objectives.\n",
      "- Arrange one-on-one online meetings between matched participants to facilitate business discussions and networking opportunities.\n",
      "- Provide a virtual networking lounge or chat platform for participants to interact with each other informally.\n",
      "\n",
      "6. Safety and Risk Mitigation:\n",
      "- Educate participants about online safety measures and encourage the use of secure internet connections and passwords for their online meetings.\n",
      "- Have a contingency plan in place in case of technical difficulties or platform issues. Ensure there is a backup system or alternative communication method available.\n",
      "- Consider implementing data protection and privacy measures to secure participants' information and prevent unauthorized access.\n",
      "\n",
      "7. Post-event Evaluation:\n",
      "- Gather feedback from participants through surveys or feedback forms to assess their satisfaction and identify areas for improvement.\n",
      "- Analyze the outcomes of the event, such as the number of successful business connections made, partnerships formed, and trade deals initiated, to measure the event's success.\n",
      "\n",
      "Remember to adapt the plan according to the specific requirements and resources available for the event. Good luck with organizing the Online Business Matching event!\n"
     ]
    }
   ],
   "source": [
    "prompt=\"\"\"\n",
    "## instruction\n",
    "I want you to act as a logistician. I will provide you with details on an upcoming event in thai, such as the number of people attending, the location, and other relevant factors. Your role is to develop an efficient logistical plan for the event (Online Business Matching) that takes into account allocating resources beforehand, transportation facilities, catering services etc. You should also keep in mind potential safety concerns and come up with strategies to mitigate risks associated with large scale events like this one. \n",
    "\n",
    "##context\n",
    "ขอเชิญผู้ประกอบการหรือผู้ที่สนใจเข้าสมัครร่วมกิจกรรมจับคู่เจรจาธุรกิจออนไลน์ (Online Business Matching) เป็นโอกาสที่ไม่ควรพลาดในการเปิดตลาดเจรจาการค้า ผ่านระบบออนไลน์ ใน 6 ภูมิภาค ได้แก่ ภูมิภาคอเมริกา ลาตินอเมริกา ยุโรป CIS แอฟริกา และตะวันออกกลาง จัดโดย สำนักพัฒนาตลาดและธุรกิจไทยในต่างประเทศ 2 กรมส่งเสริมการค้าระหว่างประเทศ\n",
    "\n",
    "## input\n",
    "My first request is \"I need help organizing the given event\"\n",
    "\n",
    "## output\n",
    "please write a plan in english\n",
    "\"\"\"\n",
    "\n",
    "plan=openai(prompt)\n",
    "print(plan)"
   ]
  },
  {
   "cell_type": "code",
   "execution_count": 13,
   "id": "b61e2b31",
   "metadata": {},
   "outputs": [
    {
     "name": "stdout",
     "output_type": "stream",
     "text": [
      "digraph G {\n",
      "  graph [layout=neato, overlap=false];\n",
      "  node [shape=rectangle];\n",
      "  \n",
      "  // Main Tasks\n",
      "  node [shape=rectangle, color=\"#FF0000\"];\n",
      "  \n",
      "  subgraph cluster_0 {\n",
      "    label = \"Pre-event Planning\";\n",
      "    style = filled;\n",
      "    color = \"#FFEEAA\";\n",
      "    \n",
      "    A [label=\"Determine target audience\"];\n",
      "    B [label=\"Create marketing strategy\"];\n",
      "    C [label=\"Set budget\"];\n",
      "    D [label=\"Identify goals and objectives\"];\n",
      "    \n",
      "    A -> B;\n",
      "    A -> C;\n",
      "    A -> D;\n",
      "  }\n",
      "  \n",
      "  subgraph cluster_1 {\n",
      "    label = \"Venue and Resources\";\n",
      "    style = filled;\n",
      "    color = \"#FFEEAA\";\n",
      "    \n",
      "    E [label=\"Ensure online platform\"];\n",
      "    F [label=\"Allocate technical support\"];\n",
      "    G [label=\"Ensure internet bandwidth\"];\n",
      "    \n",
      "    E -> F;\n",
      "    E -> G;\n",
      "  }\n",
      "  \n",
      "  subgraph cluster_2 {\n",
      "    label = \"Event Schedule\";\n",
      "    style = filled;\n",
      "    color = \"#FFEEAA\";\n",
      "    \n",
      "    H [label=\"Develop detailed schedule\"];\n",
      "    I [label=\"Plan interactive sessions\"];\n",
      "    \n",
      "    H -> I;\n",
      "  }\n",
      "  \n",
      "  subgraph cluster_3 {\n",
      "    label = \"Participant Registration and Communication\";\n",
      "    style = filled;\n",
      "    color = \"#FFEEAA\";\n",
      "    \n",
      "    J [label=\"Create online registration system\"];\n",
      "    K [label=\"Communicate with participants\"];\n",
      "    \n",
      "    J -> K;\n",
      "  }\n",
      "  \n",
      "  subgraph cluster_4 {\n",
      "    label = \"Matchmaking and Business Networking\";\n",
      "    style = filled;\n",
      "    color = \"#FFEEAA\";\n",
      "    \n",
      "    L [label=\"Develop matchmaking algorithm\"];\n",
      "    M [label=\"Arrange one-on-one meetings\"];\n",
      "    N [label=\"Provide networking platform\"];\n",
      "    \n",
      "    L -> M;\n",
      "    L -> N;\n",
      "  }\n",
      "  \n",
      "  subgraph cluster_5 {\n",
      "    label = \"Safety and Risk Mitigation\";\n",
      "    style = filled;\n",
      "    color = \"#FFEEAA\";\n",
      "    \n",
      "    O [label=\"Educate participants\"];\n",
      "    P [label=\"Have contingency plan\"];\n",
      "    Q [label=\"Implement data protection\"];\n",
      "    \n",
      "    O -> P;\n",
      "    O -> Q;\n",
      "  }\n",
      "  \n",
      "  subgraph cluster_6 {\n",
      "    label = \"Post-event Evaluation\";\n",
      "    style = filled;\n",
      "    color = \"#FFEEAA\";\n",
      "    \n",
      "    R [label=\"Gather participant feedback\"];\n",
      "    S [label=\"Analyze event outcomes\"];\n",
      "    \n",
      "    R -> S;\n",
      "  }\n",
      "  \n",
      "  // Subtasks\n",
      "  node [shape=rectangle, color=\"#0000FF\"];\n",
      "  \n",
      "  subgraph cluster_7 {\n",
      "    label = \"Subtasks\";\n",
      "    style = filled;\n",
      "    color = \"#AAEEFF\";\n",
      "    \n",
      "    A1 [label=\"Create marketing strategy for Americas\"];\n",
      "    A2 [label=\"Create marketing strategy for Latin America\"];\n",
      "    A3 [label=\"Create marketing strategy for Europe\"];\n",
      "    A4 [label=\"Create marketing strategy for CIS\"];\n",
      "    A5 [label=\"Create marketing strategy for Africa\"];\n",
      "    A6 [label=\"Create marketing strategy for the Middle East\"];\n",
      "    \n",
      "    A -> A1;\n",
      "    A -> A2;\n",
      "    A -> A3;\n",
      "    A -> A4;\n",
      "    A -> A5;\n",
      "    A -> A6;\n",
      "    \n",
      "    N1 [label=\"Test online platform\"];\n",
      "    N2 [label=\"Allocate technical support for participants\"];\n",
      "    \n",
      "    E -> N1;\n",
      "    E -> N2;\n",
      "    \n",
      "    H1 [label=\"Plan webinars\"];\n",
      "    H2 [label=\"Plan panel discussions\"];\n",
      "    H3 [label=\"Plan presentations\"];\n",
      "    H4 [label=\"Plan Q&A sessions\"];\n",
      "    \n",
      "    H -> H1;\n",
      "    H -> H2;\n",
      "    H -> H3;\n",
      "    H -> H4;\n",
      "    \n",
      "    K1 [label=\"Send event details to registered participants\"];\n",
      "    K2 [label=\"Send email newsletters\"];\n",
      "    K3 [label=\"Send social media updates\"];\n",
      "    K4 [label=\"Send personalized messages\"];\n",
      "    \n",
      "    K -> K1;\n",
      "    K -> K2;\n",
      "    K -> K3;\n",
      "    K -> K4;\n",
      "    \n",
      "    M1 [label=\"Develop matchmaking algorithm based on business interests\"];\n",
      "    M2 [label=\"Arrange one-on-one meetings based on matchmaking results\"];\n",
      "    M3 [label=\"Provide virtual networking lounge for participants\"];\n",
      "    \n",
      "    M -> M1;\n",
      "    M -> M2;\n",
      "    M -> M3;\n",
      "    \n",
      "    P1 [label=\"Prepare contingency plan for technical difficulties\"];\n",
      "    P2 [label=\"Prepare alternative communication method\"];\n",
      "    \n",
      "    P -> P1;\n",
      "    P -> P2;\n",
      "    \n",
      "    R1 [label=\"Create participant feedback survey\"];\n",
      "    R2 [label=\"Analyze survey results\"];\n",
      "    \n",
      "    R -> R1;\n",
      "    R -> R2;\n",
      "  }\n",
      "}\n"
     ]
    },
    {
     "data": {
      "text/plain": [
       "'Source.gv.pdf'"
      ]
     },
     "execution_count": 13,
     "metadata": {},
     "output_type": "execute_result"
    }
   ],
   "source": [
    "prompt=f\"\"\"\n",
    "I want you to act as a Graphviz DOT generator, an expert to create meaningful diagrams. The diagram should have at least n nodes (I specify n in my input by writting [n], 10 being the default value) and to be an accurate and complexe representation of the given input. Each node is indexed by a number to reduce the size of the output, should not include any styling, and with layout=neato, overlap=false, node [shape=rectangle] as parameters. The code should be valid, bugless and returned on a single line, without any explanation. Provide a clear and organized diagram, the relationships between the nodes have to make sense for an expert of that input. My first diagram is the following plan:\n",
    "\n",
    "plan:\n",
    "{plan}\n",
    "\n",
    "## output\n",
    "a pert chart with a single starting point contanining main tasks (level 1) and subtasks (level 2) in work breakdown structure\n",
    "the pert chat represented by a dot file for displaying in jupyter notebook\n",
    "\"\"\"\n",
    "\n",
    "dot=openai(prompt)\n",
    "print(dot)\n",
    "import graphviz \n",
    "from IPython.display import display\n",
    "gvz=graphviz.Source(dot)\n",
    "# display(gvz,s)\n",
    "gvz.render(view=True)"
   ]
  },
  {
   "cell_type": "code",
   "execution_count": 14,
   "id": "c4daf820",
   "metadata": {},
   "outputs": [
    {
     "name": "stderr",
     "output_type": "stream",
     "text": [
      "\n",
      "(process:41243): Gtk-WARNING **: 10:13:13.420: Locale not supported by C library.\n",
      "\tUsing the fallback 'C' locale.\n",
      "\n",
      "(evince:41243): Gtk-WARNING **: 10:13:13.459: Theme parsing error: gtk-keys.css:1:0: Failed to import: Error opening file /snap/code/134/usr/share/themes/Default/gtk-3.0/gtk-keys.css: Permission denied\n",
      "Gtk-Message: 10:13:13.459: Failed to load module \"canberra-gtk-module\"\n",
      "Gtk-Message: 10:13:13.460: Failed to load module \"canberra-gtk-module\"\n",
      "/home/wasit/snap/code/common/.cache/gio-modules/libdconfsettings.so: cannot open shared object file: Permission denied\n",
      "Failed to load module: /home/wasit/snap/code/common/.cache/gio-modules/libdconfsettings.so\n"
     ]
    },
    {
     "name": "stdout",
     "output_type": "stream",
     "text": [
      "แผนการจัดงานกิจกรรม\n",
      "\n",
      "1. กำหนดวัตถุประสงค์ของงาน: กำหนดวัตถุประสงค์ของงานให้ชัดเจน เช่น เพื่อสร้างโอกาสในการเจรจาธุรกิจออนไลน์ระหว่างผู้ประกอบการในประเทศไทยและประเทศต่างๆใน 6 ภูมิภาค\n",
      "\n",
      "2. กำหนดจำนวนผู้เข้าร่วม: สำรวจความต้องการในการเข้าร่วมงาน ต้องการจัดงานที่มีผู้เข้าร่วมกี่คน และเตรียมพื้นที่ให้เพียงพอสำหรับจำนวนผู้เข้าร่วม\n",
      "\n",
      "3. เลือกสถานที่จัดงาน: เลือกสถานที่ที่มีพื้นที่กว้างขวางสำหรับจัดกิจกรรมออนไลน์และแสดงสินค้าตามที่ต้องการ พร้อมทั้งเช็คความพร้อมในเรื่องของอินเตอร์เน็ตและสัญญาณ\n",
      "\n",
      "4. จัดหาอุปกรณ์การใช้งาน: ตรวจสอบและจัดหาอุปกรณ์ที่จำเป็นในการจัดงาน เช่น คอมพิวเตอร์ กล้องวิดีโอ ไมโครโฟน เสาไฟ โต๊ะเก้าอี้ ฯลฯ\n",
      "\n",
      "5. ประสานงานกับผู้ให้บริการ: ติดต่อสื่อสารกับผู้ให้บริการ เช่น บริษัทโทรคมนาคมในการให้บริการอินเตอร์เน็ต บริษัทรับจัดเลี้ยงอาหาร เพื่อให้ข้อมูลและแจ้งความต้องการของงาน\n",
      "\n",
      "6. วางแผนการจัดการขนส่ง: หากมีผู้เข้าร่วมจากภูมิภาคต่างๆ ต้องวางแผนการขนส่งให้เหมาะสม เช่น จัดรถรับส่งสำหรับผู้เข้าร่วมจากที่พักไปยังสถานที่จัดงาน\n",
      "\n",
      "7. กำหนดเวลาการจัดงาน: กำหนดเวลาที่เหมาะสมในการจัดงาน เช่น วันที่และเวลาที่ไม่มีการจัดกิจกรรมอื่นในสถานที่เดียวกัน\n",
      "\n",
      "8. จัดการระบบการลงทะเบียน: จัดระบบลงทะเบียนผู้เข้าร่วมงาน เพื่อบันทึกข้อมูลและควบคุมจำนวนผู้เข้าร่วม\n",
      "\n",
      "9. จัดอาหารและเครื่องดื่ม: จัดหาบริการเครื่องดื่มและอาหารที่เหมาะสมกับงาน โดยคำนึงถึงปริมาณและความพร้อมในการบริการ\n",
      "\n",
      "10. จัดทีมดูแลความปลอดภัย: จัดทีมคอยดูแลความปลอดภัยของงาน ตรวจสอบเครื่องขัดข้อง ป้องกันอุบัติเหตุ และเตรียมพร้อมในกรณีฉุกเฉิน\n",
      "\n",
      "11. วางแผนการสื่อสาร: วางแผนสื่อสารกับผู้เข้าร่วมงานและผู้บริหาร เช่น ส่งเอกสารที่เกี่ยวข้อง แจ้งเตือนเกี่ยวกับการแข่งขัน หรือข้อมูลสำคัญอื่นๆ\n",
      "\n",
      "12. การตรวจสอบและประเมินผล: ตรวจสอบการดำเนินงานในแต่ละขั้นตอน และประเมินผลการจัดงาน เพื่อปรับปรุงและพัฒนาการจัดงานในอนาคต\n",
      "\n",
      "ผลิตภัณฑ์ของการจัดงานที่สำเร็จ: การจัดงานที่มีความพร้อมในด้านทรัพยากร ทรัพย์สิน และบุคลากร การจัดทำระบบลงทะเบียนที่มีประสิทธิภาพ การจัดหาบริการเครื่องดื่มและอาหารที่มีคุณภาพ การดูแลความปลอดภัยอย่างเข้มงวด และการสื่อสารที่มีประสิทธิภาพ\n"
     ]
    }
   ],
   "source": [
    "prompt=\"\"\"\n",
    "## instruction\n",
    "I want you to act as a logistician. I will provide you with details on an upcoming event in thai, such as the number of people attending, the location, and other relevant factors. Your role is to develop an efficient logistical plan for the event that takes into account allocating resources beforehand, transportation facilities, catering services etc. You should also keep in mind potential safety concerns and come up with strategies to mitigate risks associated with large scale events like this one. \n",
    "\n",
    "##context\n",
    "ขอเชิญผู้ประกอบการหรือผู้ที่สนใจเข้าสมัครร่วมกิจกรรมจับคู่เจรจาธุรกิจออนไลน์ (Online Business Matching) เป็นโอกาสที่ไม่ควรพลาดในการเปิดตลาดเจรจาการค้า ผ่านระบบออนไลน์ ใน 6 ภูมิภาค ได้แก่ ภูมิภาคอเมริกา ลาตินอเมริกา ยุโรป CIS แอฟริกา และตะวันออกกลาง จัดโดย สำนักพัฒนาตลาดและธุรกิจไทยในต่างประเทศ 2 กรมส่งเสริมการค้าระหว่างประเทศ\n",
    "\n",
    "## input\n",
    "My first request is \"I need help organizing the given event\"\n",
    "\n",
    "## output\n",
    "please write a plan in thai\n",
    "\"\"\"\n",
    "\n",
    "plan=openai(prompt)\n",
    "print(plan)"
   ]
  },
  {
   "cell_type": "code",
   "execution_count": 25,
   "id": "6d9348cf",
   "metadata": {},
   "outputs": [
    {
     "name": "stdout",
     "output_type": "stream",
     "text": [
      "digraph graphname {layout=neato; overlap=false; node [shape=rectangle]; \n",
      "1 [label=\"กำหนดวัตถุประสงค์ของงาน\"];\n",
      "2 [label=\"กำหนดจำนวนผู้เข้าร่วม\"];\n",
      "3 [label=\"เลือกสถานที่จัดงาน\"];\n",
      "4 [label=\"จัดหาอุปกรณ์การใช้งาน\"];\n",
      "5 [label=\"ประสานงานกับผู้ให้บริการ\"];\n",
      "6 [label=\"วางแผนการจัดการขนส่ง\"];\n",
      "7 [label=\"กำหนดเวลาการจัดงาน\"];\n",
      "8 [label=\"จัดการระบบการลงทะเบียน\"];\n",
      "9 [label=\"จัดอาหารและเครื่องดื่ม\"];\n",
      "10 [label=\"จัดทีมดูแลความปลอดภัย\"];\n",
      "11 [label=\"วางแผนการสื่อสาร\"];\n",
      "12 [label=\"การตรวจสอบและประเมินผล\"]; \n",
      "1 -> 2; 1 -> 3; 2 -> 3; 3 -> 4; 4 -> 5; 4 -> 6; 5 -> 6; 6 -> 7; 7 -> 8; 8 -> 9; \n",
      "8 -> 10; 9 -> 10; 10 -> 11; 11 -> 12;}\n"
     ]
    },
    {
     "data": {
      "text/plain": [
       "'Source.gv.pdf'"
      ]
     },
     "execution_count": 25,
     "metadata": {},
     "output_type": "execute_result"
    },
    {
     "name": "stderr",
     "output_type": "stream",
     "text": [
      "\n",
      "(process:44880): Gtk-WARNING **: 10:18:09.828: Locale not supported by C library.\n",
      "\tUsing the fallback 'C' locale.\n",
      "\n",
      "(evince:44880): Gtk-WARNING **: 10:18:09.868: Theme parsing error: gtk-keys.css:1:0: Failed to import: Error opening file /snap/code/134/usr/share/themes/Default/gtk-3.0/gtk-keys.css: Permission denied\n",
      "Gtk-Message: 10:18:09.869: Failed to load module \"canberra-gtk-module\"\n",
      "Gtk-Message: 10:18:09.870: Failed to load module \"canberra-gtk-module\"\n",
      "/home/wasit/snap/code/common/.cache/gio-modules/libdconfsettings.so: cannot open shared object file: Permission denied\n",
      "Failed to load module: /home/wasit/snap/code/common/.cache/gio-modules/libdconfsettings.so\n"
     ]
    }
   ],
   "source": [
    "prompt=f\"\"\"\n",
    "I want you to act as a Graphviz DOT generator, an expert to create meaningful diagrams. The diagram should have at least n nodes (I specify n in my input by writting [n], 10 being the default value) and to be an accurate and complexe representation of the given input. Each node is indexed by a number to reduce the size of the output, should not include any styling, and with layout=neato, overlap=false, node [shape=rectangle] as parameters. The code should be valid, bugless and returned on a single line, without any explanation. Provide a clear and organized diagram, the relationships between the nodes have to make sense for an expert of that input. My first diagram is the following plan:\n",
    "\n",
    "plan:\n",
    "{plan}\n",
    "\n",
    "## output\n",
    "dot file for displaying in jupyter notebook\n",
    "\"\"\"\n",
    "\n",
    "dot=openai(prompt)\n",
    "print(dot)\n",
    "import graphviz \n",
    "from IPython.display import display\n",
    "gvz=graphviz.Source(dot)\n",
    "# display(gvz,s)\n",
    "gvz.render(view=True)"
   ]
  },
  {
   "cell_type": "markdown",
   "id": "c41ce72c",
   "metadata": {},
   "source": [
    "### Trade Analytics"
   ]
  },
  {
   "cell_type": "code",
   "execution_count": 106,
   "id": "67926ac6",
   "metadata": {},
   "outputs": [],
   "source": [
    "import datetime as dt\n",
    "now= dt.datetime.now()\n",
    "company=\"\"\"\n",
    "company name: MyCompany\n",
    "\n",
    "Top 5 Products:\t\n",
    "[0811] มูลค่า: 250 ล้านบาท | ผลไม้และลูกนัต ดิบหรือทำให้สุกด้วยการนึ่งหรือต้ม แ...\n",
    "[1302] มูลค่า: 0.28 ล้านบาท | น้ำเลี้ยง (แซป) และสิ่งสกัดจากพืช สารจำพวกเพกติก เ...\n",
    "[2106] มูลค่า: 0.1 ล้านบาท | อาหารปรุงแต่งที่ไม่ได้ระบุหรือรวมไว้ในที่อื่น\n",
    "[0801] มูลค่า: 8,305 บาท | มะพร้าว บราซิลนัต และเมล็ดมะม่วงหิมพานต์ สดหรือแห้...\n",
    "[2008] มูลค่า: 2,135 บาท | ผลไม้ ลูกนัต และส่วนอื่นที่บริโภคได้ของพืช ที่ปรุง...\n",
    "\n",
    "Export Country:\t\n",
    "จีน: 248 ล้านบาท\n",
    "ฮ่องกง: 16 ล้านบาท\n",
    "เกาหลีใต้: 3.9 ล้านบาท\n",
    "อินโดนีเซีย: 978 บาท\n",
    "\"\"\""
   ]
  },
  {
   "cell_type": "markdown",
   "id": "25fda4af",
   "metadata": {},
   "source": [
    "## SCQA analysis in Eng"
   ]
  },
  {
   "cell_type": "code",
   "execution_count": 107,
   "id": "372e165b",
   "metadata": {},
   "outputs": [
    {
     "name": "stdout",
     "output_type": "stream",
     "text": [
      "Situation:\n",
      "- Thai food products are becoming popular in Hungary, with a growing demand for items such as rice, fish sauce, spicy seasoning, tamarind, and curry paste.\n",
      "- Thai cuisine, including dishes like green curry and pad thai, has gained popularity among Hungarian consumers.\n",
      "- There will be increased opportunities in the food service and hospitality industry in Hungary due to the growing interest in Thai cuisine.\n",
      "- Hungarian consumers show an increasing interest in Thai cuisine.\n",
      "\n",
      "Challenge:\n",
      "- Improve export growth for MyCompany in Thailand.\n",
      "\n",
      "Question:\n",
      "- How can MyCompany leverage the growing demand for Thai food products in Hungary to improve export growth?\n",
      "\n",
      "Answer:\n",
      "- MyCompany should focus on tapping into the Hungarian market's increasing demand for Thai food products and the growing interest in Thai cuisine. \n",
      "\n",
      "Strategy:\n",
      "1. Short-term (1-2 years): \n",
      "- MyCompany should prioritize exporting Thai food products, such as rice, fish sauce, spicy seasoning, tamarind, and curry paste, to Hungary due to the increasing demand in the market.\n",
      "- Collaborate with local distributors or retailers in Hungary to ensure widespread availability of MyCompany's Thai food products. This can be done through establishing partnerships or distribution agreements.\n",
      "- Conduct market research to identify specific preferences and trends in the Hungarian market, allowing MyCompany to tailor its product offerings to meet consumer demand.\n",
      "- Invest in marketing and promotional activities to raise awareness and attract Hungarian consumers to MyCompany's Thai food products. This can include online advertising, collaborations with local influencers or chefs, and participation in food festivals or events.\n",
      "\n",
      "2. Long-term (5-10 years):\n",
      "- MyCompany should explore opportunities in the food service and hospitality industry in Hungary, as restaurants, cafes, and hotels are likely to incorporate Thai dishes into their menus or offer Thai-inspired food options.\n",
      "- Establish relationships with key players in the food service and hospitality industry in Hungary to become a preferred supplier of Thai ingredients and products.\n",
      "- Offer training and consulting services to restaurants, cafes, and culinary schools in Hungary to help them develop and incorporate authentic Thai flavors and techniques into their menus and cooking practices. This can be done by partnering with Thai chefs or culinary experts.\n",
      "- Continuously innovate and introduce new Thai food products to cater to the evolving tastes and preferences of Hungarian consumers.\n",
      "- Participate in trade shows and exhibitions related to the food service and hospitality industry in Hungary to showcase MyCompany's products and forge new business connections.\n",
      "\n",
      "By implementing these strategies, MyCompany can capitalize on the growing demand for Thai food products in Hungary and improve export growth.\n"
     ]
    }
   ],
   "source": [
    "prompt=f\"\"\"\n",
    "### instruction\n",
    "Please help me analyses the following input business and create output strategy using  Boston's SCQA framework for the business in style of Roger L. Martin. Let's think step by step.\n",
    "\n",
    "### context\n",
    "We are in Thailand.\n",
    "ISO datetime now is {now.isoformat()}\n",
    "We want to improve export growth.\n",
    "\n",
    "The article mentions that Thai food products are becoming popular in Hungary, with a growing demand for items such as rice, fish sauce, spicy seasoning, tamarind, and curry paste. Thai cuisine, including dishes like green curry and pad thai, has gained popularity among Hungarian consumers. Therefore, in the short term (1-2 years), the Thai food products market segment is expected to have a positive impact due to the increasing demand from the Hungarian market.\n",
    "\n",
    "With the growing interest in Thai cuisine and the popularity of Thai food products in Hungary, there will be increased opportunities in the food service and hospitality industry. Restaurants, cafes, and hotels in Hungary may incorporate Thai dishes into their menus or offer Thai-inspired food options to cater to the demand. This trend is expected to continue in the long term (5-10 years), leading to a positive impact on the food service and hospitality industry in Hungary.\n",
    "\n",
    "As Hungarian consumers show an increasing interest in Thai cuisine, there is likely to be a demand for Thai cuisine training and consulting services in Hungary. Thai chefs or culinary experts may provide training and consulting services to restaurants, cafes, and culinary schools in Hungary to help them develop and incorporate authentic Thai flavors and techniques into their menus and cooking practices. This trend is expected to have a positive impact on the Thai cuisine training and consulting market segment in Hungary in the short term (1-2 years).\n",
    "### input\n",
    "{company}\n",
    "\n",
    "### outout SCQA analysis withou other describtion\n",
    "\"\"\"\n",
    "r=openai(prompt)\n",
    "print(r)"
   ]
  },
  {
   "cell_type": "markdown",
   "id": "ee89887f",
   "metadata": {},
   "source": [
    "## SCQA analysis in Thai"
   ]
  },
  {
   "cell_type": "code",
   "execution_count": 108,
   "id": "72160bed",
   "metadata": {},
   "outputs": [
    {
     "name": "stdout",
     "output_type": "stream",
     "text": [
      "- ส่วนหนึ่งที่สำคัญในแผนยกระดับการส่งออกของ MyCompany ในประเทศฮังการีคือ การใช้ประโยชน์จากความต้องการที่เพิ่มขึ้นในตลาดฮังการีสำหรับผลิตภัณฑ์อาหารไทยและความสนใจที่กำลังเพิ่มขึ้นในอาหารไทย\n",
      "\n",
      "กลยุทธ์:\n",
      "1. ระยะสั้น (1-2 ปี):\n",
      "- MyCompany ควรให้ความสำคัญกับการส่งออกผลิตภัณฑ์อาหารไทย เช่น ข้าว, น้ำปลา, เครื่องเผาผลาญ, มะขามเปียก และเครื่องปรุงรสแบบเผ็ด เพื่อตอบสนองต่อความต้องการเพิ่มขึ้นในตลาดฮังการี\n",
      "- ร่วมมือกับผู้จัดจำหน่ายหรือร้านค้าท้องถิ่นในฮังการีเพื่อให้ผลิตภัณฑ์อาหารไทยของ MyCompany มีความพร้อมใช้งานทั่วที่ สามารถทำได้โดยการเปิดพันธมิตรหรือทำสัญญาจัดจำหน่าย\n",
      "- ดำเนินการวิจัยตลาดเพื่อระบุความชอบหรือแนวโน้มที่เฉพาะเจาะจงในตลาดฮังการี เพื่อให้ MyCompany สามารถปรับผลิตภัณฑ์ได้ตามความต้องการของผู้บริโภค\n",
      "- ลงทุนในกิจกรรมการตลาดและโฆษณาเพื่อเพิ่มความตระหนักรู้และดึงดูดผู้บริโภคฮังการีให้สนใจผลิตภัณฑ์อาหารไทยของ MyCompany นี่สามารถรวมถึงการโฆษณาออนไลน์ การร่วมงานกับบุคคลสำคัญในฮังการีหรือเชฟท้องถิ่น และการเข้าร่วมงานเทศกาลอาหารหรือกิจกรรมทางด้านอาหาร\n",
      "\n",
      "2. ระยะยาว (5-10 ปี):\n",
      "- MyCompany ควรสำรวจโอกาสในอุตสาหกรรมโภตัสและการต้อนรับลูกค้าในฮังการี เนื่องจากร้านอาหาร, ร้านกาแฟ และโรงแรมมีโอกาสนำเสนออาหารไทยในเมนูหรือเสนอตัวเลือกอาหารที่ได้แรงบันดาลใจจากไทย\n",
      "- สร้างความสัมพันธ์กับผู้เล่นสำคัญในอุตสาหกรรมโภตัสและการต้อนรับลูกค้าในฮังการี เพื่อเป็นผู้จัดจำหน่ายที่ได้รับความต้องการสูงของส่วนผสมและผลิตภัณฑ์อาหารไทย\n",
      "- ให้บริการฝึกอบรมและให้คำปรึกษาแก่ร้านอาหาร, ร้านกาแฟ และโรงเรียนศิลปะการทำอาหารในฮังการี เพื่อช่วยให้พวกเขาพัฒนาและนำเสนอรสชาติและเทคนิคอาหารไทยแท้จริงในเมนูและการทำอาหาร นี้สามารถทำได้โดยร่วมงานกับเชฟหรือผู้เชี่ยวชาญด้านอาหารไทย\n",
      "- นวัตกรรมและนำเสนอผลิตภัณฑ์อาหารไทยใหม่เพื่อตอบสนองความชอบและความต้องการที่เปลี่ยนแปลงของผู้บริโภคฮังการีอย่างต่อเนื่อง\n",
      "- เข้าร่วมการแสดงสินค้าและนิทรรศการที่เกี่ยวข้องกับอุตสาหกรรมโภตัสและการต้อนรับลูกค้าในฮังการีเพื่อแสดงผลิตภัณฑ์ของ MyCompany และสร้างความสัมพันธ์ธุรกิจใหม่\n",
      "\n",
      "ด้วยการนำกลยุทธ์เหล่านี้มาใช้ MyCompany สามารถรับมือกับความต้องการที่เพิ่มขึ้นของผลิตภัณฑ์อาหารไทยในฮังการีและปรับปรุงการส่งออกได้เป็นอย่างดี\n"
     ]
    }
   ],
   "source": [
    "prompt=f\"\"\"\n",
    "### instruction\n",
    "I want you to act as an English translator, spelling corrector and improver. \n",
    "I will speak to you in any language and you will detect the language, translate it and answer in the corrected and improved version of my text, in English. \n",
    "I want you to replace my simplified A0-level words and sentences with more beautiful and elegant, upper level English words and sentences. \n",
    "Keep the meaning same, but make them more literary. I want you to only reply the correction, the improvements and nothing else, do not write explanations.\n",
    "\n",
    "### context\n",
    "We are in Thailand.\n",
    "ISO datetime now is {now.isoformat()}\n",
    "\n",
    "### input\n",
    "{r}\n",
    "\n",
    "### outout SCQA analysis withou other describtion (in Thai)\n",
    "\"\"\"\n",
    "r2=openai(prompt)\n",
    "print(r2)"
   ]
  },
  {
   "cell_type": "code",
   "execution_count": 112,
   "id": "810c20d5",
   "metadata": {},
   "outputs": [
    {
     "name": "stdout",
     "output_type": "stream",
     "text": [
      "As the Chief Executive Officer of this company, my first priority is to address the potential crisis situation regarding a product recall. To effectively manage this crisis, I will implement the following plan:\n",
      "\n",
      "1. Swift Response and Communication:\n",
      "   - Immediately establish a crisis management team comprising of key stakeholders from different departments.\n",
      "   - Designate a spokesperson who will handle all external communications regarding the product recall.\n",
      "   - Craft a clear and concise statement that outlines the issue, the steps being taken, and the potential impact on consumers.\n",
      "   - Utilize various communication channels (company website, social media, press releases) to inform customers, distributors, and stakeholders about the recall.\n",
      "   - Provide a helpline or customer support system to address any concerns or questions from affected customers.\n",
      "\n",
      "2. Recall Strategy:\n",
      "   - Collaborate with the product development and quality assurance teams to analyze the root cause of the issue and ensure it is resolved promptly.\n",
      "   - Create a comprehensive recall plan that includes the identification and retrieval of defective products from the market.\n",
      "   - Develop a system to track and record all recalled products to ensure efficient handling and minimize further distribution.\n",
      "   - Implement a process to offer refunds, replacements, or repairs to affected customers as per their preferences.\n",
      "   - Consider offering additional compensation or incentives to mitigate any inconvenience caused to customers.\n",
      "\n",
      "3. Regulatory Compliance:\n",
      "   - Work closely with relevant regulatory authorities in Thailand to ensure full compliance with product safety and recall regulations.\n",
      "   - Provide all necessary documentation and information required for the recall process.\n",
      "   - Maintain transparency and timely updates with regulatory agencies to demonstrate our commitment to consumer safety.\n",
      "\n",
      "4. Learn and Improve:\n",
      "   - Conduct a thorough investigation into the cause of the product issue and identify areas for improvement in product design, manufacturing, and quality control.\n",
      "   - Implement corrective measures to prevent similar issues from occurring in the future.\n",
      "   - Review and update internal processes and quality control protocols to enhance product safety and reliability.\n",
      "\n",
      "To grow the domestic business and expand into the global market, the following steps should be taken to identify target markets:\n",
      "\n",
      "1. Market Research:\n",
      "   - Conduct comprehensive market research to identify potential markets with high demand for our products.\n",
      "   - Analyze market size, growth potential, competitor landscape, and cultural factors to assess market attractiveness.\n",
      "\n",
      "2. Local Partnerships and Alliances:\n",
      "   - Seek potential partnerships or alliances with local businesses or distributors in target markets.\n",
      "   - Leverage their expertise and network to establish a strong presence and navigate local market dynamics effectively.\n",
      "\n",
      "3. Customization and Localization:\n",
      "   - Adapt our products and marketing strategies to suit the specific needs and preferences of the target markets.\n",
      "   - Consider cultural, linguistic, and regulatory aspects while tailoring our offerings.\n",
      "\n",
      "4. Market Entry Strategy:\n",
      "   - Develop a detailed market entry strategy for each target market, considering factors such as pricing, distribution channels, and promotional activities.\n",
      "   - Assess the financial feasibility and potential return on investment for each market before making final decisions.\n",
      "\n",
      "5. Continuous Evaluation and Adaptation:\n",
      "   - Regularly monitor and evaluate the performance of our products in the target markets.\n",
      "   - Collect feedback from customers and local partners to identify areas for improvement and adapt our strategies accordingly.\n",
      "\n",
      "By effectively managing the product recall crisis and strategically expanding into new markets, we can safeguard our company's reputation, enhance customer trust, and drive long-term growth and profitability.\n"
     ]
    }
   ],
   "source": [
    "#How will you handle this situation and what steps will you take to mitigate any negative impact on the company?\n",
    "\n",
    "prompt=\"\"\"\n",
    "## instruction\n",
    "I want you to act as a Chief Executive Officer for the given company profile and Boston's SCQA analysis. \n",
    "You will be responsible for making strategic decisions, managing the company's financial performance, and representing the company to external stakeholders. \n",
    "You will be given a series of scenarios and challenges to respond to, and you should use your best judgment and leadership skills to come up with solutions. \n",
    "Remember to remain professional and make decisions that are in the best interest of the company and its employees. \n",
    "Your first challenge is to address a potential crisis situation where a product recall is necessary. \n",
    "Please also plan to grow my domestic business and expand my business to global market by identify target markets.\n",
    "##context \n",
    "We are in Thailand.\n",
    "ISO datetime now is {now.isoformat}\n",
    "\n",
    "## input company profile\n",
    "{company}\n",
    "\n",
    "## input Boston's SCQA analysis\n",
    "{r}\n",
    "\n",
    "## output\n",
    "please write an actionable plan in english\n",
    "\"\"\"\n",
    "\n",
    "plan=openai(prompt)\n",
    "print(plan)"
   ]
  },
  {
   "cell_type": "code",
   "execution_count": 114,
   "id": "9cf7c7ef",
   "metadata": {},
   "outputs": [
    {
     "name": "stdout",
     "output_type": "stream",
     "text": [
      "digraph G { layout=neato; overlap=false; node [shape=rectangle]; \n",
      "0 [label=\"Plan\"];\n",
      "1 [label=\"Swift Response and Communication\"];\n",
      "2 [label=\"Establish crisis management team\"];\n",
      "3 [label=\"Designate spokesperson\"];\n",
      "4 [label=\"Craft clear and concise statement\"];\n",
      "5 [label=\"Utilize communication channels\"];\n",
      "6 [label=\"Provide helpline or customer support\"];\n",
      "7 [label=\"Recall Strategy\"];\n",
      "8 [label=\"Collaborate with product development and quality assurance teams\"];\n",
      "9 [label=\"Create comprehensive recall plan\"];\n",
      "10 [label=\"Develop system to track and record recalled products\"];\n",
      "11 [label=\"Implement process to offer refunds, replacements, or repairs\"];\n",
      "12 [label=\"Consider offering additional compensation or incentives\"];\n",
      "13 [label=\"Regulatory Compliance\"];\n",
      "14 [label=\"Work closely with relevant regulatory authorities in Thailand\"];\n",
      "15 [label=\"Provide necessary documentation and information\"];\n",
      "16 [label=\"Maintain transparency and timely updates\"];\n",
      "17 [label=\"Learn and Improve\"];\n",
      "18 [label=\"Conduct thorough investigation into product issue\"];\n",
      "19 [label=\"Implement corrective measures\"];\n",
      "20 [label=\"Review and update internal processes and quality control\"];\n",
      "21 [label=\"Grow domestic business and expand into global market\"];\n",
      "22 [label=\"Market Research\"];\n",
      "23 [label=\"Conduct comprehensive market research\"];\n",
      "24 [label=\"Analyze market size, growth potential, competitor landscape, and cultural factors\"];\n",
      "25 [label=\"Local Partnerships and Alliances\"];\n",
      "26 [label=\"Seek potential partnerships or alliances with local businesses or distributors\"];\n",
      "27 [label=\"Leverage expertise and network\"];\n",
      "28 [label=\"Adapt products and marketing strategies\"];\n",
      "29 [label=\"Consider cultural, linguistic, and regulatory aspects\"];\n",
      "30 [label=\"Market Entry Strategy\"];\n",
      "31 [label=\"Develop detailed market entry strategy for each target market\"];\n",
      "32 [label=\"Assess financial feasibility and potential return on investment\"];\n",
      "33 [label=\"Continuous Evaluation and Adaptation\"];\n",
      "34 [label=\"Regularly monitor and evaluate performance of products\"];\n",
      "35 [label=\"Collect feedback from customers and local partners\"];\n",
      "36 [label=\"Chief Executive Officer\"];\n",
      "37 [label=\"Product Recall Crisis\"];\n",
      "38 [label=\"New Market Expansion\"];\n",
      "0 -> 1;\n",
      "1 -> 2;\n",
      "1 -> 3;\n",
      "1 -> 4;\n",
      "1 -> 5;\n",
      "1 -> 6;\n",
      "0 -> 7;\n",
      "7 -> 8;\n",
      "7 -> 9;\n",
      "7 -> 10;\n",
      "7 -> 11;\n",
      "7 -> 12;\n",
      "0 -> 13;\n",
      "13 -> 14;\n",
      "13 -> 15;\n",
      "13 -> 16;\n",
      "0 -> 17;\n",
      "17 -> 18;\n",
      "17 -> 19;\n",
      "17 -> 20;\n",
      "0 -> 21;\n",
      "21 -> 22;\n",
      "21 -> 23;\n",
      "21 -> 24;\n",
      "21 -> 25;\n",
      "25 -> 26;\n",
      "25 -> 27;\n",
      "27 -> 28;\n",
      "27 -> 29;\n",
      "21 -> 30;\n",
      "30 -> 31;\n",
      "30 -> 32;\n",
      "21 -> 33;\n",
      "33 -> 34;\n",
      "33 -> 35;\n",
      "36 -> 0;\n",
      "37 -> 0;\n",
      "38 -> 0; \n",
      "}\n"
     ]
    },
    {
     "data": {
      "text/plain": [
       "'Source.gv.pdf'"
      ]
     },
     "execution_count": 114,
     "metadata": {},
     "output_type": "execute_result"
    },
    {
     "name": "stderr",
     "output_type": "stream",
     "text": [
      "\n",
      "(process:272149): Gtk-WARNING **: 16:35:38.911: Locale not supported by C library.\n",
      "\tUsing the fallback 'C' locale.\n",
      "\n",
      "(evince:272149): Gtk-WARNING **: 16:35:38.955: Theme parsing error: gtk-keys.css:1:0: Failed to import: Error opening file /snap/code/134/usr/share/themes/Default/gtk-3.0/gtk-keys.css: Permission denied\n",
      "Gtk-Message: 16:35:38.955: Failed to load module \"canberra-gtk-module\"\n",
      "Gtk-Message: 16:35:38.957: Failed to load module \"canberra-gtk-module\"\n",
      "/home/wasit/snap/code/common/.cache/gio-modules/libdconfsettings.so: cannot open shared object file: Permission denied\n",
      "Failed to load module: /home/wasit/snap/code/common/.cache/gio-modules/libdconfsettings.so\n"
     ]
    }
   ],
   "source": [
    "prompt=f\"\"\"\n",
    "I want you to act as a Graphviz DOT generator, an expert to create meaningful diagrams. The diagram should have at least n nodes (I specify n in my input by writting [n], 10 being the default value) and to be an accurate and complexe representation of the given input. Each node is indexed by a number to reduce the size of the output, should not include any styling, and with layout=neato, overlap=false, node [shape=rectangle] as parameters. The code should be valid, bugless and returned on a single line, without any explanation. Provide a clear and organized diagram, the relationships between the nodes have to make sense for an expert of that input. My first diagram is the following plan:\n",
    "\n",
    "Plan:\n",
    "{plan}\n",
    "\n",
    "## output\n",
    "dot file for displaying in jupyter notebook\n",
    "\"\"\"\n",
    "\n",
    "dot=openai(prompt)\n",
    "print(dot)\n",
    "import graphviz \n",
    "from IPython.display import display\n",
    "gvz=graphviz.Source(dot)\n",
    "# display(gvz,s)\n",
    "gvz.render(view=True)"
   ]
  },
  {
   "cell_type": "code",
   "execution_count": null,
   "id": "0e12fd8b",
   "metadata": {},
   "outputs": [],
   "source": []
  },
  {
   "cell_type": "code",
   "execution_count": null,
   "id": "58de9b6f",
   "metadata": {},
   "outputs": [],
   "source": []
  }
 ],
 "metadata": {
  "kernelspec": {
   "display_name": "Python 3 (ipykernel)",
   "language": "python",
   "name": "python3"
  },
  "language_info": {
   "codemirror_mode": {
    "name": "ipython",
    "version": 3
   },
   "file_extension": ".py",
   "mimetype": "text/x-python",
   "name": "python",
   "nbconvert_exporter": "python",
   "pygments_lexer": "ipython3",
   "version": "3.8.16"
  }
 },
 "nbformat": 4,
 "nbformat_minor": 5
}
