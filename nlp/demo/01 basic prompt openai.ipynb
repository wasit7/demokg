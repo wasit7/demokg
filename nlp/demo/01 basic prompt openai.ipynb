{
 "cells": [
  {
   "cell_type": "code",
   "execution_count": 63,
   "id": "226ec403",
   "metadata": {},
   "outputs": [],
   "source": [
    "import os\n",
    "from dotenv import load_dotenv\n",
    "from langchain.llms import OpenAI\n",
    "# load .env file\n",
    "load_dotenv('../.env')\n",
    "\n",
    "# initialize the models\n",
    "openai = OpenAI(\n",
    "#     model_name=\"text-davinci-003\",\n",
    "    model_name=\"gpt-3.5-turbo-16k\",\n",
    "    openai_api_key= os.getenv(\"OPENAI_API_KEY\"),\n",
    "    temperature=0.9,\n",
    "    max_tokens=4096\n",
    ")"
   ]
  },
  {
   "cell_type": "code",
   "execution_count": 54,
   "id": "bb110f2f",
   "metadata": {},
   "outputs": [
    {
     "data": {
      "text/plain": [
       "'blue during the day and black at night.'"
      ]
     },
     "execution_count": 54,
     "metadata": {},
     "output_type": "execute_result"
    }
   ],
   "source": [
    "openai(\"The sky is\")"
   ]
  },
  {
   "cell_type": "code",
   "execution_count": 55,
   "id": "1f0364fb",
   "metadata": {},
   "outputs": [
    {
     "name": "stdout",
     "output_type": "stream",
     "text": [
      "blue.\n"
     ]
    }
   ],
   "source": [
    "prompt=\"\"\"\n",
    "The sky is\n",
    "\"\"\"\n",
    "\n",
    "print(openai(prompt))"
   ]
  },
  {
   "cell_type": "markdown",
   "id": "9d9ad51c",
   "metadata": {},
   "source": [
    "## Instruction"
   ]
  },
  {
   "cell_type": "code",
   "execution_count": 56,
   "id": "99857478",
   "metadata": {},
   "outputs": [
    {
     "name": "stdout",
     "output_type": "stream",
     "text": [
      "blue during the day and filled with stars at night.\n"
     ]
    }
   ],
   "source": [
    "prompt=\"\"\"\n",
    "Complete the sentence: \n",
    "\n",
    "The sky is\n",
    "\"\"\"\n",
    "print(openai(prompt))"
   ]
  },
  {
   "cell_type": "code",
   "execution_count": 57,
   "id": "b1fa94d5",
   "metadata": {},
   "outputs": [
    {
     "name": "stdout",
     "output_type": "stream",
     "text": [
      "a vast expanse of limitless possibilities. It stretches across the horizon, displaying a mesmerizing array of colors, from the tranquil blues of day to the vibrant oranges and pinks of dawn and dusk. The sky is a canvas on which nature paints its most breathtaking masterpieces, with fluffy white clouds forming whimsical shapes that ignite our imagination. It is a sanctuary for birds, their graceful flight providing an awe-inspiring spectacle, reminding us of the freedom and boundless potential that exists in the world. The sky is a source of inspiration, a constant reminder of the vastness and beauty of the universe. It holds within it the mysteries of distant galaxies and sparkling stars, reminding us of our place in the cosmos. The sky is an ever-changing backdrop to our lives, symbolizing the passage of time as the sun rises and sets, and the moon and stars illuminate the night. It is a source of solace and comfort, offering a sense of peace and tranquility as we gaze up at its vastness, finding perspective in our worries and stresses. The sky is a universal presence, connecting people from all corners of the Earth, as we all share the same view above us. It is a reminder that, despite our differences, we are all part of something much greater. The sky is a reflection of our emotions, mirroring our joy, sadness, and everything in between. It can be a clear blue canvas on a sunny day, lifting our spirits and filling us with happiness, or it can be dark and stormy, echoing our inner turmoil and turmoil. Ultimately, the sky is a symbol of hope and endless possibilities. As we look up at its vastness, we are reminded that there is always something greater out there, waiting to be explored and discovered. The sky is a constant reminder that, no matter what challenges we face, there is always a world of beauty and wonder just beyond our reach.\n"
     ]
    }
   ],
   "source": [
    "prompt=\"\"\"\n",
    "Complete the sentence with more than 100 words: \n",
    "\n",
    "The sky is\n",
    "\"\"\"\n",
    "print(openai(prompt))"
   ]
  },
  {
   "cell_type": "markdown",
   "id": "c7edcd2f",
   "metadata": {},
   "source": [
    "## giving examples (few-shot)"
   ]
  },
  {
   "cell_type": "code",
   "execution_count": 58,
   "id": "90e3a769",
   "metadata": {},
   "outputs": [
    {
     "name": "stdout",
     "output_type": "stream",
     "text": [
      "The sentiment of the statement is positive.\n"
     ]
    }
   ],
   "source": [
    "prompt=\"\"\"\n",
    "Analyze the sentiment of the following statement:\n",
    "\n",
    "I am feeling happy and excited about the upcoming event.\n",
    "\"\"\"\n",
    "print(openai(prompt))"
   ]
  },
  {
   "cell_type": "code",
   "execution_count": 59,
   "id": "1844932a",
   "metadata": {},
   "outputs": [
    {
     "name": "stderr",
     "output_type": "stream",
     "text": [
      "Retrying langchain.llms.openai.completion_with_retry.<locals>._completion_with_retry in 4.0 seconds as it raised APIConnectionError: Error communicating with OpenAI: ('Connection aborted.', ConnectionResetError(104, 'Connection reset by peer')).\n"
     ]
    },
    {
     "name": "stdout",
     "output_type": "stream",
     "text": [
      "Negative\n"
     ]
    }
   ],
   "source": [
    "prompt=\"\"\"\n",
    "This is awesome! // Positive\n",
    "This is bad! // Negative\n",
    "Wow that movie was rad! // Positive\n",
    "What a horrible show! //\n",
    "\"\"\"\n",
    "print(openai(prompt))"
   ]
  },
  {
   "cell_type": "code",
   "execution_count": 61,
   "id": "af123ed3",
   "metadata": {},
   "outputs": [
    {
     "name": "stdout",
     "output_type": "stream",
     "text": [
      "กิจกรรมจับคู่เจรจาธุรกิจออนไลน์ (Online Business Matching) จะถูกจัดขึ้นใน 6 ภูมิภาค รวมถึงอเมริกา, ลาตินอเมริกา, ยุโรป, CIS, แอฟริกา และตะวันออกกลาง โดยมีการสนับสนุนจากสำนักพัฒนาตลาดและธุรกิจไทยในต่างประเทศ 2 กรมส่งเสริมการค้าระหว่างประเทศ\n"
     ]
    }
   ],
   "source": [
    "prompt=\"\"\"\n",
    "Generate a concise summary of a given article.\n",
    "Please provide a brief summary of the following article in Thai:\n",
    "\n",
    "ขอเชิญผู้ประกอบการหรือผู้ที่สนใจเข้าสมัครร่วมกิจกรรมจับคู่เจรจาธุรกิจออนไลน์ (Online Business Matching) เป็นโอกาสที่ไม่ควรพลาดในการเปิดตลาดเจรจาการค้า ผ่านระบบออนไลน์ ใน 6 ภูมิภาค ได้แก่ ภูมิภาคอเมริกา ลาตินอเมริกา ยุโรป CIS แอฟริกา และตะวันออกกลาง จัดโดย สำนักพัฒนาตลาดและธุรกิจไทยในต่างประเทศ 2 กรมส่งเสริมการค้าระหว่างประเทศ\n",
    "\"\"\"\n",
    "print(openai(prompt))"
   ]
  },
  {
   "cell_type": "code",
   "execution_count": 64,
   "id": "02f0695f",
   "metadata": {},
   "outputs": [
    {
     "name": "stdout",
     "output_type": "stream",
     "text": [
      "\"Don't miss the opportunity to expand your market through online business matching, a vital event for entrepreneurs and those interested in international trade across the Americas, Europe, CIS, Africa, and the Middle East, organized by the Department of International Trade Promotion and the Department of Business Development.\"\n"
     ]
    }
   ],
   "source": [
    "prompt=\"\"\"\n",
    "Create an engaging and meaningful short-one-liner the following article:\n",
    "\n",
    "ขอเชิญผู้ประกอบการหรือผู้ที่สนใจเข้าสมัครร่วมกิจกรรมจับคู่เจรจาธุรกิจออนไลน์ (Online Business Matching) เป็นโอกาสที่ไม่ควรพลาดในการเปิดตลาดเจรจาการค้า ผ่านระบบออนไลน์ ใน 6 ภูมิภาค ได้แก่ ภูมิภาคอเมริกา ลาตินอเมริกา ยุโรป CIS แอฟริกา และตะวันออกกลาง จัดโดย สำนักพัฒนาตลาดและธุรกิจไทยในต่างประเทศ 2 กรมส่งเสริมการค้าระหว่างประเทศ\n",
    "\"\"\"\n",
    "print(openai(prompt))"
   ]
  },
  {
   "cell_type": "code",
   "execution_count": 26,
   "id": "9d0014ce",
   "metadata": {},
   "outputs": [
    {
     "name": "stdout",
     "output_type": "stream",
     "text": [
      "Inviting entrepreneurs or interested individuals to participate in the Online Business Matching activity, which is an opportunity not to be missed in opening up trade negotiations through online platforms in 6 regions including North America, Latin America, Europe, CIS, Africa, and the Middle East. This event is organized by the Department of International Trade Promotion and the Department of Business Development, Thai Ministry of Commerce.\n"
     ]
    }
   ],
   "source": [
    "prompt=\"\"\"\n",
    "Translate a given English text to English.\n",
    "Translate the following English text to English:\n",
    "\n",
    "ขอเชิญผู้ประกอบการหรือผู้ที่สนใจเข้าสมัครร่วมกิจกรรมจับคู่เจรจาธุรกิจออนไลน์ (Online Business Matching) เป็นโอกาสที่ไม่ควรพลาดในการเปิดตลาดเจรจาการค้า ผ่านระบบออนไลน์ ใน 6 ภูมิภาค ได้แก่ ภูมิภาคอเมริกา ลาตินอเมริกา ยุโรป CIS แอฟริกา และตะวันออกกลาง จัดโดย สำนักพัฒนาตลาดและธุรกิจไทยในต่างประเทศ 2 กรมส่งเสริมการค้าระหว่างประเทศ\n",
    "\"\"\"\n",
    "print(openai(prompt))"
   ]
  },
  {
   "cell_type": "markdown",
   "id": "e5360884",
   "metadata": {},
   "source": [
    "## Act as a Salesperson"
   ]
  },
  {
   "cell_type": "code",
   "execution_count": 27,
   "id": "8566933e",
   "metadata": {},
   "outputs": [
    {
     "name": "stdout",
     "output_type": "stream",
     "text": [
      "สวัสดีครับ/ค่ะ ผมพร้อมที่จะแนะนำกิจกรรมพิเศษสำหรับผู้ประกอบการและผู้ที่สนใจในการขยายตลาดธุรกิจออนไลน์ และนักลงทุนทุกท่าน กิจกรรมที่ผมต้องการแนะนำเป็นกิจกรรม \"จับคู่เจรจาธุรกิจออนไลน์\" ที่จะเกิดขึ้นในระบบออนไลน์ ใน 6 ภูมิภาคที่สำคัญ ได้แก่ ภูมิภาคอเมริกา ลาตินอเมริกา ยุโรป CIS แอฟริกา และตะวันออกกลาง งานนี้จัดโดยสำนักพัฒนาตลาดและธุรกิจไทยในต่างประเทศ 2 กรมส่งเสริมการค้าระหว่างประเทศ\n",
      "\n",
      "นี่เป็นโอกาสที่คุณไม่ควรพลาด เพราะกิจกรรมนี้จะช่วยให้คุณเชื่อมโยงและสร้างความสัมพันธ์กับผู้ประกอบการที่มีความสนใจธุรกิจเหมือนคุณจากทั่วโลก ไม่ว่าคุณจะมีธุรกิจในแดนใด กิจกรรมนี้จะมีการจับคู่คุณกับคู่ค้าที่มีความสนใจในสินค้าหรือบริการของคุณ \n",
      "\n",
      "นอกจากนี้ คุณยังมีโอกาสได้สร้างรายได้เสริมจากการต่อรองทางธุรกิจและการประสานงานกับคู่ค้าใหม่ๆ ที่คุณได้พบในกิจกรรมนี้ ทั้งนี้ยังไม่รวมถึงเส้นทางและโอกาสในการขยายธุรกิจของคุณออกไปสู่ตลาดระหว่างประเทศ ที่คุณอาจไม่เคยคิดหรือมองเห็นมาก่อน\n",
      "\n",
      "นอกจากนี้เรายังมีการจัดสัมมนาและการบรรยายจากผู้เชี่ยวชาญในวงการธุรกิจออนไลน์ เพื่อเพิ่มพูนความรู้และทักษะในการทำธุรกิจออนไลน์ของคุณอีกด้วย\n",
      "\n",
      "ดังนั้น ผมขอเชิญคุณร่วมกิจกรรม \"จับคู่เจรจาธุรกิจออนไลน์\" เพื่อตอบสนองความต้องการของคุณในการขยายธุรกิจออนไลน์และสร้างความสัมพันธ์ใหม่ๆ ที่จะเป็นก้าวสำคัญในการเติบโตของธุรกิจของคุณครับ/ค่ะ\n",
      "\n",
      "มีคำถามเพิ่มเติมหรือต้องการข้อมูลเพิ่มเติมเกี่ยวกับกิจกรรมไหมครับ/ค่ะ?\n"
     ]
    }
   ],
   "source": [
    "prompt=\"\"\"\n",
    "I want you to act as a salesperson. Try to market the following event to me, but make what you're trying to market look more valuable than it is and convince me to buy it. Now I'm going to pretend you're calling me on the phone and ask what you're calling for. Hello, what did you call for?\n",
    "\n",
    "ขอเชิญผู้ประกอบการหรือผู้ที่สนใจเข้าสมัครร่วมกิจกรรมจับคู่เจรจาธุรกิจออนไลน์ (Online Business Matching) เป็นโอกาสที่ไม่ควรพลาดในการเปิดตลาดเจรจาการค้า ผ่านระบบออนไลน์ ใน 6 ภูมิภาค ได้แก่ ภูมิภาคอเมริกา ลาตินอเมริกา ยุโรป CIS แอฟริกา และตะวันออกกลาง จัดโดย สำนักพัฒนาตลาดและธุรกิจไทยในต่างประเทศ 2 กรมส่งเสริมการค้าระหว่างประเทศ\n",
    "\"\"\"\n",
    "print(openai(prompt))"
   ]
  },
  {
   "cell_type": "markdown",
   "id": "8e0cb483",
   "metadata": {},
   "source": [
    "## Elements of a Prompt\n",
    "\n",
    "As we cover more and more examples and applications with prompt engineering, you will notice that certain elements make up a prompt.\n",
    "\n",
    "A prompt contains any of the following elements:\n",
    "\n",
    "* **Instruction** - a specific task or instruction you want the model to perform\n",
    "\n",
    "* **Context** - external information or additional context that can steer the model to better responses\n",
    "\n",
    "* **Input Data** - the input or question that we are interested to find a response for\n",
    "\n",
    "* **Output Indicator** - the type or format of the output."
   ]
  },
  {
   "cell_type": "markdown",
   "id": "d3772010",
   "metadata": {},
   "source": [
    "## Act as a Chief Executive Officer\n",
    "\n"
   ]
  },
  {
   "cell_type": "code",
   "execution_count": 65,
   "id": "b0c6258a",
   "metadata": {},
   "outputs": [
    {
     "name": "stdout",
     "output_type": "stream",
     "text": [
      "Sure, I can help you organize the event. Here's a plan for the Online Business Matching event:\n",
      "\n",
      "1. Determine the number of participants: Gather information on the expected number of participants from each region (Americas, Latin America, Europe, CIS, Africa, and the Middle East). This will help in resource allocation and planning.\n",
      "\n",
      "2. Allocate resources: Based on the number of participants, allocate resources such as virtual meeting platforms, IT infrastructure, and technical support to ensure smooth online business matching sessions.\n",
      "\n",
      "3. Choose a suitable online platform: Select a reliable and secure online platform for the event that allows for seamless communication and interaction between participants. Ensure that the platform can handle the expected number of participants and has features like chat, video conferencing, and document sharing.\n",
      "\n",
      "4. Provide clear instructions to participants: Send detailed instructions to participants on how to register, access the online platform, and schedule business matching sessions. Provide guidelines on how to make effective use of the platform during the event.\n",
      "\n",
      "5. Arrange transportation facilities: Since this is an online event, physical transportation may not be required. However, consider providing technical support for participants who may face connectivity issues or require assistance in setting up their devices.\n",
      "\n",
      "6. Catering services: As this is an online event, catering services may not be necessary. However, ensure that participants have access to refreshments and breaks during the event. Provide suggestions on snack options that participants can prepare in advance.\n",
      "\n",
      "7. Safety concerns and risk mitigation: Address potential safety concerns related to online security and data privacy. Implement measures such as secure login procedures, data encryption, and secure payment gateways to protect participants' information. Provide guidelines on how to identify and report any suspicious activities during the event.\n",
      "\n",
      "8. Schedule and agenda: Prepare a detailed schedule and agenda for the event, including the timing and duration of business matching sessions, keynote speeches, panel discussions, and networking opportunities. Share this schedule with participants in advance.\n",
      "\n",
      "9. Networking opportunities: Facilitate networking opportunities for participants by organizing virtual networking sessions or discussion forums. Encourage participants to exchange contact information and continue their conversations after the event.\n",
      "\n",
      "10. Evaluation and feedback: Collect feedback from participants after the event to assess its success and identify areas for improvement. Use this feedback to make necessary adjustments for future events.\n",
      "\n",
      "Remember to plan and communicate everything in advance to ensure a successful Online Business Matching event.\n"
     ]
    }
   ],
   "source": [
    "prompt=\"\"\"\n",
    "## instruction\n",
    "I want you to act as a logistician. I will provide you with details on an upcoming event in thai, such as the number of people attending, the location, and other relevant factors. Your role is to develop an efficient logistical plan for the event (Online Business Matching) that takes into account allocating resources beforehand, transportation facilities, catering services etc. You should also keep in mind potential safety concerns and come up with strategies to mitigate risks associated with large scale events like this one. \n",
    "\n",
    "##context\n",
    "ขอเชิญผู้ประกอบการหรือผู้ที่สนใจเข้าสมัครร่วมกิจกรรมจับคู่เจรจาธุรกิจออนไลน์ (Online Business Matching) เป็นโอกาสที่ไม่ควรพลาดในการเปิดตลาดเจรจาการค้า ผ่านระบบออนไลน์ ใน 6 ภูมิภาค ได้แก่ ภูมิภาคอเมริกา ลาตินอเมริกา ยุโรป CIS แอฟริกา และตะวันออกกลาง จัดโดย สำนักพัฒนาตลาดและธุรกิจไทยในต่างประเทศ 2 กรมส่งเสริมการค้าระหว่างประเทศ\n",
    "\n",
    "## input\n",
    "My first request is \"I need help organizing the given event\"\n",
    "\n",
    "## output\n",
    "please write a plan in english\n",
    "\"\"\"\n",
    "\n",
    "plan=openai(prompt)\n",
    "print(plan)"
   ]
  },
  {
   "cell_type": "code",
   "execution_count": 66,
   "id": "b61e2b31",
   "metadata": {},
   "outputs": [
    {
     "name": "stdout",
     "output_type": "stream",
     "text": [
      "digraph G {\n",
      "  layout=neato;\n",
      "  overlap=false;\n",
      "  node [shape=rectangle];\n",
      "  \n",
      "  // Main tasks\n",
      "  1 [label=\"Determine the number of participants\"];\n",
      "  2 [label=\"Allocate resources\"];\n",
      "  3 [label=\"Choose a suitable online platform\"];\n",
      "  4 [label=\"Provide clear instructions to participants\"];\n",
      "  5 [label=\"Arrange transportation facilities\"];\n",
      "  6 [label=\"Catering services\"];\n",
      "  7 [label=\"Safety concerns and risk mitigation\"];\n",
      "  8 [label=\"Schedule and agenda\"];\n",
      "  9 [label=\"Networking opportunities\"];\n",
      "  10 [label=\"Evaluation and feedback\"];\n",
      "  \n",
      "  // Subtasks\n",
      "  11 [label=\"Gather information on the expected number of participants\"];\n",
      "  12 [label=\"Allocate virtual meeting platforms\"];\n",
      "  13 [label=\"Select a reliable and secure online platform\"];\n",
      "  14 [label=\"Send detailed instructions to participants\"];\n",
      "  15 [label=\"Provide technical support for connectivity issues\"];\n",
      "  16 [label=\"Ensure participants have access to refreshments\"];\n",
      "  17 [label=\"Address potential safety concerns\"];\n",
      "  18 [label=\"Prepare a detailed schedule and agenda\"];\n",
      "  19 [label=\"Facilitate virtual networking sessions\"];\n",
      "  20 [label=\"Collect feedback from participants\"];\n",
      "  \n",
      "  // Relationships\n",
      "  1 -> 11;\n",
      "  2 -> 12;\n",
      "  3 -> 13;\n",
      "  4 -> 14;\n",
      "  5 -> 15;\n",
      "  6 -> 16;\n",
      "  7 -> 17;\n",
      "  8 -> 18;\n",
      "  9 -> 19;\n",
      "  10 -> 20;\n",
      "  1 -> 2;\n",
      "  2 -> 3;\n",
      "  2 -> 4;\n",
      "  5 -> 15;\n",
      "  6 -> 16;\n",
      "  7 -> 17;\n",
      "  8 -> 18;\n",
      "  8 -> 9;\n",
      "  9 -> 19;\n",
      "  10 -> 20;\n",
      "}\n"
     ]
    },
    {
     "data": {
      "text/plain": [
       "'Source.gv.pdf'"
      ]
     },
     "execution_count": 66,
     "metadata": {},
     "output_type": "execute_result"
    },
    {
     "name": "stderr",
     "output_type": "stream",
     "text": [
      "\n",
      "(process:656548): Gtk-WARNING **: 15:40:33.604: Locale not supported by C library.\n",
      "\tUsing the fallback 'C' locale.\n",
      "\n",
      "(evince:656548): Gtk-WARNING **: 15:40:33.656: Theme parsing error: gtk-keys.css:1:0: Failed to import: Error opening file /snap/code/132/usr/share/themes/Default/gtk-3.0/gtk-keys.css: Permission denied\n",
      "Gtk-Message: 15:40:33.656: Failed to load module \"canberra-gtk-module\"\n",
      "Gtk-Message: 15:40:33.667: Failed to load module \"canberra-gtk-module\"\n"
     ]
    }
   ],
   "source": [
    "prompt=f\"\"\"\n",
    "I want you to act as a Graphviz DOT generator, an expert to create meaningful diagrams. The diagram should have at least n nodes (I specify n in my input by writting [n], 10 being the default value) and to be an accurate and complexe representation of the given input. Each node is indexed by a number to reduce the size of the output, should not include any styling, and with layout=neato, overlap=false, node [shape=rectangle] as parameters. The code should be valid, bugless and returned on a single line, without any explanation. Provide a clear and organized diagram, the relationships between the nodes have to make sense for an expert of that input. My first diagram is the following plan:\n",
    "\n",
    "plan:\n",
    "{plan}\n",
    "\n",
    "## output\n",
    "a pert chart with a single starting point contanining main tasks (level 1) and subtasks (level 2) in work breakdown structure\n",
    "the pert chat represented by a dot file for displaying in jupyter notebook\n",
    "\"\"\"\n",
    "\n",
    "dot=openai(prompt)\n",
    "print(dot)\n",
    "import graphviz \n",
    "from IPython.display import display\n",
    "gvz=graphviz.Source(dot)\n",
    "# display(gvz,s)\n",
    "gvz.render(view=True)"
   ]
  },
  {
   "cell_type": "code",
   "execution_count": 67,
   "id": "c4daf820",
   "metadata": {},
   "outputs": [
    {
     "name": "stdout",
     "output_type": "stream",
     "text": [
      "แผนการจัดการงานกิจกรรม\n",
      "\n",
      "1. กำหนดวัตถุประสงค์ของงาน: กำหนดวัตถุประสงค์ที่ชัดเจนให้กับงานเพื่อให้ผู้เข้าร่วมงานเข้าใจและสามารถใช้ประโยชน์ได้อย่างแท้จริง\n",
      "\n",
      "2. วางแผนการจัดการทรัพยากร: ประเมินและวางแผนการใช้ทรัพยากรที่เหมาะสม เช่น พื้นที่จัดงาน อุปกรณ์เสริม การจัดการเจ้าหน้าที่ ฯลฯ เพื่อให้งานเป็นไปตามที่วางแผนไว้\n",
      "\n",
      "3. การจัดสถานที่: เลือกสถานที่ที่เหมาะสมกับงานกิจกรรม โดยคำนึงถึงความสะดวกสบายของผู้เข้าร่วม การติดต่อสื่อสาร และความปลอดภัย\n",
      "\n",
      "4. การจัดการการเดินทาง: ให้เราท์บัสที่สะดวกและให้บริการที่ดีสำหรับผู้เข้าร่วมงาน รวมถึงการจัดหาที่จอดรถให้กับผู้เข้าร่วมงานที่มีรถส่วนตัว\n",
      "\n",
      "5. การจัดบริการอาหาร: ประเมินจำนวนผู้เข้าร่วมงานและวางแผนการจัดบริการอาหารให้เหมาะสม ซึ่งสามารถรองรับความต้องการของผู้เข้าร่วมงานได้\n",
      "\n",
      "6. แผนการจัดการความปลอดภัย: วางแผนการควบคุมและบริหารจัดการความปลอดภัยของงาน รวมถึงการตรวจสอบและทดสอบระบบสำรองเพื่อให้แน่ใจว่ามีมาตรการที่เพียงพอในกรณีฉุกเฉิน\n",
      "\n",
      "7. การติดต่อสื่อสาร: ใช้ช่องทางการสื่อสารที่เหมาะสม เช่น อีเมลล์ โทรศัพท์ และสื่อสังคมออนไลน์ เพื่อแจ้งข้อมูลและเพิ่มความสะดวกสบายให้กับผู้เข้าร่วมงาน\n",
      "\n",
      "8. การตรวจสอบ: ก่อนงานเริ่มต้น ควรตรวจสอบรายละเอียดแผนงานการจัดงานทุกอย่างอีกครั้งเพื่อให้แน่ใจว่าทุกสิ่งที่จำเป็นสำหรับงานถูกต้องและพร้อมใช้งาน\n",
      "\n",
      "9. การนำเสนองาน: วางแผนการนำเสนองานให้เป็นระเบียบเรียบร้อย ใช้สื่อต่างๆ เช่น สไลด์โชว์ วีดีโอ หรืองานศิลปะเพื่อสร้างความประทับใจและให้ผู้เข้าร่วมงานได้รับข้อมูลที่ชัดเจน\n",
      "\n",
      "10. การติดตามผล: หลังจากงานสิ้นสุดลง ควรติดตามผลและประเมินผลการจัดการงาน เพื่อวางแผนการปรับปรุงและพัฒนางานในครั้งถัดไป\n"
     ]
    }
   ],
   "source": [
    "prompt=\"\"\"\n",
    "## instruction\n",
    "I want you to act as a logistician. I will provide you with details on an upcoming event in thai, such as the number of people attending, the location, and other relevant factors. Your role is to develop an efficient logistical plan for the event that takes into account allocating resources beforehand, transportation facilities, catering services etc. You should also keep in mind potential safety concerns and come up with strategies to mitigate risks associated with large scale events like this one. \n",
    "\n",
    "##context\n",
    "ขอเชิญผู้ประกอบการหรือผู้ที่สนใจเข้าสมัครร่วมกิจกรรมจับคู่เจรจาธุรกิจออนไลน์ (Online Business Matching) เป็นโอกาสที่ไม่ควรพลาดในการเปิดตลาดเจรจาการค้า ผ่านระบบออนไลน์ ใน 6 ภูมิภาค ได้แก่ ภูมิภาคอเมริกา ลาตินอเมริกา ยุโรป CIS แอฟริกา และตะวันออกกลาง จัดโดย สำนักพัฒนาตลาดและธุรกิจไทยในต่างประเทศ 2 กรมส่งเสริมการค้าระหว่างประเทศ\n",
    "\n",
    "## input\n",
    "My first request is \"I need help organizing the given event\"\n",
    "\n",
    "## output\n",
    "please write a plan in thai\n",
    "\"\"\"\n",
    "\n",
    "plan=openai(prompt)\n",
    "print(plan)"
   ]
  },
  {
   "cell_type": "code",
   "execution_count": 69,
   "id": "6d9348cf",
   "metadata": {},
   "outputs": [
    {
     "name": "stdout",
     "output_type": "stream",
     "text": [
      "digraph plan {\n",
      "  layout=neato;\n",
      "  overlap=false;\n",
      "  node [shape=rectangle];\n",
      "  1 [label=\"1. กำหนดวัตถุประสงค์ของงาน\"];\n",
      "  2 [label=\"2. วางแผนการจัดการทรัพยากร\"];\n",
      "  3 [label=\"3. การจัดสถานที่\"];\n",
      "  4 [label=\"4. การจัดการการเดินทาง\"];\n",
      "  5 [label=\"5. การจัดบริการอาหาร\"];\n",
      "  6 [label=\"6. แผนการจัดการความปลอดภัย\"];\n",
      "  7 [label=\"7. การติดต่อสื่อสาร\"];\n",
      "  8 [label=\"8. การตรวจสอบ\"];\n",
      "  9 [label=\"9. การนำเสนองาน\"];\n",
      "  10 [label=\"10. การติดตามผล\"];\n",
      "  \n",
      "  1 -> 2;\n",
      "  1 -> 3;\n",
      "  2 -> 3;\n",
      "  2 -> 4;\n",
      "  3 -> 4;\n",
      "  3 -> 5;\n",
      "  4 -> 5;\n",
      "  5 -> 6;\n",
      "  6 -> 7;\n",
      "  7 -> 8;\n",
      "  8 -> 9;\n",
      "  9 -> 10;\n",
      "}\n"
     ]
    },
    {
     "data": {
      "text/plain": [
       "'Source.gv.pdf'"
      ]
     },
     "execution_count": 69,
     "metadata": {},
     "output_type": "execute_result"
    },
    {
     "name": "stderr",
     "output_type": "stream",
     "text": [
      "\n",
      "(process:658990): Gtk-WARNING **: 15:43:55.707: Locale not supported by C library.\n",
      "\tUsing the fallback 'C' locale.\n",
      "\n",
      "(evince:658990): Gtk-WARNING **: 15:43:55.752: Theme parsing error: gtk-keys.css:1:0: Failed to import: Error opening file /snap/code/132/usr/share/themes/Default/gtk-3.0/gtk-keys.css: Permission denied\n",
      "Gtk-Message: 15:43:55.752: Failed to load module \"canberra-gtk-module\"\n",
      "Gtk-Message: 15:43:55.766: Failed to load module \"canberra-gtk-module\"\n",
      "/home/wasit/snap/code/common/.cache/gio-modules/libdconfsettings.so: cannot open shared object file: Permission denied\n",
      "Failed to load module: /home/wasit/snap/code/common/.cache/gio-modules/libdconfsettings.so\n"
     ]
    }
   ],
   "source": [
    "prompt=f\"\"\"\n",
    "I want you to act as a Graphviz DOT generator, an expert to create meaningful diagrams. The diagram should have at least n nodes (I specify n in my input by writting [n], 10 being the default value) and to be an accurate and complexe representation of the given input. Each node is indexed by a number to reduce the size of the output, should not include any styling, and with layout=neato, overlap=false, node [shape=rectangle] as parameters. The code should be valid, bugless and returned on a single line, without any explanation. Provide a clear and organized diagram, the relationships between the nodes have to make sense for an expert of that input. My first diagram is the following plan:\n",
    "\n",
    "plan:\n",
    "{plan}\n",
    "\n",
    "## output\n",
    "dot file for displaying in jupyter notebook\n",
    "\"\"\"\n",
    "\n",
    "dot=openai(prompt)\n",
    "print(dot)\n",
    "import graphviz \n",
    "from IPython.display import display\n",
    "gvz=graphviz.Source(dot)\n",
    "# display(gvz,s)\n",
    "gvz.render(view=True)"
   ]
  },
  {
   "cell_type": "code",
   "execution_count": null,
   "id": "46221c75",
   "metadata": {},
   "outputs": [],
   "source": []
  },
  {
   "cell_type": "code",
   "execution_count": null,
   "id": "372e165b",
   "metadata": {},
   "outputs": [],
   "source": []
  },
  {
   "cell_type": "code",
   "execution_count": null,
   "id": "0e12fd8b",
   "metadata": {},
   "outputs": [],
   "source": []
  }
 ],
 "metadata": {
  "kernelspec": {
   "display_name": "Python 3 (ipykernel)",
   "language": "python",
   "name": "python3"
  },
  "language_info": {
   "codemirror_mode": {
    "name": "ipython",
    "version": 3
   },
   "file_extension": ".py",
   "mimetype": "text/x-python",
   "name": "python",
   "nbconvert_exporter": "python",
   "pygments_lexer": "ipython3",
   "version": "3.8.16"
  }
 },
 "nbformat": 4,
 "nbformat_minor": 5
}
