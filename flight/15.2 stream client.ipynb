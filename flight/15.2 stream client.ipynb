{
 "cells": [
  {
   "cell_type": "code",
   "execution_count": 1,
   "id": "66008aab",
   "metadata": {},
   "outputs": [],
   "source": [
    "import pyarrow as pa\n",
    "import pyarrow.flight\n",
    "\n",
    "# client = pa.flight.connect(\"grpc://0.0.0.0:8815\")\n",
    "client = pa.flight.connect(location='grpc://192.168.24.90:8816')\n",
    "\n",
    "# Upload a new dataset\n",
    "NUM_BATCHES = 1024\n",
    "ROWS_PER_BATCH = 4096\n",
    "upload_descriptor = pa.flight.FlightDescriptor.for_path(\"streamed.parquet\")\n",
    "batch = pa.record_batch([\n",
    "    pa.array(range(ROWS_PER_BATCH)),\n",
    "], names=[\"ints\"])\n",
    "writer, _ = client.do_put(upload_descriptor, batch.schema)\n",
    "with writer:\n",
    "    for _ in range(NUM_BATCHES):\n",
    "        writer.write_batch(batch)"
   ]
  },
  {
   "cell_type": "code",
   "execution_count": 7,
   "id": "6e2af41d",
   "metadata": {},
   "outputs": [
    {
     "name": "stdout",
     "output_type": "stream",
     "text": [
      "<pyarrow.flight.FlightInfo schema=ints: int64 descriptor=<pyarrow.flight.FlightDescriptor path=[b'streamed.parquet']> endpoints=[<pyarrow.flight.FlightEndpoint ticket=<pyarrow.flight.Ticket ticket=b'streamed.parquet'> locations=[<pyarrow.flight.Location b'grpc://0.0.0.0:8816'>]>] total_records=4194304 total_bytes=796>\n"
     ]
    }
   ],
   "source": [
    "for i in client.list_flights():\n",
    "    print(i)"
   ]
  },
  {
   "cell_type": "code",
   "execution_count": 6,
   "id": "5635b9df",
   "metadata": {},
   "outputs": [
    {
     "name": "stdout",
     "output_type": "stream",
     "text": [
      "Got 4194304 rows total, expected 4194304\n"
     ]
    }
   ],
   "source": [
    "# Read content of the dataset\n",
    "flight = client.get_flight_info(upload_descriptor)\n",
    "reader = client.do_get(flight.endpoints[0].ticket)\n",
    "total_rows = 0\n",
    "for chunk in reader:\n",
    "    total_rows += chunk.data.num_rows\n",
    "print(\"Got\", total_rows, \"rows total, expected\", NUM_BATCHES * ROWS_PER_BATCH)"
   ]
  },
  {
   "cell_type": "code",
   "execution_count": null,
   "id": "4caafe9f",
   "metadata": {},
   "outputs": [],
   "source": []
  },
  {
   "cell_type": "code",
   "execution_count": null,
   "id": "b6def11a",
   "metadata": {},
   "outputs": [],
   "source": []
  }
 ],
 "metadata": {
  "kernelspec": {
   "display_name": "Python 3 (ipykernel)",
   "language": "python",
   "name": "python3"
  },
  "language_info": {
   "codemirror_mode": {
    "name": "ipython",
    "version": 3
   },
   "file_extension": ".py",
   "mimetype": "text/x-python",
   "name": "python",
   "nbconvert_exporter": "python",
   "pygments_lexer": "ipython3",
   "version": "3.8.16"
  }
 },
 "nbformat": 4,
 "nbformat_minor": 5
}
